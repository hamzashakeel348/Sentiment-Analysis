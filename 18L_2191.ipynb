{
  "nbformat": 4,
  "nbformat_minor": 0,
  "metadata": {
    "colab": {
      "name": "18L-2191",
      "provenance": [],
      "collapsed_sections": []
    },
    "kernelspec": {
      "name": "python3",
      "display_name": "Python 3"
    },
    "language_info": {
      "name": "python"
    }
  },
  "cells": [
    {
      "cell_type": "code",
      "execution_count": 1,
      "metadata": {
        "colab": {
          "base_uri": "https://localhost:8080/"
        },
        "id": "z1UCf4NrOa06",
        "outputId": "31af8afe-7385-4ea8-db89-23b141401b07"
      },
      "outputs": [
        {
          "output_type": "stream",
          "name": "stdout",
          "text": [
            "[nltk_data] Downloading package stopwords to /root/nltk_data...\n",
            "[nltk_data]   Unzipping corpora/stopwords.zip.\n"
          ]
        },
        {
          "output_type": "execute_result",
          "data": {
            "text/plain": [
              "True"
            ]
          },
          "metadata": {},
          "execution_count": 1
        }
      ],
      "source": [
        "import pandas as pd\n",
        "import nltk\n",
        "import re\n",
        "import numpy as np\n",
        "from sklearn.feature_extraction.text import TfidfVectorizer\n",
        "from sklearn.feature_extraction.text import CountVectorizer\n",
        "from sklearn.model_selection import train_test_split\n",
        "from sklearn.metrics import accuracy_score\n",
        "from sklearn.metrics import precision_score\n",
        "from sklearn.metrics import recall_score\n",
        "from sklearn.metrics import f1_score\n",
        "from sklearn.ensemble import RandomForestClassifier\n",
        "from sklearn.datasets import make_classification\n",
        "from sklearn.linear_model import LogisticRegression\n",
        "from sklearn.multiclass import OneVsRestClassifier\n",
        "from nltk.corpus import stopwords\n",
        "from sklearn.naive_bayes import MultinomialNB\n",
        "from nltk.corpus import stopwords\n",
        "from sklearn.pipeline import make_pipeline\n",
        "from sklearn.preprocessing import StandardScaler\n",
        "from sklearn.datasets import load_digits\n",
        "from sklearn.linear_model import Perceptron\n",
        "from sklearn.svm import SVC\n",
        "nltk.download(\"stopwords\")"
      ]
    },
    {
      "cell_type": "code",
      "source": [
        "df=pd.read_csv(\"Sarcasm Dataset.csv\")"
      ],
      "metadata": {
        "id": "cPDaQwZ_S38x"
      },
      "execution_count": 2,
      "outputs": []
    },
    {
      "cell_type": "code",
      "source": [
        "Data = df[df[\"sarcastic\"] == 1]\n",
        "print(len(Data))"
      ],
      "metadata": {
        "colab": {
          "base_uri": "https://localhost:8080/"
        },
        "id": "OOyWgGxQLPKs",
        "outputId": "f21ec808-7b64-426c-f4e8-666a8fc7c12c"
      },
      "execution_count": 3,
      "outputs": [
        {
          "output_type": "stream",
          "name": "stdout",
          "text": [
            "867\n"
          ]
        }
      ]
    },
    {
      "cell_type": "code",
      "source": [
        "Multi_labels=Data[[\"sarcasm\", \"irony\", \"satire\", \"understatement\",\"overstatement\",\"rhetorical_question\"]].to_numpy()"
      ],
      "metadata": {
        "id": "tIbG1tlPLd56"
      },
      "execution_count": 4,
      "outputs": []
    },
    {
      "cell_type": "code",
      "source": [
        "df_New=Data[[\"tweet\",\"sarcastic\"]]\n",
        "Multi_tweets=df_New[\"tweet\"].apply(str).tolist()\n",
        "print(len(Multi_tweets))"
      ],
      "metadata": {
        "colab": {
          "base_uri": "https://localhost:8080/"
        },
        "id": "mYpmYXKLLhyq",
        "outputId": "3c05c1af-2cb6-4c80-e116-0c853d59ed54"
      },
      "execution_count": 5,
      "outputs": [
        {
          "output_type": "stream",
          "name": "stdout",
          "text": [
            "867\n"
          ]
        }
      ]
    },
    {
      "cell_type": "code",
      "source": [
        "df_One= df[[\"tweet\",\"sarcastic\"]]\n",
        "tweets=df_One[\"tweet\"].apply(str).tolist()\n",
        "labels=df_One[\"sarcastic\"].tolist()"
      ],
      "metadata": {
        "id": "A4AmMq3GT0oh"
      },
      "execution_count": 6,
      "outputs": []
    },
    {
      "cell_type": "code",
      "source": [
        "#@title Default title text\n",
        "#@title #@title\n",
        "# def remove_emoji(string):\n",
        "#     emoji_pattern = re.compile(\"[\"\n",
        "#                            u\"\\U0001F600-\\U0001F64F\"  # emoticons\n",
        "#                            u\"\\U0001F300-\\U0001F5FF\"  # symbols & pictographs\n",
        "#                            u\"\\U0001F680-\\U0001F6FF\"  # transport & map symbols\n",
        "#                            u\"\\U0001F1E0-\\U0001F1FF\"  # flags (iOS)\n",
        "#                            u\"\\U00002702-\\U000027B0\"\n",
        "#                            u\"\\U000024C2-\\U0001F251\"\n",
        "#                            \"]+\", flags=re.UNICODE)\n",
        "#     return emoji_pattern.sub(r'', string)\n",
        "\n",
        "def deEmojify(text):\n",
        "    regrex_pattern = re.compile(pattern = \"[\"\n",
        "    u\"\\u231A-\\u231B\"\n",
        "    u\"\\u23E9-\\u23EC\"\n",
        "    u\"\\u25FD-\\u25FE\"\n",
        "    u\"\\u2614-\\u2615\"\n",
        "    u\"\\u2648-\\u2653\"\n",
        "    u\"\\u26AA-\\u26AB\"\n",
        "    u\"\\u26BD-\\u26BE\"\n",
        "    u\"\\u26C4-\\u26C5\"\n",
        "    u\"\\u26F2-\\u26F3\"\n",
        "    u\"\\u270A-\\u270B\"\n",
        "    u\"\\u2753-\\u2755\"\n",
        "    u\"\\u2795-\\u2797\"\n",
        "    u\"\\u2B1B-\\u2B1C\"\n",
        "    u\"\\U0001F191-\\U0001F19A\"\n",
        "    u\"\\U0001F232-\\U0001F236\"\n",
        "    u\"\\U0001F238-\\U0001F23A\"\n",
        "    u\"\\U0001F250-\\U0001F251\"\n",
        "    u\"\\U0001F300-\\U0001F30C\"\n",
        "    u\"\\U0001F30D-\\U0001F30E\"\n",
        "    u\"\\U0001F313-\\U0001F315\"\n",
        "    u\"\\U0001F316-\\U0001F318\"\n",
        "    u\"\\U0001F31D-\\U0001F31E\"\n",
        "    u\"\\U0001F31F-\\U0001F320\"\n",
        "    u\"\\U0001F32D-\\U0001F32F\"\n",
        "    u\"\\U0001F330-\\U0001F331\"\n",
        "    u\"\\U0001F332-\\U0001F333\"\n",
        "    u\"\\U0001F334-\\U0001F335\"\n",
        "    u\"\\U0001F337-\\U0001F34A\"\n",
        "    u\"\\U0001F34C-\\U0001F34F\"\n",
        "    u\"\\U0001F351-\\U0001F37B\"\n",
        "    u\"\\U0001F37E-\\U0001F37F\"\n",
        "    u\"\\U0001F380-\\U0001F393\"\n",
        "    u\"\\U0001F3A0-\\U0001F3C4\"\n",
        "    u\"\\U0001F3CF-\\U0001F3D3\"\n",
        "    u\"\\U0001F3E0-\\U0001F3E3\"\n",
        "    u\"\\U0001F3E5-\\U0001F3F0\"\n",
        "    u\"\\U0001F3F8-\\U0001F407\"\n",
        "    u\"\\U0001F409-\\U0001F40B\"\n",
        "    u\"\\U0001F40C-\\U0001F40E\"\n",
        "    u\"\\U0001F40F-\\U0001F410\"\n",
        "    u\"\\U0001F411-\\U0001F412\"\n",
        "    u\"\\U0001F417-\\U0001F429\"\n",
        "    u\"\\U0001F42B-\\U0001F43E\"\n",
        "    u\"\\U0001F442-\\U0001F464\"\n",
        "    u\"\\U0001F466-\\U0001F46B\"\n",
        "    u\"\\U0001F46C-\\U0001F46D\"\n",
        "    u\"\\U0001F46E-\\U0001F4AC\"\n",
        "    u\"\\U0001F4AE-\\U0001F4B5\"\n",
        "    u\"\\U0001F4B6-\\U0001F4B7\"\n",
        "    u\"\\U0001F4B8-\\U0001F4EB\"\n",
        "    u\"\\U0001F4EC-\\U0001F4ED\"\n",
        "    u\"\\U0001F4F0-\\U0001F4F4\"\n",
        "    u\"\\U0001F4F6-\\U0001F4F7\"\n",
        "    u\"\\U0001F4F9-\\U0001F4FC\"\n",
        "    u\"\\U0001F4FF-\\U0001F502\"\n",
        "    u\"\\U0001F504-\\U0001F507\"\n",
        "    u\"\\U0001F50A-\\U0001F514\"\n",
        "    u\"\\U0001F516-\\U0001F52B\"\n",
        "    u\"\\U0001F52C-\\U0001F52D\"\n",
        "    u\"\\U0001F52E-\\U0001F53D\"\n",
        "    u\"\\U0001F54B-\\U0001F54E\"\n",
        "    u\"\\U0001F550-\\U0001F55B\"\n",
        "    u\"\\U0001F55C-\\U0001F567\"\n",
        "    u\"\\U0001F595-\\U0001F596\"\n",
        "    u\"\\U0001F5FB-\\U0001F5FF\"\n",
        "    u\"\\U0001F601-\\U0001F606\"\n",
        "    u\"\\U0001F607-\\U0001F608\"\n",
        "    u\"\\U0001F609-\\U0001F60D\"\n",
        "    u\"\\U0001F612-\\U0001F614\"\n",
        "    u\"\\U0001F61C-\\U0001F61E\"\n",
        "    u\"\\U0001F620-\\U0001F625\"\n",
        "    u\"\\U0001F626-\\U0001F627\"\n",
        "    u\"\\U0001F628-\\U0001F62B\"\n",
        "    u\"\\U0001F62E-\\U0001F62F\"\n",
        "    u\"\\U0001F630-\\U0001F633\"\n",
        "    u\"\\U0001F637-\\U0001F640\"\n",
        "    u\"\\U0001F641-\\U0001F644\"\n",
        "    u\"\\U0001F645-\\U0001F64F\"\n",
        "    u\"\\U0001F681-\\U0001F682\"\n",
        "    u\"\\U0001F683-\\U0001F685\"\n",
        "    u\"\\U0001F68A-\\U0001F68B\"\n",
        "    u\"\\U0001F691-\\U0001F693\"\n",
        "    u\"\\U0001F699-\\U0001F69A\"\n",
        "    u\"\\U0001F69B-\\U0001F6A1\"\n",
        "    u\"\\U0001F6A4-\\U0001F6A5\"\n",
        "    u\"\\U0001F6A7-\\U0001F6AD\"\n",
        "    u\"\\U0001F6AE-\\U0001F6B1\"\n",
        "    u\"\\U0001F6B3-\\U0001F6B5\"\n",
        "    u\"\\U0001F6B7-\\U0001F6B8\"\n",
        "    u\"\\U0001F6B9-\\U0001F6BE\"\n",
        "    u\"\\U0001F6C1-\\U0001F6C5\"\n",
        "    u\"\\U0001F6D1-\\U0001F6D2\"\n",
        "    u\"\\U0001F6D6-\\U0001F6D7\"\n",
        "    u\"\\U0001F6DD-\\U0001F6DF\"\n",
        "    u\"\\U0001F6EB-\\U0001F6EC\"\n",
        "    u\"\\U0001F6F4-\\U0001F6F6\"\n",
        "    u\"\\U0001F6F7-\\U0001F6F8\"\n",
        "    u\"\\U0001F6FB-\\U0001F6FC\"\n",
        "    u\"\\U0001F7E0-\\U0001F7EB\"\n",
        "    u\"\\U0001F90D-\\U0001F90F\"\n",
        "    u\"\\U0001F910-\\U0001F918\"\n",
        "    u\"\\U0001F919-\\U0001F91E\"\n",
        "    u\"\\U0001F920-\\U0001F927\"\n",
        "    u\"\\U0001F928-\\U0001F92F\"\n",
        "    u\"\\U0001F931-\\U0001F932\"\n",
        "    u\"\\U0001F933-\\U0001F93A\"\n",
        "    u\"\\U0001F93C-\\U0001F93E\"\n",
        "    u\"\\U0001F940-\\U0001F945\"\n",
        "    u\"\\U0001F947-\\U0001F94B\"\n",
        "    u\"\\U0001F94D-\\U0001F94F\"\n",
        "    u\"\\U0001F950-\\U0001F95E\"\n",
        "    u\"\\U0001F95F-\\U0001F96B\"\n",
        "    u\"\\U0001F96C-\\U0001F970\"\n",
        "    u\"\\U0001F973-\\U0001F976\"\n",
        "    u\"\\U0001F977-\\U0001F978\"\n",
        "    u\"\\U0001F97C-\\U0001F97F\"\n",
        "    u\"\\U0001F980-\\U0001F984\"\n",
        "    u\"\\U0001F985-\\U0001F991\"\n",
        "    u\"\\U0001F992-\\U0001F997\"\n",
        "    u\"\\U0001F998-\\U0001F9A2\"\n",
        "    u\"\\U0001F9A3-\\U0001F9A4\"\n",
        "    u\"\\U0001F9A5-\\U0001F9AA\"\n",
        "    u\"\\U0001F9AB-\\U0001F9AD\"\n",
        "    u\"\\U0001F9AE-\\U0001F9AF\"\n",
        "    u\"\\U0001F9B0-\\U0001F9B9\"\n",
        "    u\"\\U0001F9BA-\\U0001F9BF\"\n",
        "    u\"\\U0001F9C1-\\U0001F9C2\"\n",
        "    u\"\\U0001F9C3-\\U0001F9CA\"\n",
        "    u\"\\U0001F9CD-\\U0001F9CF\"\n",
        "    u\"\\U0001F9D0-\\U0001F9E6\"\n",
        "    u\"\\U0001F9E7-\\U0001F9FF\"\n",
        "    u\"\\U0001FA70-\\U0001FA73\"\n",
        "    u\"\\U0001FA78-\\U0001FA7A\"\n",
        "    u\"\\U0001FA7B-\\U0001FA7C\"\n",
        "    u\"\\U0001FA80-\\U0001FA82\"\n",
        "    u\"\\U0001FA83-\\U0001FA86\"\n",
        "    u\"\\U0001FA90-\\U0001FA95\"\n",
        "    u\"\\U0001FA96-\\U0001FAA8\"\n",
        "    u\"\\U0001FAA9-\\U0001FAAC\"\n",
        "    u\"\\U0001FAB0-\\U0001FAB6\"\n",
        "    u\"\\U0001FAB7-\\U0001FABA\"\n",
        "    u\"\\U0001FAC0-\\U0001FAC2\"\n",
        "    u\"\\U0001FAC3-\\U0001FAC5\"\n",
        "    u\"\\U0001FAD0-\\U0001FAD6\"\n",
        "    u\"\\U0001FAD7-\\U0001FAD9\"\n",
        "    u\"\\U0001FAE0-\\U0001FAE7\"\n",
        "    u\"\\U0001FAF0-\\U0001FAF6\"\n",
        "    u\"\\u23F0\"\n",
        "    u\"\\u23F3\"\n",
        "    u\"\\u267F\"\n",
        "    u\"\\u2693\"\n",
        "    u\"\\u26A1\"\n",
        "    u\"\\u26CE\"\n",
        "    u\"\\u26D4\"\n",
        "    u\"\\u26EA\"\n",
        "    u\"\\u26F5\"\n",
        "    u\"\\u26FA\"\n",
        "    u\"\\u26FD\"\n",
        "    u\"\\u2705\"\n",
        "    u\"\\u2728\"\n",
        "    u\"\\u274C\"\n",
        "    u\"\\u274E\"\n",
        "    u\"\\u2757\"\n",
        "    u\"\\u27B0\"\n",
        "    u\"\\u27BF\"\n",
        "    u\"\\u2B50\"\n",
        "    u\"\\u2B55\"\n",
        "    u\"\\U0001F004\"\n",
        "    u\"\\U0001F0CF\"\n",
        "    u\"\\U0001F18E\"\n",
        "    u\"\\U0001F201\"\n",
        "    u\"\\U0001F21A\"\n",
        "    u\"\\U0001F22F\"\n",
        "    u\"\\U0001F30F\"\n",
        "    u\"\\U0001F310\"\n",
        "    u\"\\U0001F311\"\n",
        "    u\"\\U0001F312\"\n",
        "    u\"\\U0001F319\"\n",
        "    u\"\\U0001F31A\"\n",
        "    u\"\\U0001F31B\"\n",
        "    u\"\\U0001F31C\"\n",
        "    u\"\\U0001F34B\"\n",
        "    u\"\\U0001F350\"\n",
        "    u\"\\U0001F37C\"\n",
        "    u\"\\U0001F3C5\"\n",
        "    u\"\\U0001F3C6\"\n",
        "    u\"\\U0001F3C7\"\n",
        "    u\"\\U0001F3C8\"\n",
        "    u\"\\U0001F3C9\"\n",
        "    u\"\\U0001F3CA\"\n",
        "    u\"\\U0001F3E4\"\n",
        "    u\"\\U0001F3F4\"\n",
        "    u\"\\U0001F408\"\n",
        "    u\"\\U0001F413\"\n",
        "    u\"\\U0001F414\"\n",
        "    u\"\\U0001F415\"\n",
        "    u\"\\U0001F416\"\n",
        "    u\"\\U0001F42A\"\n",
        "    u\"\\U0001F440\"\n",
        "    u\"\\U0001F465\"\n",
        "    u\"\\U0001F4AD\"\n",
        "    u\"\\U0001F4EE\"\n",
        "    u\"\\U0001F4EF\"\n",
        "    u\"\\U0001F4F5\"\n",
        "    u\"\\U0001F4F8\"\n",
        "    u\"\\U0001F503\"\n",
        "    u\"\\U0001F508\"\n",
        "    u\"\\U0001F509\"\n",
        "    u\"\\U0001F515\"\n",
        "    u\"\\U0001F57A\"\n",
        "    u\"\\U0001F5A4\"\n",
        "    u\"\\U0001F600\"\n",
        "    u\"\\U0001F60E\"\n",
        "    u\"\\U0001F60F\"\n",
        "    u\"\\U0001F610\"\n",
        "    u\"\\U0001F611\"\n",
        "    u\"\\U0001F615\"\n",
        "    u\"\\U0001F616\"\n",
        "    u\"\\U0001F617\"\n",
        "    u\"\\U0001F618\"\n",
        "    u\"\\U0001F619\"\n",
        "    u\"\\U0001F61A\"\n",
        "    u\"\\U0001F61B\"\n",
        "    u\"\\U0001F61F\"\n",
        "    u\"\\U0001F62C\"\n",
        "    u\"\\U0001F62D\"\n",
        "    u\"\\U0001F634\"\n",
        "    u\"\\U0001F635\"\n",
        "    u\"\\U0001F636\"\n",
        "    u\"\\U0001F680\"\n",
        "    u\"\\U0001F686\"\n",
        "    u\"\\U0001F687\"\n",
        "    u\"\\U0001F688\"\n",
        "    u\"\\U0001F689\"\n",
        "    u\"\\U0001F68C\"\n",
        "    u\"\\U0001F68D\"\n",
        "    u\"\\U0001F68E\"\n",
        "    u\"\\U0001F68F\"\n",
        "    u\"\\U0001F690\"\n",
        "    u\"\\U0001F694\"\n",
        "    u\"\\U0001F695\"\n",
        "    u\"\\U0001F696\"\n",
        "    u\"\\U0001F697\"\n",
        "    u\"\\U0001F698\"\n",
        "    u\"\\U0001F6A2\"\n",
        "    u\"\\U0001F6A3\"\n",
        "    u\"\\U0001F6A6\"\n",
        "    u\"\\U0001F6B2\"\n",
        "    u\"\\U0001F6B6\"\n",
        "    u\"\\U0001F6BF\"\n",
        "    u\"\\U0001F6C0\"\n",
        "    u\"\\U0001F6CC\"\n",
        "    u\"\\U0001F6D0\"\n",
        "    u\"\\U0001F6D5\"\n",
        "    u\"\\U0001F6F9\"\n",
        "    u\"\\U0001F6FA\"\n",
        "    u\"\\U0001F7F0\"\n",
        "    u\"\\U0001F90C\"\n",
        "    u\"\\U0001F91F\"\n",
        "    u\"\\U0001F930\"\n",
        "    u\"\\U0001F93F\"\n",
        "    u\"\\U0001F94C\"\n",
        "    u\"\\U0001F971\"\n",
        "    u\"\\U0001F972\"\n",
        "    u\"\\U0001F979\"\n",
        "    u\"\\U0001F97A\"\n",
        "    u\"\\U0001F97B\"\n",
        "    u\"\\U0001F9C0\"\n",
        "    u\"\\U0001F9CB\"\n",
        "    u\"\\U0001F9CC\"\n",
        "    u\"\\U0001FA74\"\n",
        "    u\"\\u00A9\"\n",
        "    u\"\\uFE0F\"\n",
        "    u\"\\u00AE\"\n",
        "    u\"\\uFE0F\"\n",
        "    u\"\\u203C\"\n",
        "    u\"\\uFE0F\"\n",
        "    u\"\\u2049\"\n",
        "    u\"\\uFE0F\"\n",
        "    u\"\\u2122\"\n",
        "    u\"\\uFE0F\"\n",
        "    u\"\\u2139\"\n",
        "    u\"\\uFE0F\"\n",
        "    u\"\\u2194\"\n",
        "    u\"\\uFE0F\"\n",
        "    u\"\\u2195\"\n",
        "    u\"\\uFE0F\"\n",
        "    u\"\\u2196\"\n",
        "    u\"\\uFE0F\"\n",
        "    u\"\\u2197\"\n",
        "    u\"\\uFE0F\"\n",
        "    u\"\\u2198\"\n",
        "    u\"\\uFE0F\"\n",
        "    u\"\\u2199\"\n",
        "    u\"\\uFE0F\"\n",
        "    u\"\\u21A9\"\n",
        "    u\"\\uFE0F\"\n",
        "    u\"\\u21AA\"\n",
        "    u\"\\uFE0F\"\n",
        "    u\"\\u2328\"\n",
        "    u\"\\uFE0F\"\n",
        "    u\"\\u23CF\"\n",
        "    u\"\\uFE0F\"\n",
        "    u\"\\u23ED\"\n",
        "    u\"\\uFE0F\"\n",
        "    u\"\\u23EE\"\n",
        "    u\"\\uFE0F\"\n",
        "    u\"\\u23EF\"\n",
        "    u\"\\uFE0F\"\n",
        "    u\"\\u23F1\"\n",
        "    u\"\\uFE0F\"\n",
        "    u\"\\u23F2\"\n",
        "    u\"\\uFE0F\"\n",
        "    u\"\\u23F8\"\n",
        "    u\"\\uFE0F\"\n",
        "    u\"\\u23F9\"\n",
        "    u\"\\uFE0F\"\n",
        "    u\"\\u23FA\"\n",
        "    u\"\\uFE0F\"\n",
        "    u\"\\u24C2\"\n",
        "    u\"\\uFE0F\"\n",
        "    u\"\\u25AA\"\n",
        "    u\"\\uFE0F\"\n",
        "    u\"\\u25AB\"\n",
        "    u\"\\uFE0F\"\n",
        "    u\"\\u25B6\"\n",
        "    u\"\\uFE0F\"\n",
        "    u\"\\u25C0\"\n",
        "    u\"\\uFE0F\"\n",
        "    u\"\\u25FB\"\n",
        "    u\"\\uFE0F\"\n",
        "    u\"\\u25FC\"\n",
        "    u\"\\uFE0F\"\n",
        "    u\"\\u2600\"\n",
        "    u\"\\uFE0F\"\n",
        "    u\"\\u2601\"\n",
        "    u\"\\uFE0F\"\n",
        "    u\"\\u2602\"\n",
        "    u\"\\uFE0F\"\n",
        "    u\"\\u2603\"\n",
        "    u\"\\uFE0F\"\n",
        "    u\"\\u2604\"\n",
        "    u\"\\uFE0F\"\n",
        "    u\"\\u260E\"\n",
        "    u\"\\uFE0F\"\n",
        "    u\"\\u2611\"\n",
        "    u\"\\uFE0F\"\n",
        "    u\"\\u2618\"\n",
        "    u\"\\uFE0F\"\n",
        "    u\"\\u261D\"\n",
        "    u\"\\uFE0F\"\n",
        "    u\"\\u2620\"\n",
        "    u\"\\uFE0F\"\n",
        "    u\"\\u2622\"\n",
        "    u\"\\uFE0F\"\n",
        "    u\"\\u2623\"\n",
        "    u\"\\uFE0F\"\n",
        "    u\"\\u2626\"\n",
        "    u\"\\uFE0F\"\n",
        "    u\"\\u262A\"\n",
        "    u\"\\uFE0F\"\n",
        "    u\"\\u262E\"\n",
        "    u\"\\uFE0F\"\n",
        "    u\"\\u262F\"\n",
        "    u\"\\uFE0F\"\n",
        "    u\"\\u2638\"\n",
        "    u\"\\uFE0F\"\n",
        "    u\"\\u2639\"\n",
        "    u\"\\uFE0F\"\n",
        "    u\"\\u263A\"\n",
        "    u\"\\uFE0F\"\n",
        "    u\"\\u2640\"\n",
        "    u\"\\uFE0F\"\n",
        "    u\"\\u2642\"\n",
        "    u\"\\uFE0F\"\n",
        "    u\"\\u265F\"\n",
        "    u\"\\uFE0F\"\n",
        "    u\"\\u2660\"\n",
        "    u\"\\uFE0F\"\n",
        "    u\"\\u2663\"\n",
        "    u\"\\uFE0F\"\n",
        "    u\"\\u2665\"\n",
        "    u\"\\uFE0F\"\n",
        "    u\"\\u2666\"\n",
        "    u\"\\uFE0F\"\n",
        "    u\"\\u2668\"\n",
        "    u\"\\uFE0F\"\n",
        "    u\"\\u267B\"\n",
        "    u\"\\uFE0F\"\n",
        "    u\"\\u267E\"\n",
        "    u\"\\uFE0F\"\n",
        "    u\"\\u2692\"\n",
        "    u\"\\uFE0F\"\n",
        "    u\"\\u2694\"\n",
        "    u\"\\uFE0F\"\n",
        "    u\"\\u2695\"\n",
        "    u\"\\uFE0F\"\n",
        "    u\"\\u2696\"\n",
        "    u\"\\uFE0F\"\n",
        "    u\"\\u2697\"\n",
        "    u\"\\uFE0F\"\n",
        "    u\"\\u2699\"\n",
        "    u\"\\uFE0F\"\n",
        "    u\"\\u269B\"\n",
        "    u\"\\uFE0F\"\n",
        "    u\"\\u269C\"\n",
        "    u\"\\uFE0F\"\n",
        "    u\"\\u26A0\"\n",
        "    u\"\\uFE0F\"\n",
        "    u\"\\u26A7\"\n",
        "    u\"\\uFE0F\"\n",
        "    u\"\\u26B0\"\n",
        "    u\"\\uFE0F\"\n",
        "    u\"\\u26B1\"\n",
        "    u\"\\uFE0F\"\n",
        "    u\"\\u26C8\"\n",
        "    u\"\\uFE0F\"\n",
        "    u\"\\u26CF\"\n",
        "    u\"\\uFE0F\"\n",
        "    u\"\\u26D1\"\n",
        "    u\"\\uFE0F\"\n",
        "    u\"\\u26D3\"\n",
        "    u\"\\uFE0F\"\n",
        "    u\"\\u26E9\"\n",
        "    u\"\\uFE0F\"\n",
        "    u\"\\u26F0\"\n",
        "    u\"\\uFE0F\"\n",
        "    u\"\\u26F1\"\n",
        "    u\"\\uFE0F\"\n",
        "    u\"\\u26F4\"\n",
        "    u\"\\uFE0F\"\n",
        "    u\"\\u26F7\"\n",
        "    u\"\\uFE0F\"\n",
        "    u\"\\u26F8\"\n",
        "    u\"\\uFE0F\"\n",
        "    u\"\\u26F9\"\n",
        "    u\"\\uFE0F\"\n",
        "    u\"\\u2702\"\n",
        "    u\"\\uFE0F\"\n",
        "    u\"\\u2708\"\n",
        "    u\"\\uFE0F\"\n",
        "    u\"\\u2709\"\n",
        "    u\"\\uFE0F\"\n",
        "    u\"\\u270C\"\n",
        "    u\"\\uFE0F\"\n",
        "    u\"\\u270D\"\n",
        "    u\"\\uFE0F\"\n",
        "    u\"\\u270F\"\n",
        "    u\"\\uFE0F\"\n",
        "    u\"\\u2712\"\n",
        "    u\"\\uFE0F\"\n",
        "    u\"\\u2714\"\n",
        "    u\"\\uFE0F\"\n",
        "    u\"\\u2716\"\n",
        "    u\"\\uFE0F\"\n",
        "    u\"\\u271D\"\n",
        "    u\"\\uFE0F\"\n",
        "    u\"\\u2721\"\n",
        "    u\"\\uFE0F\"\n",
        "    u\"\\u2733\"\n",
        "    u\"\\uFE0F\"\n",
        "    u\"\\u2734\"\n",
        "    u\"\\uFE0F\"\n",
        "    u\"\\u2744\"\n",
        "    u\"\\uFE0F\"\n",
        "    u\"\\u2747\"\n",
        "    u\"\\uFE0F\"\n",
        "    u\"\\u2763\"\n",
        "    u\"\\uFE0F\"\n",
        "    u\"\\u2764\"\n",
        "    u\"\\uFE0F\"\n",
        "    u\"\\u27A1\"\n",
        "    u\"\\uFE0F\"\n",
        "    u\"\\u2934\"\n",
        "    u\"\\uFE0F\"\n",
        "    u\"\\u2935\"\n",
        "    u\"\\uFE0F\"\n",
        "    u\"\\u2B05\"\n",
        "    u\"\\uFE0F\"\n",
        "    u\"\\u2B06\"\n",
        "    u\"\\uFE0F\"\n",
        "    u\"\\u2B07\"\n",
        "    u\"\\uFE0F\"\n",
        "    u\"\\u3030\"\n",
        "    u\"\\uFE0F\"\n",
        "    u\"\\u303D\"\n",
        "    u\"\\uFE0F\"\n",
        "    u\"\\u3297\"\n",
        "    u\"\\uFE0F\"\n",
        "    u\"\\u3299\"\n",
        "    u\"\\uFE0F\"\n",
        "    u\"\\U0001F170\"\n",
        "    u\"\\uFE0F\"\n",
        "    u\"\\U0001F171\"\n",
        "    u\"\\uFE0F\"\n",
        "    u\"\\U0001F17E\"\n",
        "    u\"\\uFE0F\"\n",
        "    u\"\\U0001F17F\"\n",
        "    u\"\\uFE0F\"\n",
        "    u\"\\U0001F202\"\n",
        "    u\"\\uFE0F\"\n",
        "    u\"\\U0001F237\"\n",
        "    u\"\\uFE0F\"\n",
        "    u\"\\U0001F321\"\n",
        "    u\"\\uFE0F\"\n",
        "    u\"\\U0001F324\"\n",
        "    u\"\\uFE0F\"\n",
        "    u\"\\U0001F325\"\n",
        "    u\"\\uFE0F\"\n",
        "    u\"\\U0001F326\"\n",
        "    u\"\\uFE0F\"\n",
        "    u\"\\U0001F327\"\n",
        "    u\"\\uFE0F\"\n",
        "    u\"\\U0001F328\"\n",
        "    u\"\\uFE0F\"\n",
        "    u\"\\U0001F329\"\n",
        "    u\"\\uFE0F\"\n",
        "    u\"\\U0001F32A\"\n",
        "    u\"\\uFE0F\"\n",
        "    u\"\\U0001F32B\"\n",
        "    u\"\\uFE0F\"\n",
        "    u\"\\U0001F32C\"\n",
        "    u\"\\uFE0F\"\n",
        "    u\"\\U0001F336\"\n",
        "    u\"\\uFE0F\"\n",
        "    u\"\\U0001F37D\"\n",
        "    u\"\\uFE0F\"\n",
        "    u\"\\U0001F396\"\n",
        "    u\"\\uFE0F\"\n",
        "    u\"\\U0001F397\"\n",
        "    u\"\\uFE0F\"\n",
        "    u\"\\U0001F399\"\n",
        "    u\"\\uFE0F\"\n",
        "    u\"\\U0001F39A\"\n",
        "    u\"\\uFE0F\"\n",
        "    u\"\\U0001F39B\"\n",
        "    u\"\\uFE0F\"\n",
        "    u\"\\U0001F39E\"\n",
        "    u\"\\uFE0F\"\n",
        "    u\"\\U0001F39F\"\n",
        "    u\"\\uFE0F\"\n",
        "    u\"\\U0001F3CB\"\n",
        "    u\"\\uFE0F\"\n",
        "    u\"\\U0001F3CC\"\n",
        "    u\"\\uFE0F\"\n",
        "    u\"\\U0001F3CD\"\n",
        "    u\"\\uFE0F\"\n",
        "    u\"\\U0001F3CE\"\n",
        "    u\"\\uFE0F\"\n",
        "    u\"\\U0001F3D4\"\n",
        "    u\"\\uFE0F\"\n",
        "    u\"\\U0001F3D5\"\n",
        "    u\"\\uFE0F\"\n",
        "    u\"\\U0001F3D6\"\n",
        "    u\"\\uFE0F\"\n",
        "    u\"\\U0001F3D7\"\n",
        "    u\"\\uFE0F\"\n",
        "    u\"\\U0001F3D8\"\n",
        "    u\"\\uFE0F\"\n",
        "    u\"\\U0001F3D9\"\n",
        "    u\"\\uFE0F\"\n",
        "    u\"\\U0001F3DA\"\n",
        "    u\"\\uFE0F\"\n",
        "    u\"\\U0001F3DB\"\n",
        "    u\"\\uFE0F\"\n",
        "    u\"\\U0001F3DC\"\n",
        "    u\"\\uFE0F\"\n",
        "    u\"\\U0001F3DD\"\n",
        "    u\"\\uFE0F\"\n",
        "    u\"\\U0001F3DE\"\n",
        "    u\"\\uFE0F\"\n",
        "    u\"\\U0001F3DF\"\n",
        "    u\"\\uFE0F\"\n",
        "    u\"\\U0001F3F3\"\n",
        "    u\"\\uFE0F\"\n",
        "    u\"\\U0001F3F5\"\n",
        "    u\"\\uFE0F\"\n",
        "    u\"\\U0001F3F7\"\n",
        "    u\"\\uFE0F\"\n",
        "    u\"\\U0001F43F\"\n",
        "    u\"\\uFE0F\"\n",
        "    u\"\\U0001F441\"\n",
        "    u\"\\uFE0F\"\n",
        "    u\"\\U0001F4FD\"\n",
        "    u\"\\uFE0F\"\n",
        "    u\"\\U0001F549\"\n",
        "    u\"\\uFE0F\"\n",
        "    u\"\\U0001F54A\"\n",
        "    u\"\\uFE0F\"\n",
        "    u\"\\U0001F56F\"\n",
        "    u\"\\uFE0F\"\n",
        "    u\"\\U0001F570\"\n",
        "    u\"\\uFE0F\"\n",
        "    u\"\\U0001F573\"\n",
        "    u\"\\uFE0F\"\n",
        "    u\"\\U0001F574\"\n",
        "    u\"\\uFE0F\"\n",
        "    u\"\\U0001F575\"\n",
        "    u\"\\uFE0F\"\n",
        "    u\"\\U0001F576\"\n",
        "    u\"\\uFE0F\"\n",
        "    u\"\\U0001F577\"\n",
        "    u\"\\uFE0F\"\n",
        "    u\"\\U0001F578\"\n",
        "    u\"\\uFE0F\"\n",
        "    u\"\\U0001F579\"\n",
        "    u\"\\uFE0F\"\n",
        "    u\"\\U0001F587\"\n",
        "    u\"\\uFE0F\"\n",
        "    u\"\\U0001F58A\"\n",
        "    u\"\\uFE0F\"\n",
        "    u\"\\U0001F58B\"\n",
        "    u\"\\uFE0F\"\n",
        "    u\"\\U0001F58C\"\n",
        "    u\"\\uFE0F\"\n",
        "    u\"\\U0001F58D\"\n",
        "    u\"\\uFE0F\"\n",
        "    u\"\\U0001F590\"\n",
        "    u\"\\uFE0F\"\n",
        "    u\"\\U0001F5A5\"\n",
        "    u\"\\uFE0F\"\n",
        "    u\"\\U0001F5A8\"\n",
        "    u\"\\uFE0F\"\n",
        "    u\"\\U0001F5B1\"\n",
        "    u\"\\uFE0F\"\n",
        "    u\"\\U0001F5B2\"\n",
        "    u\"\\uFE0F\"\n",
        "    u\"\\U0001F5BC\"\n",
        "    u\"\\uFE0F\"\n",
        "    u\"\\U0001F5C2\"\n",
        "    u\"\\uFE0F\"\n",
        "    u\"\\U0001F5C3\"\n",
        "    u\"\\uFE0F\"\n",
        "    u\"\\U0001F5C4\"\n",
        "    u\"\\uFE0F\"\n",
        "    u\"\\U0001F5D1\"\n",
        "    u\"\\uFE0F\"\n",
        "    u\"\\U0001F5D2\"\n",
        "    u\"\\uFE0F\"\n",
        "    u\"\\U0001F5D3\"\n",
        "    u\"\\uFE0F\"\n",
        "    u\"\\U0001F5DC\"\n",
        "    u\"\\uFE0F\"\n",
        "    u\"\\U0001F5DD\"\n",
        "    u\"\\uFE0F\"\n",
        "    u\"\\U0001F5DE\"\n",
        "    u\"\\uFE0F\"\n",
        "    u\"\\U0001F5E1\"\n",
        "    u\"\\uFE0F\"\n",
        "    u\"\\U0001F5E3\"\n",
        "    u\"\\uFE0F\"\n",
        "    u\"\\U0001F5E8\"\n",
        "    u\"\\uFE0F\"\n",
        "    u\"\\U0001F5EF\"\n",
        "    u\"\\uFE0F\"\n",
        "    u\"\\U0001F5F3\"\n",
        "    u\"\\uFE0F\"\n",
        "    u\"\\U0001F5FA\"\n",
        "    u\"\\uFE0F\"\n",
        "    u\"\\U0001F6CB\"\n",
        "    u\"\\uFE0F\"\n",
        "    u\"\\U0001F6CD\"\n",
        "    u\"\\uFE0F\"\n",
        "    u\"\\U0001F6CE\"\n",
        "    u\"\\uFE0F\"\n",
        "    u\"\\U0001F6CF\"\n",
        "    u\"\\uFE0F\"\n",
        "    u\"\\U0001F6E0\"\n",
        "    u\"\\uFE0F\"\n",
        "    u\"\\U0001F6E1\"\n",
        "    u\"\\uFE0F\"\n",
        "    u\"\\U0001F6E2\"\n",
        "    u\"\\uFE0F\"\n",
        "    u\"\\U0001F6E3\"\n",
        "    u\"\\uFE0F\"\n",
        "    u\"\\U0001F6E4\"\n",
        "    u\"\\uFE0F\"\n",
        "    u\"\\U0001F6E5\"\n",
        "    u\"\\uFE0F\"\n",
        "    u\"\\U0001F6E9\"\n",
        "    u\"\\uFE0F\"\n",
        "    u\"\\U0001F6F0\"\n",
        "    u\"\\uFE0F\"\n",
        "    u\"\\U0001F6F3\"\n",
        "    u\"\\uFE0F\"\n",
        "    u\"\\u0023\"\n",
        "    u\"\\uFE0F\"\n",
        "    u\"\\u20E3\"\n",
        "    u\"\\u002A\"\n",
        "    u\"\\uFE0F\"\n",
        "    u\"\\u20E3\"\n",
        "    u\"\\u0030\"\n",
        "    u\"\\uFE0F\"\n",
        "    u\"\\u20E3\"\n",
        "    u\"\\u0031\"\n",
        "    u\"\\uFE0F\"\n",
        "    u\"\\u20E3\"\n",
        "    u\"\\u0032\"\n",
        "    u\"\\uFE0F\"\n",
        "    u\"\\u20E3\"\n",
        "    u\"\\u0033\"\n",
        "    u\"\\uFE0F\"\n",
        "    u\"\\u20E3\"\n",
        "    u\"\\u0034\"\n",
        "    u\"\\uFE0F\"\n",
        "    u\"\\u20E3\"\n",
        "    u\"\\u0035\"\n",
        "    u\"\\uFE0F\"\n",
        "    u\"\\u20E3\"\n",
        "    u\"\\u0036\"\n",
        "    u\"\\uFE0F\"\n",
        "    u\"\\u20E3\"\n",
        "    u\"\\u0037\"\n",
        "    u\"\\uFE0F\"\n",
        "    u\"\\u20E3\"\n",
        "    u\"\\u0038\"\n",
        "    u\"\\uFE0F\"\n",
        "    u\"\\u20E3\"\n",
        "    u\"\\u0039\"\n",
        "    u\"\\uFE0F\"\n",
        "    u\"\\u20E3\"\n",
        "    u\"\\U0001F1E6\"\n",
        "    u\"\\U0001F1E6\"\n",
        "    u\"\\U0001F1E9\"\n",
        "    u\"\\U0001F1E6\"\n",
        "    u\"\\U0001F1EA\"\n",
        "    u\"\\U0001F1E6\"\n",
        "    u\"\\U0001F1EB\"\n",
        "    u\"\\U0001F1E6\"\n",
        "    u\"\\U0001F1E6\"\n",
        "    u\"\\U0001F1EE\"\n",
        "    u\"\\U0001F1E6\"\n",
        "    u\"\\U0001F1E6\"\n",
        "    u\"\\U0001F1F2\"\n",
        "    u\"\\U0001F1E6\"\n",
        "    u\"\\U0001F1F4\"\n",
        "    u\"\\U0001F1E6\"\n",
        "    u\"\\U0001F1F6\"\n",
        "    u\"\\U0001F1E6\"\n",
        "    u\"\\U0001F1F7\"\n",
        "    u\"\\U0001F1E6\"\n",
        "    u\"\\U0001F1F8\"\n",
        "    u\"\\U0001F1E6\"\n",
        "    u\"\\U0001F1F9\"\n",
        "    u\"\\U0001F1E6\"\n",
        "    u\"\\U0001F1E6\"\n",
        "    u\"\\U0001F1FC\"\n",
        "    u\"\\U0001F1E6\"\n",
        "    u\"\\U0001F1FD\"\n",
        "    u\"\\U0001F1E6\"\n",
        "    u\"\\U0001F1FF\"\n",
        "    u\"\\U0001F1E7\"\n",
        "    u\"\\U0001F1E6\"\n",
        "    u\"\\U0001F1E7\"\n",
        "    u\"\\U0001F1E7\"\n",
        "    u\"\\U0001F1E7\"\n",
        "    u\"\\U0001F1E9\"\n",
        "    u\"\\U0001F1E7\"\n",
        "    u\"\\U0001F1EA\"\n",
        "    u\"\\U0001F1E7\"\n",
        "    u\"\\U0001F1EB\"\n",
        "    u\"\\U0001F1E7\"\n",
        "    u\"\\U0001F1E7\"\n",
        "    u\"\\U0001F1ED\"\n",
        "    u\"\\U0001F1E7\"\n",
        "    u\"\\U0001F1EE\"\n",
        "    u\"\\U0001F1E7\"\n",
        "    u\"\\U0001F1EF\"\n",
        "    u\"\\U0001F1E7\"\n",
        "    u\"\\U0001F1E7\"\n",
        "    u\"\\U0001F1F2\"\n",
        "    u\"\\U0001F1E7\"\n",
        "    u\"\\U0001F1F3\"\n",
        "    u\"\\U0001F1E7\"\n",
        "    u\"\\U0001F1F4\"\n",
        "    u\"\\U0001F1E7\"\n",
        "    u\"\\U0001F1F6\"\n",
        "    u\"\\U0001F1E7\"\n",
        "    u\"\\U0001F1F7\"\n",
        "    u\"\\U0001F1E7\"\n",
        "    u\"\\U0001F1F8\"\n",
        "    u\"\\U0001F1E7\"\n",
        "    u\"\\U0001F1F9\"\n",
        "    u\"\\U0001F1E7\"\n",
        "    u\"\\U0001F1FB\"\n",
        "    u\"\\U0001F1E7\"\n",
        "    u\"\\U0001F1FC\"\n",
        "    u\"\\U0001F1E7\"\n",
        "    u\"\\U0001F1FE\"\n",
        "    u\"\\U0001F1E7\"\n",
        "    u\"\\U0001F1FF\"\n",
        "    u\"\\U0001F1E6\"\n",
        "    u\"\\U0001F1E9\"\n",
        "    u\"\\U0001F1EB\"\n",
        "    u\"\\U0001F1E8\"\n",
        "    u\"\\U0001F1ED\"\n",
        "    u\"\\U0001F1EE\"\n",
        "    u\"\\U0001F1F0\"\n",
        "    u\"\\U0001F1F2\"\n",
        "    u\"\\U0001F1F3\"\n",
        "    u\"\\U0001F1F4\"\n",
        "    u\"\\U0001F1F5\"\n",
        "    u\"\\U0001F1F7\"\n",
        "    u\"\\U0001F1FB\"\n",
        "    u\"\\U0001F1FC\"\n",
        "    u\"\\U0001F1FD\"\n",
        "    u\"\\U0001F1FE\"\n",
        "    u\"\\U0001F1FF\"\n",
        "    u\"\\U0001F1E9\"\n",
        "    u\"\\U0001F1EA\"\n",
        "    u\"\\U0001F1E9\"\n",
        "    u\"\\U0001F1E9\"\n",
        "    u\"\\U0001F1EF\"\n",
        "    u\"\\U0001F1E9\"\n",
        "    u\"\\U0001F1F0\"\n",
        "    u\"\\U0001F1E9\"\n",
        "    u\"\\U0001F1F2\"\n",
        "    u\"\\U0001F1E9\"\n",
        "    u\"\\U0001F1F4\"\n",
        "    u\"\\U0001F1E9\"\n",
        "    u\"\\U0001F1FF\"\n",
        "    u\"\\U0001F1EA\"\n",
        "    u\"\\U0001F1E6\"\n",
        "    u\"\\U0001F1EA\"\n",
        "    u\"\\U0001F1EA\"\n",
        "    u\"\\U0001F1EA\"\n",
        "    u\"\\U0001F1EA\"\n",
        "    u\"\\U0001F1EA\"\n",
        "    u\"\\U0001F1ED\"\n",
        "    u\"\\U0001F1EA\"\n",
        "    u\"\\U0001F1F7\"\n",
        "    u\"\\U0001F1EA\"\n",
        "    u\"\\U0001F1F8\"\n",
        "    u\"\\U0001F1EA\"\n",
        "    u\"\\U0001F1F9\"\n",
        "    u\"\\U0001F1EA\"\n",
        "    u\"\\U0001F1EB\"\n",
        "    u\"\\U0001F1EE\"\n",
        "    u\"\\U0001F1EB\"\n",
        "    u\"\\U0001F1EF\"\n",
        "    u\"\\U0001F1EB\"\n",
        "    u\"\\U0001F1F0\"\n",
        "    u\"\\U0001F1EB\"\n",
        "    u\"\\U0001F1F2\"\n",
        "    u\"\\U0001F1EB\"\n",
        "    u\"\\U0001F1F4\"\n",
        "    u\"\\U0001F1EB\"\n",
        "    u\"\\U0001F1F7\"\n",
        "    u\"\\U0001F1E6\"\n",
        "    u\"\\U0001F1E7\"\n",
        "    u\"\\U0001F1E9\"\n",
        "    u\"\\U0001F1EA\"\n",
        "    u\"\\U0001F1EB\"\n",
        "    u\"\\U0001F1ED\"\n",
        "    u\"\\U0001F1EE\"\n",
        "    u\"\\U0001F1F2\"\n",
        "    u\"\\U0001F1F3\"\n",
        "    u\"\\U0001F1F5\"\n",
        "    u\"\\U0001F1F6\"\n",
        "    u\"\\U0001F1EC\"\n",
        "    u\"\\U0001F1F7\"\n",
        "    u\"\\U0001F1F8\"\n",
        "    u\"\\U0001F1F9\"\n",
        "    u\"\\U0001F1FC\"\n",
        "    u\"\\U0001F1FE\"\n",
        "    u\"\\U0001F1ED\"\n",
        "    u\"\\U0001F1F0\"\n",
        "    u\"\\U0001F1ED\"\n",
        "    u\"\\U0001F1F2\"\n",
        "    u\"\\U0001F1ED\"\n",
        "    u\"\\U0001F1F3\"\n",
        "    u\"\\U0001F1ED\"\n",
        "    u\"\\U0001F1F7\"\n",
        "    u\"\\U0001F1ED\"\n",
        "    u\"\\U0001F1F9\"\n",
        "    u\"\\U0001F1ED\"\n",
        "    u\"\\U0001F1FA\"\n",
        "    u\"\\U0001F1EE\"\n",
        "    u\"\\U0001F1EE\"\n",
        "    u\"\\U0001F1E9\"\n",
        "    u\"\\U0001F1EE\"\n",
        "    u\"\\U0001F1EA\"\n",
        "    u\"\\U0001F1EE\"\n",
        "    u\"\\U0001F1EE\"\n",
        "    u\"\\U0001F1F2\"\n",
        "    u\"\\U0001F1EE\"\n",
        "    u\"\\U0001F1F3\"\n",
        "    u\"\\U0001F1EE\"\n",
        "    u\"\\U0001F1F4\"\n",
        "    u\"\\U0001F1EE\"\n",
        "    u\"\\U0001F1F6\"\n",
        "    u\"\\U0001F1EE\"\n",
        "    u\"\\U0001F1F7\"\n",
        "    u\"\\U0001F1EE\"\n",
        "    u\"\\U0001F1F8\"\n",
        "    u\"\\U0001F1EE\"\n",
        "    u\"\\U0001F1F9\"\n",
        "    u\"\\U0001F1EF\"\n",
        "    u\"\\U0001F1EA\"\n",
        "    u\"\\U0001F1EF\"\n",
        "    u\"\\U0001F1F2\"\n",
        "    u\"\\U0001F1EF\"\n",
        "    u\"\\U0001F1F4\"\n",
        "    u\"\\U0001F1EF\"\n",
        "    u\"\\U0001F1F5\"\n",
        "    u\"\\U0001F1F0\"\n",
        "    u\"\\U0001F1EA\"\n",
        "    u\"\\U0001F1F0\"\n",
        "    u\"\\U0001F1F0\"\n",
        "    u\"\\U0001F1ED\"\n",
        "    u\"\\U0001F1F0\"\n",
        "    u\"\\U0001F1EE\"\n",
        "    u\"\\U0001F1F0\"\n",
        "    u\"\\U0001F1F2\"\n",
        "    u\"\\U0001F1F0\"\n",
        "    u\"\\U0001F1F3\"\n",
        "    u\"\\U0001F1F0\"\n",
        "    u\"\\U0001F1F5\"\n",
        "    u\"\\U0001F1F0\"\n",
        "    u\"\\U0001F1F7\"\n",
        "    u\"\\U0001F1F0\"\n",
        "    u\"\\U0001F1FC\"\n",
        "    u\"\\U0001F1F0\"\n",
        "    u\"\\U0001F1FE\"\n",
        "    u\"\\U0001F1F0\"\n",
        "    u\"\\U0001F1FF\"\n",
        "    u\"\\U0001F1E6\"\n",
        "    u\"\\U0001F1E7\"\n",
        "    u\"\\U0001F1EE\"\n",
        "    u\"\\U0001F1F1\"\n",
        "    u\"\\U0001F1F0\"\n",
        "    u\"\\U0001F1F7\"\n",
        "    u\"\\U0001F1F8\"\n",
        "    u\"\\U0001F1F9\"\n",
        "        u\"\\U0001F1FB\"\n",
        "    u\"\\U0001F1FE\"\n",
        "    u\"\\U0001F1F2\"\n",
        "    u\"\\U0001F1E6\"\n",
        "    u\"\\U0001F1F2\"\n",
        "    u\"\\U0001F1F2\"\n",
        "    u\"\\U0001F1E9\"\n",
        "    u\"\\U0001F1F2\"\n",
        "    u\"\\U0001F1EA\"\n",
        "    u\"\\U0001F1F2\"\n",
        "    u\"\\U0001F1EB\"\n",
        "    u\"\\U0001F1F2\"\n",
        "    u\"\\U0001F1F2\"\n",
        "    u\"\\U0001F1ED\"\n",
        "    u\"\\U0001F1F2\"\n",
        "    u\"\\U0001F1F0\"\n",
        "    u\"\\U0001F1F2\"\n",
        "    u\"\\U0001F1F2\"\n",
        "    u\"\\U0001F1F2\"\n",
        "    u\"\\U0001F1F2\"\n",
        "    u\"\\U0001F1F3\"\n",
        "    u\"\\U0001F1F2\"\n",
        "    u\"\\U0001F1F4\"\n",
        "    u\"\\U0001F1F2\"\n",
        "    u\"\\U0001F1F5\"\n",
        "    u\"\\U0001F1F2\"\n",
        "    u\"\\U0001F1F6\"\n",
        "    u\"\\U0001F1F2\"\n",
        "    u\"\\U0001F1F7\"\n",
        "    u\"\\U0001F1F2\"\n",
        "    u\"\\U0001F1F8\"\n",
        "    u\"\\U0001F1F2\"\n",
        "    u\"\\U0001F1F9\"\n",
        "    u\"\\U0001F1F2\"\n",
        "    u\"\\U0001F1F2\"\n",
        "    u\"\\U0001F1FB\"\n",
        "    u\"\\U0001F1F2\"\n",
        "    u\"\\U0001F1FC\"\n",
        "    u\"\\U0001F1F2\"\n",
        "    u\"\\U0001F1FD\"\n",
        "    u\"\\U0001F1F2\"\n",
        "    u\"\\U0001F1FE\"\n",
        "    u\"\\U0001F1F2\"\n",
        "    u\"\\U0001F1FF\"\n",
        "    u\"\\U0001F1F3\"\n",
        "    u\"\\U0001F1E6\"\n",
        "    u\"\\U0001F1F3\"\n",
        "    u\"\\U0001F1F3\"\n",
        "    u\"\\U0001F1EA\"\n",
        "    u\"\\U0001F1F3\"\n",
        "    u\"\\U0001F1EB\"\n",
        "    u\"\\U0001F1F3\"\n",
        "    u\"\\U0001F1F3\"\n",
        "    u\"\\U0001F1EE\"\n",
        "    u\"\\U0001F1F3\"\n",
        "    u\"\\U0001F1F3\"\n",
        "    u\"\\U0001F1F4\"\n",
        "    u\"\\U0001F1F3\"\n",
        "    u\"\\U0001F1F5\"\n",
        "    u\"\\U0001F1F3\"\n",
        "    u\"\\U0001F1F7\"\n",
        "    u\"\\U0001F1F3\"\n",
        "    u\"\\U0001F1F3\"\n",
        "    u\"\\U0001F1FF\"\n",
        "    u\"\\U0001F1F4\"\n",
        "    u\"\\U0001F1F2\"\n",
        "    u\"\\U0001F1F5\"\n",
        "    u\"\\U0001F1E6\"\n",
        "    u\"\\U0001F1F5\"\n",
        "    u\"\\U0001F1EA\"\n",
        "    u\"\\U0001F1F5\"\n",
        "    u\"\\U0001F1EB\"\n",
        "    u\"\\U0001F1F5\"\n",
        "    u\"\\U0001F1F5\"\n",
        "    u\"\\U0001F1ED\"\n",
        "    u\"\\U0001F1F5\"\n",
        "    u\"\\U0001F1F0\"\n",
        "    u\"\\U0001F1F5\"\n",
        "    u\"\\U0001F1F5\"\n",
        "    u\"\\U0001F1F2\"\n",
        "    u\"\\U0001F1F5\"\n",
        "    u\"\\U0001F1F3\"\n",
        "    u\"\\U0001F1F5\"\n",
        "    u\"\\U0001F1F7\"\n",
        "    u\"\\U0001F1F5\"\n",
        "    u\"\\U0001F1F8\"\n",
        "    u\"\\U0001F1F5\"\n",
        "    u\"\\U0001F1F9\"\n",
        "    u\"\\U0001F1F5\"\n",
        "    u\"\\U0001F1FC\"\n",
        "    u\"\\U0001F1F5\"\n",
        "    u\"\\U0001F1FE\"\n",
        "    u\"\\U0001F1F6\"\n",
        "    u\"\\U0001F1E6\"\n",
        "    u\"\\U0001F1F7\"\n",
        "    u\"\\U0001F1EA\"\n",
        "    u\"\\U0001F1F7\"\n",
        "    u\"\\U0001F1F4\"\n",
        "    u\"\\U0001F1F7\"\n",
        "    u\"\\U0001F1F8\"\n",
        "    u\"\\U0001F1F7\"\n",
        "    u\"\\U0001F1F7\"\n",
        "    u\"\\U0001F1FC\"\n",
        "    u\"\\U0001F1F8\"\n",
        "    u\"\\U0001F1E6\"\n",
        "    u\"\\U0001F1F8\"\n",
        "    u\"\\U0001F1E7\"\n",
        "    u\"\\U0001F1F8\"\n",
        "    u\"\\U0001F1F8\"\n",
        "    u\"\\U0001F1E9\"\n",
        "    u\"\\U0001F1F8\"\n",
        "    u\"\\U0001F1EA\"\n",
        "    u\"\\U0001F1F8\"\n",
        "    u\"\\U0001F1F8\"\n",
        "    u\"\\U0001F1ED\"\n",
        "    u\"\\U0001F1F8\"\n",
        "    u\"\\U0001F1EE\"\n",
        "    u\"\\U0001F1F8\"\n",
        "    u\"\\U0001F1EF\"\n",
        "    u\"\\U0001F1F8\"\n",
        "    u\"\\U0001F1F0\"\n",
        "    u\"\\U0001F1F8\"\n",
        "    u\"\\U0001F1F8\"\n",
        "    u\"\\U0001F1F2\"\n",
        "    u\"\\U0001F1F8\"\n",
        "    u\"\\U0001F1F3\"\n",
        "    u\"\\U0001F1F8\"\n",
        "    u\"\\U0001F1F4\"\n",
        "    u\"\\U0001F1F8\"\n",
        "    u\"\\U0001F1F7\"\n",
        "    u\"\\U0001F1F8\"\n",
        "    u\"\\U0001F1F8\"\n",
        "    u\"\\U0001F1F8\"\n",
        "    u\"\\U0001F1F9\"\n",
        "    u\"\\U0001F1F8\"\n",
        "    u\"\\U0001F1FB\"\n",
        "    u\"\\U0001F1F8\"\n",
        "    u\"\\U0001F1FD\"\n",
        "    u\"\\U0001F1F8\"\n",
        "    u\"\\U0001F1FE\"\n",
        "    u\"\\U0001F1F8\"\n",
        "    u\"\\U0001F1FF\"\n",
        "    u\"\\U0001F1F9\"\n",
        "    u\"\\U0001F1E6\"\n",
        "    u\"\\U0001F1F9\"\n",
        "    u\"\\U0001F1F9\"\n",
        "    u\"\\U0001F1E9\"\n",
        "    u\"\\U0001F1F9\"\n",
        "    u\"\\U0001F1EB\"\n",
        "    u\"\\U0001F1F9\"\n",
        "    u\"\\U0001F1F9\"\n",
        "    u\"\\U0001F1ED\"\n",
        "    u\"\\U0001F1F9\"\n",
        "    u\"\\U0001F1EF\"\n",
        "    u\"\\U0001F1F9\"\n",
        "    u\"\\U0001F1F0\"\n",
        "    u\"\\U0001F1F9\"\n",
        "    u\"\\U0001F1F9\"\n",
        "    u\"\\U0001F1F2\"\n",
        "    u\"\\U0001F1F9\"\n",
        "    u\"\\U0001F1F3\"\n",
        "    u\"\\U0001F1F9\"\n",
        "    u\"\\U0001F1F4\"\n",
        "    u\"\\U0001F1F9\"\n",
        "    u\"\\U0001F1F7\"\n",
        "    u\"\\U0001F1F9\"\n",
        "    u\"\\U0001F1F9\"\n",
        "    u\"\\U0001F1F9\"\n",
        "    u\"\\U0001F1FB\"\n",
        "    u\"\\U0001F1F9\"\n",
        "    u\"\\U0001F1FC\"\n",
        "    u\"\\U0001F1F9\"\n",
        "    u\"\\U0001F1FF\"\n",
        "    u\"\\U0001F1E6\"\n",
        "    u\"\\U0001F1F2\"\n",
        "    u\"\\U0001F1F3\"\n",
        "    u\"\\U0001F1F8\"\n",
        "    u\"\\U0001F1FE\"\n",
        "    u\"\\U0001F1FF\"\n",
        "    u\"\\U0001F1FB\"\n",
        "    u\"\\U0001F1E6\"\n",
        "    u\"\\U0001F1FB\"\n",
        "    u\"\\U0001F1FB\"\n",
        "    u\"\\U0001F1EA\"\n",
        "    u\"\\U0001F1FB\"\n",
        "    u\"\\U0001F1FB\"\n",
        "    u\"\\U0001F1EE\"\n",
        "    u\"\\U0001F1FB\"\n",
        "    u\"\\U0001F1F3\"\n",
        "    u\"\\U0001F1FB\"\n",
        "    u\"\\U0001F1FC\"\n",
        "    u\"\\U0001F1EB\"\n",
        "    u\"\\U0001F1FC\"\n",
        "    u\"\\U0001F1F8\"\n",
        "    u\"\\U0001F1FD\"\n",
        "    u\"\\U0001F1F0\"\n",
        "    u\"\\U0001F1FE\"\n",
        "    u\"\\U0001F1EA\"\n",
        "    u\"\\U0001F1FE\"\n",
        "    u\"\\U0001F1F9\"\n",
        "    u\"\\U0001F1FF\"\n",
        "    u\"\\U0001F1E6\"\n",
        "    u\"\\U0001F1FF\"\n",
        "    u\"\\U0001F1F2\"\n",
        "    u\"\\U0001F1FF\"\n",
        "    u\"\\U0001F1FC\"\n",
        "    u\"\\U0001F3F4\"\n",
        "    u\"\\U000E0067\"\n",
        "    u\"\\U000E0062\"\n",
        "    u\"\\U000E0065\"\n",
        "    u\"\\U000E006E\"\n",
        "    u\"\\U000E0067\"\n",
        "    u\"\\U000E007F\"\n",
        "    u\"\\U0001F3F4\"\n",
        "    u\"\\U000E0067\"\n",
        "    u\"\\U000E0062\"\n",
        "    u\"\\U000E0073\"\n",
        "    u\"\\U000E0063\"\n",
        "    u\"\\U000E0074\"\n",
        "    u\"\\U000E007F\"\n",
        "    u\"\\U0001F3F4\"\n",
        "    u\"\\U000E0067\"\n",
        "    u\"\\U000E0062\"\n",
        "    u\"\\U000E0077\"\n",
        "    u\"\\U000E006C\"\n",
        "    u\"\\U000E0073\"\n",
        "    u\"\\U000E007F\"\n",
        "    u\"\\u261D\"\n",
        "    u\"\\U0001F3FB\"\n",
        "    u\"\\u261D\"\n",
        "    u\"\\U0001F3FC\"\n",
        "    u\"\\u261D\"\n",
        "    u\"\\U0001F3FD\"\n",
        "    u\"\\u261D\"\n",
        "    u\"\\U0001F3FE\"\n",
        "    u\"\\u261D\"\n",
        "    u\"\\U0001F3FF\"\n",
        "    u\"\\u26F9\"\n",
        "    u\"\\U0001F3FB\"\n",
        "    u\"\\u26F9\"\n",
        "    u\"\\U0001F3FC\"\n",
        "    u\"\\u26F9\"\n",
        "    u\"\\U0001F3FD\"\n",
        "    u\"\\u26F9\"\n",
        "    u\"\\U0001F3FE\"\n",
        "    u\"\\u26F9\"\n",
        "    u\"\\U0001F3FF\"\n",
        "    u\"\\u270A\"\n",
        "    u\"\\U0001F3FB\"\n",
        "    u\"\\u270A\"\n",
        "    u\"\\U0001F3FC\"\n",
        "    u\"\\u270A\"\n",
        "    u\"\\U0001F3FD\"\n",
        "    u\"\\u270A\"\n",
        "    u\"\\U0001F3FE\"\n",
        "    u\"\\u270A\"\n",
        "    u\"\\U0001F3FF\"\n",
        "    u\"\\u270B\"\n",
        "    u\"\\U0001F3FB\"\n",
        "    u\"\\u270B\"\n",
        "    u\"\\U0001F3FC\"\n",
        "    u\"\\u270B\"\n",
        "    u\"\\U0001F3FD\"\n",
        "    u\"\\u270B\"\n",
        "    u\"\\U0001F3FE\"\n",
        "    u\"\\u270B\"\n",
        "    u\"\\U0001F3FF\"\n",
        "    u\"\\u270C\"\n",
        "    u\"\\U0001F3FB\"\n",
        "    u\"\\u270C\"\n",
        "    u\"\\U0001F3FC\"\n",
        "    u\"\\u270C\"\n",
        "    u\"\\U0001F3FD\"\n",
        "    u\"\\u270C\"\n",
        "    u\"\\U0001F3FE\"\n",
        "    u\"\\u270C\"\n",
        "    u\"\\U0001F3FF\"\n",
        "    u\"\\u270D\"\n",
        "    u\"\\U0001F3FB\"\n",
        "    u\"\\u270D\"\n",
        "    u\"\\U0001F3FC\"\n",
        "    u\"\\u270D\"\n",
        "    u\"\\U0001F3FD\"\n",
        "    u\"\\u270D\"\n",
        "    u\"\\U0001F3FE\"\n",
        "    u\"\\u270D\"\n",
        "    u\"\\U0001F3FF\"\n",
        "    u\"\\U0001F385\"\n",
        "    u\"\\U0001F3FB\"\n",
        "    u\"\\U0001F385\"\n",
        "    u\"\\U0001F3FC\"\n",
        "    u\"\\U0001F385\"\n",
        "    u\"\\U0001F3FD\"\n",
        "    u\"\\U0001F385\"\n",
        "    u\"\\U0001F3FE\"\n",
        "    u\"\\U0001F385\"\n",
        "    u\"\\U0001F3FF\"\n",
        "    u\"\\U0001F3C2\"\n",
        "    u\"\\U0001F3FB\"\n",
        "    u\"\\U0001F3C2\"\n",
        "    u\"\\U0001F3FC\"\n",
        "    u\"\\U0001F3C2\"\n",
        "    u\"\\U0001F3FD\"\n",
        "    u\"\\U0001F3C2\"\n",
        "    u\"\\U0001F3FE\"\n",
        "    u\"\\U0001F3C2\"\n",
        "    u\"\\U0001F3FF\"\n",
        "    u\"\\U0001F3C3\"\n",
        "    u\"\\U0001F3FB\"\n",
        "    u\"\\U0001F3C3\"\n",
        "    u\"\\U0001F3FC\"\n",
        "    u\"\\U0001F3C3\"\n",
        "    u\"\\U0001F3FD\"\n",
        "    u\"\\U0001F3C3\"\n",
        "    u\"\\U0001F3FE\"\n",
        "    u\"\\U0001F3C3\"\n",
        "    u\"\\U0001F3FF\"\n",
        "    u\"\\U0001F3C4\"\n",
        "    u\"\\U0001F3FB\"\n",
        "    u\"\\U0001F3C4\"\n",
        "    u\"\\U0001F3FC\"\n",
        "    u\"\\U0001F3C4\"\n",
        "    u\"\\U0001F3FD\"\n",
        "    u\"\\U0001F3C4\"\n",
        "    u\"\\U0001F3FE\"\n",
        "    u\"\\U0001F3C4\"\n",
        "    u\"\\U0001F3FF\"\n",
        "    u\"\\U0001F3C7\"\n",
        "    u\"\\U0001F3FB\"\n",
        "    u\"\\U0001F3C7\"\n",
        "    u\"\\U0001F3FC\"\n",
        "    u\"\\U0001F3C7\"\n",
        "    u\"\\U0001F3FD\"\n",
        "    u\"\\U0001F3C7\"\n",
        "    u\"\\U0001F3FE\"\n",
        "    u\"\\U0001F3C7\"\n",
        "    u\"\\U0001F3FF\"\n",
        "    u\"\\U0001F3CA\"\n",
        "    u\"\\U0001F3FB\"\n",
        "    u\"\\U0001F3CA\"\n",
        "    u\"\\U0001F3FC\"\n",
        "    u\"\\U0001F3CA\"\n",
        "    u\"\\U0001F3FD\"\n",
        "    u\"\\U0001F3CA\"\n",
        "    u\"\\U0001F3FE\"\n",
        "    u\"\\U0001F3CA\"\n",
        "    u\"\\U0001F3FF\"\n",
        "    u\"\\U0001F3CB\"\n",
        "    u\"\\U0001F3FB\"\n",
        "    u\"\\U0001F3CB\"\n",
        "    u\"\\U0001F3FC\"\n",
        "    u\"\\U0001F3CB\"\n",
        "    u\"\\U0001F3FD\"\n",
        "    u\"\\U0001F3CB\"\n",
        "    u\"\\U0001F3FE\"\n",
        "    u\"\\U0001F3CB\"\n",
        "    u\"\\U0001F3FF\"\n",
        "    u\"\\U0001F3CC\"\n",
        "    u\"\\U0001F3FB\"\n",
        "    u\"\\U0001F3CC\"\n",
        "    u\"\\U0001F3FC\"\n",
        "    u\"\\U0001F3CC\"\n",
        "    u\"\\U0001F3FD\"\n",
        "    u\"\\U0001F3CC\"\n",
        "    u\"\\U0001F3FE\"\n",
        "    u\"\\U0001F3CC\"\n",
        "    u\"\\U0001F3FF\"\n",
        "    u\"\\U0001F442\"\n",
        "    u\"\\U0001F3FB\"\n",
        "    u\"\\U0001F442\"\n",
        "    u\"\\U0001F3FC\"\n",
        "    u\"\\U0001F442\"\n",
        "    u\"\\U0001F3FD\"\n",
        "    u\"\\U0001F442\"\n",
        "    u\"\\U0001F3FE\"\n",
        "    u\"\\U0001F442\"\n",
        "    u\"\\U0001F3FF\"\n",
        "    u\"\\U0001F443\"\n",
        "    u\"\\U0001F3FB\"\n",
        "    u\"\\U0001F443\"\n",
        "    u\"\\U0001F3FC\"\n",
        "    u\"\\U0001F443\"\n",
        "    u\"\\U0001F3FD\"\n",
        "    u\"\\U0001F443\"\n",
        "    u\"\\U0001F3FE\"\n",
        "    u\"\\U0001F443\"\n",
        "    u\"\\U0001F3FF\"\n",
        "    u\"\\U0001F446\"\n",
        "    u\"\\U0001F3FB\"\n",
        "    u\"\\U0001F446\"\n",
        "    u\"\\U0001F3FC\"\n",
        "    u\"\\U0001F446\"\n",
        "    u\"\\U0001F3FD\"\n",
        "    u\"\\U0001F446\"\n",
        "    u\"\\U0001F3FE\"\n",
        "    u\"\\U0001F446\"\n",
        "    u\"\\U0001F3FF\"\n",
        "    u\"\\U0001F447\"\n",
        "    u\"\\U0001F3FB\"\n",
        "    u\"\\U0001F447\"\n",
        "    u\"\\U0001F3FC\"\n",
        "    u\"\\U0001F447\"\n",
        "    u\"\\U0001F3FD\"\n",
        "    u\"\\U0001F447\"\n",
        "    u\"\\U0001F3FE\"\n",
        "    u\"\\U0001F447\"\n",
        "    u\"\\U0001F3FF\"\n",
        "    u\"\\U0001F448\"\n",
        "    u\"\\U0001F3FB\"\n",
        "    u\"\\U0001F448\"\n",
        "    u\"\\U0001F3FC\"\n",
        "    u\"\\U0001F448\"\n",
        "    u\"\\U0001F3FD\"\n",
        "    u\"\\U0001F448\"\n",
        "    u\"\\U0001F3FE\"\n",
        "    u\"\\U0001F448\"\n",
        "    u\"\\U0001F3FF\"\n",
        "    u\"\\U0001F449\"\n",
        "    u\"\\U0001F3FB\"\n",
        "    u\"\\U0001F449\"\n",
        "    u\"\\U0001F3FC\"\n",
        "    u\"\\U0001F449\"\n",
        "    u\"\\U0001F3FD\"\n",
        "    u\"\\U0001F449\"\n",
        "    u\"\\U0001F3FE\"\n",
        "    u\"\\U0001F449\"\n",
        "    u\"\\U0001F3FF\"\n",
        "    u\"\\U0001F44A\"\n",
        "    u\"\\U0001F3FB\"\n",
        "    u\"\\U0001F44A\"\n",
        "    u\"\\U0001F3FC\"\n",
        "    u\"\\U0001F44A\"\n",
        "    u\"\\U0001F3FD\"\n",
        "    u\"\\U0001F44A\"\n",
        "    u\"\\U0001F3FE\"\n",
        "    u\"\\U0001F44A\"\n",
        "    u\"\\U0001F3FF\"\n",
        "    u\"\\U0001F44B\"\n",
        "    u\"\\U0001F3FB\"\n",
        "    u\"\\U0001F44B\"\n",
        "    u\"\\U0001F3FC\"\n",
        "    u\"\\U0001F44B\"\n",
        "    u\"\\U0001F3FD\"\n",
        "    u\"\\U0001F44B\"\n",
        "    u\"\\U0001F3FE\"\n",
        "    u\"\\U0001F44B\"\n",
        "    u\"\\U0001F3FF\"\n",
        "    u\"\\U0001F44C\"\n",
        "    u\"\\U0001F3FB\"\n",
        "    u\"\\U0001F44C\"\n",
        "    u\"\\U0001F3FC\"\n",
        "    u\"\\U0001F44C\"\n",
        "    u\"\\U0001F3FD\"\n",
        "    u\"\\U0001F44C\"\n",
        "    u\"\\U0001F3FE\"\n",
        "    u\"\\U0001F44C\"\n",
        "    u\"\\U0001F3FF\"\n",
        "    u\"\\U0001F44D\"\n",
        "    u\"\\U0001F3FB\"\n",
        "    u\"\\U0001F44D\"\n",
        "    u\"\\U0001F3FC\"\n",
        "    u\"\\U0001F44D\"\n",
        "    u\"\\U0001F3FD\"\n",
        "    u\"\\U0001F44D\"\n",
        "    u\"\\U0001F3FE\"\n",
        "    u\"\\U0001F44D\"\n",
        "    u\"\\U0001F3FF\"\n",
        "    u\"\\U0001F44E\"\n",
        "    u\"\\U0001F3FB\"\n",
        "    u\"\\U0001F44E\"\n",
        "    u\"\\U0001F3FC\"\n",
        "    u\"\\U0001F44E\"\n",
        "    u\"\\U0001F3FD\"\n",
        "    u\"\\U0001F44E\"\n",
        "    u\"\\U0001F3FE\"\n",
        "    u\"\\U0001F44E\"\n",
        "    u\"\\U0001F3FF\"\n",
        "    u\"\\U0001F44F\"\n",
        "    u\"\\U0001F3FB\"\n",
        "    u\"\\U0001F44F\"\n",
        "    u\"\\U0001F3FC\"\n",
        "    u\"\\U0001F44F\"\n",
        "    u\"\\U0001F3FD\"\n",
        "    u\"\\U0001F44F\"\n",
        "    u\"\\U0001F3FE\"\n",
        "    u\"\\U0001F44F\"\n",
        "    u\"\\U0001F3FF\"\n",
        "    u\"\\U0001F450\"\n",
        "    u\"\\U0001F3FB\"\n",
        "    u\"\\U0001F450\"\n",
        "    u\"\\U0001F3FC\"\n",
        "    u\"\\U0001F450\"\n",
        "    u\"\\U0001F3FD\"\n",
        "    u\"\\U0001F450\"\n",
        "    u\"\\U0001F3FE\"\n",
        "    u\"\\U0001F450\"\n",
        "    u\"\\U0001F3FF\"\n",
        "    u\"\\U0001F466\"\n",
        "    u\"\\U0001F3FB\"\n",
        "    u\"\\U0001F466\"\n",
        "    u\"\\U0001F3FC\"\n",
        "    u\"\\U0001F466\"\n",
        "    u\"\\U0001F3FD\"\n",
        "    u\"\\U0001F466\"\n",
        "    u\"\\U0001F3FE\"\n",
        "    u\"\\U0001F466\"\n",
        "    u\"\\U0001F3FF\"\n",
        "    u\"\\U0001F467\"\n",
        "    u\"\\U0001F3FB\"\n",
        "    u\"\\U0001F467\"\n",
        "    u\"\\U0001F3FC\"\n",
        "    u\"\\U0001F467\"\n",
        "    u\"\\U0001F3FD\"\n",
        "    u\"\\U0001F467\"\n",
        "    u\"\\U0001F3FE\"\n",
        "    u\"\\U0001F467\"\n",
        "    u\"\\U0001F3FF\"\n",
        "    u\"\\U0001F468\"\n",
        "    u\"\\U0001F3FB\"\n",
        "    u\"\\U0001F468\"\n",
        "    u\"\\U0001F3FC\"\n",
        "    u\"\\U0001F468\"\n",
        "    u\"\\U0001F3FD\"\n",
        "    u\"\\U0001F468\"\n",
        "    u\"\\U0001F3FE\"\n",
        "    u\"\\U0001F468\"\n",
        "    u\"\\U0001F3FF\"\n",
        "    u\"\\U0001F469\"\n",
        "    u\"\\U0001F3FB\"\n",
        "    u\"\\U0001F469\"\n",
        "    u\"\\U0001F3FC\"\n",
        "    u\"\\U0001F469\"\n",
        "    u\"\\U0001F3FD\"\n",
        "    u\"\\U0001F469\"\n",
        "    u\"\\U0001F3FE\"\n",
        "    u\"\\U0001F469\"\n",
        "    u\"\\U0001F3FF\"\n",
        "    u\"\\U0001F46B\"\n",
        "    u\"\\U0001F3FB\"\n",
        "    u\"\\U0001F46B\"\n",
        "    u\"\\U0001F3FC\"\n",
        "    u\"\\U0001F46B\"\n",
        "    u\"\\U0001F3FD\"\n",
        "    u\"\\U0001F46B\"\n",
        "    u\"\\U0001F3FE\"\n",
        "    u\"\\U0001F46B\"\n",
        "    u\"\\U0001F3FF\"\n",
        "    u\"\\U0001F46C\"\n",
        "    u\"\\U0001F3FB\"\n",
        "    u\"\\U0001F46C\"\n",
        "    u\"\\U0001F3FC\"\n",
        "    u\"\\U0001F46C\"\n",
        "    u\"\\U0001F3FD\"\n",
        "    u\"\\U0001F46C\"\n",
        "    u\"\\U0001F3FE\"\n",
        "    u\"\\U0001F46C\"\n",
        "    u\"\\U0001F3FF\"\n",
        "    u\"\\U0001F46D\"\n",
        "    u\"\\U0001F3FB\"\n",
        "    u\"\\U0001F46D\"\n",
        "    u\"\\U0001F3FC\"\n",
        "    u\"\\U0001F46D\"\n",
        "    u\"\\U0001F3FD\"\n",
        "    u\"\\U0001F46D\"\n",
        "    u\"\\U0001F3FE\"\n",
        "    u\"\\U0001F46D\"\n",
        "    u\"\\U0001F3FF\"\n",
        "    u\"\\U0001F46E\"\n",
        "    u\"\\U0001F3FB\"\n",
        "    u\"\\U0001F46E\"\n",
        "    u\"\\U0001F3FC\"\n",
        "    u\"\\U0001F46E\"\n",
        "    u\"\\U0001F3FD\"\n",
        "    u\"\\U0001F46E\"\n",
        "    u\"\\U0001F3FE\"\n",
        "    u\"\\U0001F46E\"\n",
        "    u\"\\U0001F3FF\"\n",
        "    u\"\\U0001F470\"\n",
        "    u\"\\U0001F3FB\"\n",
        "    u\"\\U0001F470\"\n",
        "    u\"\\U0001F3FC\"\n",
        "    u\"\\U0001F470\"\n",
        "    u\"\\U0001F3FD\"\n",
        "    u\"\\U0001F470\"\n",
        "    u\"\\U0001F3FE\"\n",
        "    u\"\\U0001F470\"\n",
        "    u\"\\U0001F3FF\"\n",
        "    u\"\\U0001F471\"\n",
        "    u\"\\U0001F3FB\"\n",
        "    u\"\\U0001F471\"\n",
        "    u\"\\U0001F3FC\"\n",
        "    u\"\\U0001F471\"\n",
        "    u\"\\U0001F3FD\"\n",
        "    u\"\\U0001F471\"\n",
        "    u\"\\U0001F3FE\"\n",
        "    u\"\\U0001F471\"\n",
        "    u\"\\U0001F3FF\"\n",
        "    u\"\\U0001F472\"\n",
        "    u\"\\U0001F3FB\"\n",
        "    u\"\\U0001F472\"\n",
        "    u\"\\U0001F3FC\"\n",
        "    u\"\\U0001F472\"\n",
        "    u\"\\U0001F3FD\"\n",
        "    u\"\\U0001F472\"\n",
        "    u\"\\U0001F3FE\"\n",
        "    u\"\\U0001F472\"\n",
        "    u\"\\U0001F3FF\"\n",
        "    u\"\\U0001F473\"\n",
        "    u\"\\U0001F3FB\"\n",
        "    u\"\\U0001F473\"\n",
        "    u\"\\U0001F3FC\"\n",
        "    u\"\\U0001F473\"\n",
        "    u\"\\U0001F3FD\"\n",
        "    u\"\\U0001F473\"\n",
        "    u\"\\U0001F3FE\"\n",
        "    u\"\\U0001F473\"\n",
        "    u\"\\U0001F3FF\"\n",
        "    u\"\\U0001F474\"\n",
        "    u\"\\U0001F3FB\"\n",
        "    u\"\\U0001F474\"\n",
        "    u\"\\U0001F3FC\"\n",
        "    u\"\\U0001F474\"\n",
        "    u\"\\U0001F3FD\"\n",
        "    u\"\\U0001F474\"\n",
        "    u\"\\U0001F3FE\"\n",
        "    u\"\\U0001F474\"\n",
        "    u\"\\U0001F3FF\"\n",
        "    u\"\\U0001F475\"\n",
        "    u\"\\U0001F3FB\"\n",
        "    u\"\\U0001F475\"\n",
        "    u\"\\U0001F3FC\"\n",
        "    u\"\\U0001F475\"\n",
        "    u\"\\U0001F3FD\"\n",
        "    u\"\\U0001F475\"\n",
        "    u\"\\U0001F3FE\"\n",
        "    u\"\\U0001F475\"\n",
        "    u\"\\U0001F3FF\"\n",
        "    u\"\\U0001F476\"\n",
        "    u\"\\U0001F3FB\"\n",
        "    u\"\\U0001F476\"\n",
        "    u\"\\U0001F3FC\"\n",
        "    u\"\\U0001F476\"\n",
        "    u\"\\U0001F3FD\"\n",
        "    u\"\\U0001F476\"\n",
        "    u\"\\U0001F3FE\"\n",
        "    u\"\\U0001F476\"\n",
        "    u\"\\U0001F3FF\"\n",
        "    u\"\\U0001F477\"\n",
        "    u\"\\U0001F3FB\"\n",
        "    u\"\\U0001F477\"\n",
        "    u\"\\U0001F3FC\"\n",
        "    u\"\\U0001F477\"\n",
        "    u\"\\U0001F3FD\"\n",
        "    u\"\\U0001F477\"\n",
        "    u\"\\U0001F3FE\"\n",
        "    u\"\\U0001F477\"\n",
        "    u\"\\U0001F3FF\"\n",
        "    u\"\\U0001F478\"\n",
        "    u\"\\U0001F3FB\"\n",
        "    u\"\\U0001F478\"\n",
        "    u\"\\U0001F3FC\"\n",
        "    u\"\\U0001F478\"\n",
        "    u\"\\U0001F3FD\"\n",
        "    u\"\\U0001F478\"\n",
        "    u\"\\U0001F3FE\"\n",
        "    u\"\\U0001F478\"\n",
        "    u\"\\U0001F3FF\"\n",
        "    u\"\\U0001F47C\"\n",
        "    u\"\\U0001F3FB\"\n",
        "    u\"\\U0001F47C\"\n",
        "    u\"\\U0001F3FC\"\n",
        "    u\"\\U0001F47C\"\n",
        "    u\"\\U0001F3FD\"\n",
        "    u\"\\U0001F47C\"\n",
        "    u\"\\U0001F3FE\"\n",
        "    u\"\\U0001F47C\"\n",
        "    u\"\\U0001F3FF\"\n",
        "    u\"\\U0001F481\"\n",
        "    u\"\\U0001F3FB\"\n",
        "    u\"\\U0001F481\"\n",
        "    u\"\\U0001F3FC\"\n",
        "    u\"\\U0001F481\"\n",
        "    u\"\\U0001F3FD\"\n",
        "    u\"\\U0001F481\"\n",
        "    u\"\\U0001F3FE\"\n",
        "    u\"\\U0001F481\"\n",
        "    u\"\\U0001F3FF\"\n",
        "    u\"\\U0001F482\"\n",
        "    u\"\\U0001F3FB\"\n",
        "    u\"\\U0001F482\"\n",
        "    u\"\\U0001F3FC\"\n",
        "    u\"\\U0001F482\"\n",
        "    u\"\\U0001F3FD\"\n",
        "    u\"\\U0001F482\"\n",
        "    u\"\\U0001F3FE\"\n",
        "    u\"\\U0001F482\"\n",
        "    u\"\\U0001F3FF\"\n",
        "    u\"\\U0001F483\"\n",
        "    u\"\\U0001F3FB\"\n",
        "    u\"\\U0001F483\"\n",
        "    u\"\\U0001F3FC\"\n",
        "    u\"\\U0001F483\"\n",
        "    u\"\\U0001F3FD\"\n",
        "    u\"\\U0001F483\"\n",
        "    u\"\\U0001F3FE\"\n",
        "    u\"\\U0001F483\"\n",
        "    u\"\\U0001F3FF\"\n",
        "    u\"\\U0001F485\"\n",
        "    u\"\\U0001F3FB\"\n",
        "    u\"\\U0001F485\"\n",
        "    u\"\\U0001F3FC\"\n",
        "    u\"\\U0001F485\"\n",
        "    u\"\\U0001F3FD\"\n",
        "    u\"\\U0001F485\"\n",
        "    u\"\\U0001F3FE\"\n",
        "    u\"\\U0001F485\"\n",
        "    u\"\\U0001F3FF\"\n",
        "    u\"\\U0001F486\"\n",
        "    u\"\\U0001F3FB\"\n",
        "    u\"\\U0001F486\"\n",
        "    u\"\\U0001F3FC\"\n",
        "    u\"\\U0001F486\"\n",
        "    u\"\\U0001F3FD\"\n",
        "    u\"\\U0001F486\"\n",
        "    u\"\\U0001F3FE\"\n",
        "    u\"\\U0001F486\"\n",
        "    u\"\\U0001F3FF\"\n",
        "    u\"\\U0001F487\"\n",
        "    u\"\\U0001F3FB\"\n",
        "    u\"\\U0001F487\"\n",
        "    u\"\\U0001F3FC\"\n",
        "    u\"\\U0001F487\"\n",
        "    u\"\\U0001F3FD\"\n",
        "    u\"\\U0001F487\"\n",
        "    u\"\\U0001F3FE\"\n",
        "    u\"\\U0001F487\"\n",
        "    u\"\\U0001F3FF\"\n",
        "    u\"\\U0001F48F\"\n",
        "    u\"\\U0001F3FB\"\n",
        "    u\"\\U0001F48F\"\n",
        "    u\"\\U0001F3FC\"\n",
        "    u\"\\U0001F48F\"\n",
        "    u\"\\U0001F3FD\"\n",
        "    u\"\\U0001F48F\"\n",
        "    u\"\\U0001F3FE\"\n",
        "    u\"\\U0001F48F\"\n",
        "    u\"\\U0001F3FF\"\n",
        "    u\"\\U0001F491\"\n",
        "    u\"\\U0001F3FB\"\n",
        "    u\"\\U0001F491\"\n",
        "    u\"\\U0001F3FC\"\n",
        "    u\"\\U0001F491\"\n",
        "    u\"\\U0001F3FD\"\n",
        "    u\"\\U0001F491\"\n",
        "    u\"\\U0001F3FE\"\n",
        "    u\"\\U0001F491\"\n",
        "    u\"\\U0001F3FF\"\n",
        "    u\"\\U0001F4AA\"\n",
        "    u\"\\U0001F3FB\"\n",
        "    u\"\\U0001F4AA\"\n",
        "    u\"\\U0001F3FC\"\n",
        "    u\"\\U0001F4AA\"\n",
        "    u\"\\U0001F3FD\"\n",
        "    u\"\\U0001F4AA\"\n",
        "    u\"\\U0001F3FE\"\n",
        "    u\"\\U0001F4AA\"\n",
        "    u\"\\U0001F3FF\"\n",
        "    u\"\\U0001F574\"\n",
        "    u\"\\U0001F3FB\"\n",
        "    u\"\\U0001F574\"\n",
        "    u\"\\U0001F3FC\"\n",
        "    u\"\\U0001F574\"\n",
        "    u\"\\U0001F3FD\"\n",
        "    u\"\\U0001F574\"\n",
        "    u\"\\U0001F3FE\"\n",
        "    u\"\\U0001F574\"\n",
        "    u\"\\U0001F3FF\"\n",
        "    u\"\\U0001F575\"\n",
        "    u\"\\U0001F3FB\"\n",
        "    u\"\\U0001F575\"\n",
        "    u\"\\U0001F3FC\"\n",
        "    u\"\\U0001F575\"\n",
        "    u\"\\U0001F3FD\"\n",
        "    u\"\\U0001F575\"\n",
        "    u\"\\U0001F3FE\"\n",
        "    u\"\\U0001F575\"\n",
        "    u\"\\U0001F3FF\"\n",
        "    u\"\\U0001F57A\"\n",
        "    u\"\\U0001F3FB\"\n",
        "    u\"\\U0001F57A\"\n",
        "    u\"\\U0001F3FC\"\n",
        "    u\"\\U0001F57A\"\n",
        "    u\"\\U0001F3FD\"\n",
        "    u\"\\U0001F57A\"\n",
        "    u\"\\U0001F3FE\"\n",
        "    u\"\\U0001F57A\"\n",
        "    u\"\\U0001F3FF\"\n",
        "    u\"\\U0001F590\"\n",
        "    u\"\\U0001F3FB\"\n",
        "    u\"\\U0001F590\"\n",
        "    u\"\\U0001F3FC\"\n",
        "    u\"\\U0001F590\"\n",
        "    u\"\\U0001F3FD\"\n",
        "    u\"\\U0001F590\"\n",
        "    u\"\\U0001F3FE\"\n",
        "    u\"\\U0001F590\"\n",
        "    u\"\\U0001F3FF\"\n",
        "    u\"\\U0001F595\"\n",
        "    u\"\\U0001F3FB\"\n",
        "    u\"\\U0001F595\"\n",
        "    u\"\\U0001F3FC\"\n",
        "    u\"\\U0001F595\"\n",
        "    u\"\\U0001F3FD\"\n",
        "    u\"\\U0001F595\"\n",
        "    u\"\\U0001F3FE\"\n",
        "    u\"\\U0001F595\"\n",
        "    u\"\\U0001F3FF\"\n",
        "    u\"\\U0001F596\"\n",
        "    u\"\\U0001F3FB\"\n",
        "    u\"\\U0001F596\"\n",
        "    u\"\\U0001F3FC\"\n",
        "    u\"\\U0001F596\"\n",
        "    u\"\\U0001F3FD\"\n",
        "    u\"\\U0001F596\"\n",
        "    u\"\\U0001F3FE\"\n",
        "    u\"\\U0001F596\"\n",
        "    u\"\\U0001F3FF\"\n",
        "    u\"\\U0001F645\"\n",
        "    u\"\\U0001F3FB\"\n",
        "    u\"\\U0001F645\"\n",
        "    u\"\\U0001F3FC\"\n",
        "    u\"\\U0001F645\"\n",
        "    u\"\\U0001F3FD\"\n",
        "    u\"\\U0001F645\"\n",
        "    u\"\\U0001F3FE\"\n",
        "    u\"\\U0001F645\"\n",
        "    u\"\\U0001F3FF\"\n",
        "    u\"\\U0001F646\"\n",
        "    u\"\\U0001F3FB\"\n",
        "    u\"\\U0001F646\"\n",
        "    u\"\\U0001F3FC\"\n",
        "    u\"\\U0001F646\"\n",
        "    u\"\\U0001F3FD\"\n",
        "    u\"\\U0001F646\"\n",
        "    u\"\\U0001F3FE\"\n",
        "    u\"\\U0001F646\"\n",
        "    u\"\\U0001F3FF\"\n",
        "    u\"\\U0001F647\"\n",
        "    u\"\\U0001F3FB\"\n",
        "    u\"\\U0001F647\"\n",
        "    u\"\\U0001F3FC\"\n",
        "    u\"\\U0001F647\"\n",
        "    u\"\\U0001F3FD\"\n",
        "    u\"\\U0001F647\"\n",
        "    u\"\\U0001F3FE\"\n",
        "    u\"\\U0001F647\"\n",
        "    u\"\\U0001F3FF\"\n",
        "    u\"\\U0001F64B\"\n",
        "    u\"\\U0001F3FB\"\n",
        "    u\"\\U0001F64B\"\n",
        "    u\"\\U0001F3FC\"\n",
        "    u\"\\U0001F64B\"\n",
        "    u\"\\U0001F3FD\"\n",
        "    u\"\\U0001F64B\"\n",
        "    u\"\\U0001F3FE\"\n",
        "    u\"\\U0001F64B\"\n",
        "    u\"\\U0001F3FF\"\n",
        "    u\"\\U0001F64C\"\n",
        "    u\"\\U0001F3FB\"\n",
        "    u\"\\U0001F64C\"\n",
        "    u\"\\U0001F3FC\"\n",
        "    u\"\\U0001F64C\"\n",
        "    u\"\\U0001F3FD\"\n",
        "    u\"\\U0001F64C\"\n",
        "    u\"\\U0001F3FE\"\n",
        "    u\"\\U0001F64C\"\n",
        "    u\"\\U0001F3FF\"\n",
        "    u\"\\U0001F64D\"\n",
        "    u\"\\U0001F3FB\"\n",
        "    u\"\\U0001F64D\"\n",
        "    u\"\\U0001F3FC\"\n",
        "    u\"\\U0001F64D\"\n",
        "    u\"\\U0001F3FD\"\n",
        "    u\"\\U0001F64D\"\n",
        "    u\"\\U0001F3FE\"\n",
        "    u\"\\U0001F64D\"\n",
        "    u\"\\U0001F3FF\"\n",
        "    u\"\\U0001F64E\"\n",
        "    u\"\\U0001F3FB\"\n",
        "    u\"\\U0001F64E\"\n",
        "    u\"\\U0001F3FC\"\n",
        "    u\"\\U0001F64E\"\n",
        "    u\"\\U0001F3FD\"\n",
        "    u\"\\U0001F64E\"\n",
        "    u\"\\U0001F3FE\"\n",
        "    u\"\\U0001F64E\"\n",
        "    u\"\\U0001F3FF\"\n",
        "    u\"\\U0001F64F\"\n",
        "    u\"\\U0001F3FB\"\n",
        "    u\"\\U0001F64F\"\n",
        "    u\"\\U0001F3FC\"\n",
        "    u\"\\U0001F64F\"\n",
        "    u\"\\U0001F3FD\"\n",
        "    u\"\\U0001F64F\"\n",
        "    u\"\\U0001F3FE\"\n",
        "    u\"\\U0001F64F\"\n",
        "    u\"\\U0001F3FF\"\n",
        "    u\"\\U0001F6A3\"\n",
        "    u\"\\U0001F3FB\"\n",
        "    u\"\\U0001F6A3\"\n",
        "    u\"\\U0001F3FC\"\n",
        "    u\"\\U0001F6A3\"\n",
        "    u\"\\U0001F3FD\"\n",
        "    u\"\\U0001F6A3\"\n",
        "    u\"\\U0001F3FE\"\n",
        "    u\"\\U0001F6A3\"\n",
        "    u\"\\U0001F3FF\"\n",
        "    u\"\\U0001F6B4\"\n",
        "    u\"\\U0001F3FB\"\n",
        "    u\"\\U0001F6B4\"\n",
        "    u\"\\U0001F3FC\"\n",
        "    u\"\\U0001F6B4\"\n",
        "    u\"\\U0001F3FD\"\n",
        "    u\"\\U0001F6B4\"\n",
        "    u\"\\U0001F3FE\"\n",
        "    u\"\\U0001F6B4\"\n",
        "    u\"\\U0001F3FF\"\n",
        "    u\"\\U0001F6B5\"\n",
        "    u\"\\U0001F3FB\"\n",
        "    u\"\\U0001F6B5\"\n",
        "    u\"\\U0001F3FC\"\n",
        "    u\"\\U0001F6B5\"\n",
        "    u\"\\U0001F3FD\"\n",
        "    u\"\\U0001F6B5\"\n",
        "    u\"\\U0001F3FE\"\n",
        "    u\"\\U0001F6B5\"\n",
        "    u\"\\U0001F3FF\"\n",
        "    u\"\\U0001F6B6\"\n",
        "    u\"\\U0001F3FB\"\n",
        "    u\"\\U0001F6B6\"\n",
        "    u\"\\U0001F3FC\"\n",
        "    u\"\\U0001F6B6\"\n",
        "    u\"\\U0001F3FD\"\n",
        "    u\"\\U0001F6B6\"\n",
        "    u\"\\U0001F3FE\"\n",
        "    u\"\\U0001F6B6\"\n",
        "    u\"\\U0001F3FF\"\n",
        "    u\"\\U0001F6C0\"\n",
        "    u\"\\U0001F3FB\"\n",
        "    u\"\\U0001F6C0\"\n",
        "    u\"\\U0001F3FC\"\n",
        "    u\"\\U0001F6C0\"\n",
        "    u\"\\U0001F3FD\"\n",
        "    u\"\\U0001F6C0\"\n",
        "    u\"\\U0001F3FE\"\n",
        "    u\"\\U0001F6C0\"\n",
        "    u\"\\U0001F3FF\"\n",
        "    u\"\\U0001F6CC\"\n",
        "    u\"\\U0001F3FB\"\n",
        "    u\"\\U0001F6CC\"\n",
        "    u\"\\U0001F3FC\"\n",
        "    u\"\\U0001F6CC\"\n",
        "    u\"\\U0001F3FD\"\n",
        "    u\"\\U0001F6CC\"\n",
        "    u\"\\U0001F3FE\"\n",
        "    u\"\\U0001F6CC\"\n",
        "    u\"\\U0001F3FF\"\n",
        "    u\"\\U0001F90C\"\n",
        "    u\"\\U0001F3FB\"\n",
        "    u\"\\U0001F90C\"\n",
        "    u\"\\U0001F3FC\"\n",
        "    u\"\\U0001F90C\"\n",
        "    u\"\\U0001F3FD\"\n",
        "    u\"\\U0001F90C\"\n",
        "    u\"\\U0001F3FE\"\n",
        "    u\"\\U0001F90C\"\n",
        "    u\"\\U0001F3FF\"\n",
        "    u\"\\U0001F90F\"\n",
        "    u\"\\U0001F3FB\"\n",
        "    u\"\\U0001F90F\"\n",
        "    u\"\\U0001F3FC\"\n",
        "    u\"\\U0001F90F\"\n",
        "    u\"\\U0001F3FD\"\n",
        "    u\"\\U0001F90F\"\n",
        "    u\"\\U0001F3FE\"\n",
        "    u\"\\U0001F90F\"\n",
        "    u\"\\U0001F3FF\"\n",
        "    u\"\\U0001F918\"\n",
        "    u\"\\U0001F3FB\"\n",
        "    u\"\\U0001F918\"\n",
        "    u\"\\U0001F3FC\"\n",
        "    u\"\\U0001F918\"\n",
        "    u\"\\U0001F3FD\"\n",
        "    u\"\\U0001F918\"\n",
        "    u\"\\U0001F3FE\"\n",
        "    u\"\\U0001F918\"\n",
        "    u\"\\U0001F3FF\"\n",
        "    u\"\\U0001F919\"\n",
        "    u\"\\U0001F3FB\"\n",
        "    u\"\\U0001F919\"\n",
        "    u\"\\U0001F3FC\"\n",
        "    u\"\\U0001F919\"\n",
        "    u\"\\U0001F3FD\"\n",
        "    u\"\\U0001F919\"\n",
        "    u\"\\U0001F3FE\"\n",
        "    u\"\\U0001F919\"\n",
        "    u\"\\U0001F3FF\"\n",
        "    u\"\\U0001F91A\"\n",
        "    u\"\\U0001F3FB\"\n",
        "    u\"\\U0001F91A\"\n",
        "    u\"\\U0001F3FC\"\n",
        "    u\"\\U0001F91A\"\n",
        "    u\"\\U0001F3FD\"\n",
        "    u\"\\U0001F91A\"\n",
        "    u\"\\U0001F3FE\"\n",
        "    u\"\\U0001F91A\"\n",
        "    u\"\\U0001F3FF\"\n",
        "    u\"\\U0001F91B\"\n",
        "    u\"\\U0001F3FB\"\n",
        "    u\"\\U0001F91B\"\n",
        "    u\"\\U0001F3FC\"\n",
        "    u\"\\U0001F91B\"\n",
        "    u\"\\U0001F3FD\"\n",
        "    u\"\\U0001F91B\"\n",
        "    u\"\\U0001F3FE\"\n",
        "    u\"\\U0001F91B\"\n",
        "    u\"\\U0001F3FF\"\n",
        "    u\"\\U0001F91C\"\n",
        "    u\"\\U0001F3FB\"\n",
        "    u\"\\U0001F91C\"\n",
        "    u\"\\U0001F3FC\"\n",
        "    u\"\\U0001F91C\"\n",
        "    u\"\\U0001F3FD\"\n",
        "    u\"\\U0001F91C\"\n",
        "    u\"\\U0001F3FE\"\n",
        "    u\"\\U0001F91C\"\n",
        "    u\"\\U0001F3FF\"\n",
        "    u\"\\U0001F91D\"\n",
        "    u\"\\U0001F3FB\"\n",
        "    u\"\\U0001F91D\"\n",
        "    u\"\\U0001F3FC\"\n",
        "    u\"\\U0001F91D\"\n",
        "    u\"\\U0001F3FD\"\n",
        "    u\"\\U0001F91D\"\n",
        "    u\"\\U0001F3FE\"\n",
        "    u\"\\U0001F91D\"\n",
        "    u\"\\U0001F3FF\"\n",
        "    u\"\\U0001F91E\"\n",
        "    u\"\\U0001F3FB\"\n",
        "    u\"\\U0001F91E\"\n",
        "    u\"\\U0001F3FC\"\n",
        "    u\"\\U0001F91E\"\n",
        "    u\"\\U0001F3FD\"\n",
        "    u\"\\U0001F91E\"\n",
        "    u\"\\U0001F3FE\"\n",
        "    u\"\\U0001F91E\"\n",
        "    u\"\\U0001F3FF\"\n",
        "    u\"\\U0001F91F\"\n",
        "    u\"\\U0001F3FB\"\n",
        "    u\"\\U0001F91F\"\n",
        "    u\"\\U0001F3FC\"\n",
        "    u\"\\U0001F91F\"\n",
        "    u\"\\U0001F3FD\"\n",
        "    u\"\\U0001F91F\"\n",
        "    u\"\\U0001F3FE\"\n",
        "    u\"\\U0001F91F\"\n",
        "    u\"\\U0001F3FF\"\n",
        "    u\"\\U0001F926\"\n",
        "    u\"\\U0001F3FB\"\n",
        "    u\"\\U0001F926\"\n",
        "    u\"\\U0001F3FC\"\n",
        "    u\"\\U0001F926\"\n",
        "    u\"\\U0001F3FD\"\n",
        "    u\"\\U0001F926\"\n",
        "    u\"\\U0001F3FE\"\n",
        "    u\"\\U0001F926\"\n",
        "    u\"\\U0001F3FF\"\n",
        "    u\"\\U0001F930\"\n",
        "    u\"\\U0001F3FB\"\n",
        "    u\"\\U0001F930\"\n",
        "    u\"\\U0001F3FC\"\n",
        "    u\"\\U0001F930\"\n",
        "    u\"\\U0001F3FD\"\n",
        "    u\"\\U0001F930\"\n",
        "    u\"\\U0001F3FE\"\n",
        "    u\"\\U0001F930\"\n",
        "    u\"\\U0001F3FF\"\n",
        "    u\"\\U0001F931\"\n",
        "    u\"\\U0001F3FB\"\n",
        "    u\"\\U0001F931\"\n",
        "    u\"\\U0001F3FC\"\n",
        "    u\"\\U0001F931\"\n",
        "    u\"\\U0001F3FD\"\n",
        "    u\"\\U0001F931\"\n",
        "    u\"\\U0001F3FE\"\n",
        "    u\"\\U0001F931\"\n",
        "    u\"\\U0001F3FF\"\n",
        "    u\"\\U0001F932\"\n",
        "    u\"\\U0001F3FB\"\n",
        "    u\"\\U0001F932\"\n",
        "    u\"\\U0001F3FC\"\n",
        "    u\"\\U0001F932\"\n",
        "    u\"\\U0001F3FD\"\n",
        "    u\"\\U0001F932\"\n",
        "    u\"\\U0001F3FE\"\n",
        "    u\"\\U0001F932\"\n",
        "    u\"\\U0001F3FF\"\n",
        "    u\"\\U0001F933\"\n",
        "    u\"\\U0001F3FB\"\n",
        "    u\"\\U0001F933\"\n",
        "    u\"\\U0001F3FC\"\n",
        "    u\"\\U0001F933\"\n",
        "    u\"\\U0001F3FD\"\n",
        "    u\"\\U0001F933\"\n",
        "    u\"\\U0001F3FE\"\n",
        "    u\"\\U0001F933\"\n",
        "    u\"\\U0001F3FF\"\n",
        "    u\"\\U0001F934\"\n",
        "    u\"\\U0001F3FB\"\n",
        "    u\"\\U0001F934\"\n",
        "    u\"\\U0001F3FC\"\n",
        "    u\"\\U0001F934\"\n",
        "    u\"\\U0001F3FD\"\n",
        "    u\"\\U0001F934\"\n",
        "    u\"\\U0001F3FE\"\n",
        "    u\"\\U0001F934\"\n",
        "    u\"\\U0001F3FF\"\n",
        "    u\"\\U0001F935\"\n",
        "    u\"\\U0001F3FB\"\n",
        "    u\"\\U0001F935\"\n",
        "    u\"\\U0001F3FC\"\n",
        "    u\"\\U0001F935\"\n",
        "    u\"\\U0001F3FD\"\n",
        "    u\"\\U0001F935\"\n",
        "    u\"\\U0001F3FE\"\n",
        "    u\"\\U0001F935\"\n",
        "    u\"\\U0001F3FF\"\n",
        "    u\"\\U0001F936\"\n",
        "    u\"\\U0001F3FB\"\n",
        "    u\"\\U0001F936\"\n",
        "    u\"\\U0001F3FC\"\n",
        "    u\"\\U0001F936\"\n",
        "    u\"\\U0001F3FD\"\n",
        "    u\"\\U0001F936\"\n",
        "    u\"\\U0001F3FE\"\n",
        "    u\"\\U0001F936\"\n",
        "    u\"\\U0001F3FF\"\n",
        "    u\"\\U0001F937\"\n",
        "    u\"\\U0001F3FB\"\n",
        "    u\"\\U0001F937\"\n",
        "    u\"\\U0001F3FC\"\n",
        "    u\"\\U0001F937\"\n",
        "    u\"\\U0001F3FD\"\n",
        "    u\"\\U0001F937\"\n",
        "    u\"\\U0001F3FE\"\n",
        "    u\"\\U0001F937\"\n",
        "    u\"\\U0001F3FF\"\n",
        "    u\"\\U0001F938\"\n",
        "    u\"\\U0001F3FB\"\n",
        "    u\"\\U0001F938\"\n",
        "    u\"\\U0001F3FC\"\n",
        "    u\"\\U0001F938\"\n",
        "    u\"\\U0001F3FD\"\n",
        "    u\"\\U0001F938\"\n",
        "    u\"\\U0001F3FE\"\n",
        "    u\"\\U0001F938\"\n",
        "    u\"\\U0001F3FF\"\n",
        "    u\"\\U0001F939\"\n",
        "    u\"\\U0001F3FB\"\n",
        "    u\"\\U0001F939\"\n",
        "    u\"\\U0001F3FC\"\n",
        "    u\"\\U0001F939\"\n",
        "    u\"\\U0001F3FD\"\n",
        "    u\"\\U0001F939\"\n",
        "    u\"\\U0001F3FE\"\n",
        "    u\"\\U0001F939\"\n",
        "    u\"\\U0001F3FF\"\n",
        "    u\"\\U0001F93D\"\n",
        "    u\"\\U0001F3FB\"\n",
        "    u\"\\U0001F93D\"\n",
        "    u\"\\U0001F3FC\"\n",
        "    u\"\\U0001F93D\"\n",
        "    u\"\\U0001F3FD\"\n",
        "    u\"\\U0001F93D\"\n",
        "    u\"\\U0001F3FE\"\n",
        "    u\"\\U0001F93D\"\n",
        "    u\"\\U0001F3FF\"\n",
        "    u\"\\U0001F93E\"\n",
        "    u\"\\U0001F3FB\"\n",
        "    u\"\\U0001F93E\"\n",
        "    u\"\\U0001F3FC\"\n",
        "    u\"\\U0001F93E\"\n",
        "    u\"\\U0001F3FD\"\n",
        "    u\"\\U0001F93E\"\n",
        "    u\"\\U0001F3FE\"\n",
        "    u\"\\U0001F93E\"\n",
        "    u\"\\U0001F3FF\"\n",
        "    u\"\\U0001F977\"\n",
        "    u\"\\U0001F3FB\"\n",
        "    u\"\\U0001F977\"\n",
        "    u\"\\U0001F3FC\"\n",
        "    u\"\\U0001F977\"\n",
        "    u\"\\U0001F3FD\"\n",
        "    u\"\\U0001F977\"\n",
        "    u\"\\U0001F3FE\"\n",
        "    u\"\\U0001F977\"\n",
        "    u\"\\U0001F3FF\"\n",
        "    u\"\\U0001F9B5\"\n",
        "    u\"\\U0001F3FB\"\n",
        "    u\"\\U0001F9B5\"\n",
        "    u\"\\U0001F3FC\"\n",
        "    u\"\\U0001F9B5\"\n",
        "    u\"\\U0001F3FD\"\n",
        "    u\"\\U0001F9B5\"\n",
        "    u\"\\U0001F3FE\"\n",
        "    u\"\\U0001F9B5\"\n",
        "    u\"\\U0001F3FF\"\n",
        "    u\"\\U0001F9B6\"\n",
        "    u\"\\U0001F3FB\"\n",
        "    u\"\\U0001F9B6\"\n",
        "    u\"\\U0001F3FC\"\n",
        "    u\"\\U0001F9B6\"\n",
        "    u\"\\U0001F3FD\"\n",
        "    u\"\\U0001F9B6\"\n",
        "    u\"\\U0001F3FE\"\n",
        "    u\"\\U0001F9B6\"\n",
        "    u\"\\U0001F3FF\"\n",
        "    u\"\\U0001F9B8\"\n",
        "    u\"\\U0001F3FB\"\n",
        "    u\"\\U0001F9B8\"\n",
        "    u\"\\U0001F3FC\"\n",
        "    u\"\\U0001F9B8\"\n",
        "    u\"\\U0001F3FD\"\n",
        "    u\"\\U0001F9B8\"\n",
        "    u\"\\U0001F3FE\"\n",
        "    u\"\\U0001F9B8\"\n",
        "    u\"\\U0001F3FF\"\n",
        "    u\"\\U0001F9B9\"\n",
        "    u\"\\U0001F3FB\"\n",
        "    u\"\\U0001F9B9\"\n",
        "    u\"\\U0001F3FC\"\n",
        "    u\"\\U0001F9B9\"\n",
        "    u\"\\U0001F3FD\"\n",
        "    u\"\\U0001F9B9\"\n",
        "    u\"\\U0001F3FE\"\n",
        "    u\"\\U0001F9B9\"\n",
        "    u\"\\U0001F3FF\"\n",
        "    u\"\\U0001F9BB\"\n",
        "    u\"\\U0001F3FB\"\n",
        "    u\"\\U0001F9BB\"\n",
        "    u\"\\U0001F3FC\"\n",
        "    u\"\\U0001F9BB\"\n",
        "    u\"\\U0001F3FD\"\n",
        "    u\"\\U0001F9BB\"\n",
        "    u\"\\U0001F3FE\"\n",
        "    u\"\\U0001F9BB\"\n",
        "    u\"\\U0001F3FF\"\n",
        "    u\"\\U0001F9CD\"\n",
        "    u\"\\U0001F3FB\"\n",
        "    u\"\\U0001F9CD\"\n",
        "    u\"\\U0001F3FC\"\n",
        "    u\"\\U0001F9CD\"\n",
        "    u\"\\U0001F3FD\"\n",
        "    u\"\\U0001F9CD\"\n",
        "    u\"\\U0001F3FE\"\n",
        "    u\"\\U0001F9CD\"\n",
        "    u\"\\U0001F3FF\"\n",
        "    u\"\\U0001F9CE\"\n",
        "    u\"\\U0001F3FB\"\n",
        "    u\"\\U0001F9CE\"\n",
        "    u\"\\U0001F3FC\"\n",
        "    u\"\\U0001F9CE\"\n",
        "    u\"\\U0001F3FD\"\n",
        "    u\"\\U0001F9CE\"\n",
        "    u\"\\U0001F3FE\"\n",
        "    u\"\\U0001F9CE\"\n",
        "    u\"\\U0001F3FF\"\n",
        "    u\"\\U0001F9CF\"\n",
        "    u\"\\U0001F3FB\"\n",
        "    u\"\\U0001F9CF\"\n",
        "    u\"\\U0001F3FC\"\n",
        "    u\"\\U0001F9CF\"\n",
        "    u\"\\U0001F3FD\"\n",
        "    u\"\\U0001F9CF\"\n",
        "    u\"\\U0001F3FE\"\n",
        "    u\"\\U0001F9CF\"\n",
        "    u\"\\U0001F3FF\"\n",
        "    u\"\\U0001F9D1\"\n",
        "    u\"\\U0001F3FB\"\n",
        "    u\"\\U0001F9D1\"\n",
        "    u\"\\U0001F3FC\"\n",
        "    u\"\\U0001F9D1\"\n",
        "    u\"\\U0001F3FD\"\n",
        "    u\"\\U0001F9D1\"\n",
        "    u\"\\U0001F3FE\"\n",
        "    u\"\\U0001F9D1\"\n",
        "    u\"\\U0001F3FF\"\n",
        "    u\"\\U0001F9D2\"\n",
        "    u\"\\U0001F3FB\"\n",
        "    u\"\\U0001F9D2\"\n",
        "    u\"\\U0001F3FC\"\n",
        "    u\"\\U0001F9D2\"\n",
        "    u\"\\U0001F3FD\"\n",
        "    u\"\\U0001F9D2\"\n",
        "    u\"\\U0001F3FE\"\n",
        "    u\"\\U0001F9D2\"\n",
        "    u\"\\U0001F3FF\"\n",
        "    u\"\\U0001F9D3\"\n",
        "    u\"\\U0001F3FB\"\n",
        "    u\"\\U0001F9D3\"\n",
        "    u\"\\U0001F3FC\"\n",
        "    u\"\\U0001F9D3\"\n",
        "    u\"\\U0001F3FD\"\n",
        "    u\"\\U0001F9D3\"\n",
        "    u\"\\U0001F3FE\"\n",
        "    u\"\\U0001F9D3\"\n",
        "    u\"\\U0001F3FF\"\n",
        "    u\"\\U0001F9D4\"\n",
        "    u\"\\U0001F3FB\"\n",
        "    u\"\\U0001F9D4\"\n",
        "    u\"\\U0001F3FC\"\n",
        "    u\"\\U0001F9D4\"\n",
        "    u\"\\U0001F3FD\"\n",
        "    u\"\\U0001F9D4\"\n",
        "    u\"\\U0001F3FE\"\n",
        "    u\"\\U0001F9D4\"\n",
        "    u\"\\U0001F3FF\"\n",
        "    u\"\\U0001F9D5\"\n",
        "    u\"\\U0001F3FB\"\n",
        "    u\"\\U0001F9D5\"\n",
        "    u\"\\U0001F3FC\"\n",
        "    u\"\\U0001F9D5\"\n",
        "    u\"\\U0001F3FD\"\n",
        "    u\"\\U0001F9D5\"\n",
        "    u\"\\U0001F3FE\"\n",
        "    u\"\\U0001F9D5\"\n",
        "    u\"\\U0001F3FF\"\n",
        "    u\"\\U0001F9D6\"\n",
        "    u\"\\U0001F3FB\"\n",
        "    u\"\\U0001F9D6\"\n",
        "    u\"\\U0001F3FC\"\n",
        "    u\"\\U0001F9D6\"\n",
        "    u\"\\U0001F3FD\"\n",
        "    u\"\\U0001F9D6\"\n",
        "    u\"\\U0001F3FE\"\n",
        "    u\"\\U0001F9D6\"\n",
        "    u\"\\U0001F3FF\"\n",
        "    u\"\\U0001F9D7\"\n",
        "    u\"\\U0001F3FB\"\n",
        "    u\"\\U0001F9D7\"\n",
        "    u\"\\U0001F3FC\"\n",
        "    u\"\\U0001F9D7\"\n",
        "    u\"\\U0001F3FD\"\n",
        "    u\"\\U0001F9D7\"\n",
        "    u\"\\U0001F3FE\"\n",
        "    u\"\\U0001F9D7\"\n",
        "    u\"\\U0001F3FF\"\n",
        "    u\"\\U0001F9D8\"\n",
        "    u\"\\U0001F3FB\"\n",
        "    u\"\\U0001F9D8\"\n",
        "    u\"\\U0001F3FC\"\n",
        "    u\"\\U0001F9D8\"\n",
        "    u\"\\U0001F3FD\"\n",
        "    u\"\\U0001F9D8\"\n",
        "    u\"\\U0001F3FE\"\n",
        "    u\"\\U0001F9D8\"\n",
        "    u\"\\U0001F3FF\"\n",
        "    u\"\\U0001F9D9\"\n",
        "    u\"\\U0001F3FB\"\n",
        "    u\"\\U0001F9D9\"\n",
        "    u\"\\U0001F3FC\"\n",
        "    u\"\\U0001F9D9\"\n",
        "    u\"\\U0001F3FD\"\n",
        "    u\"\\U0001F9D9\"\n",
        "    u\"\\U0001F3FE\"\n",
        "    u\"\\U0001F9D9\"\n",
        "    u\"\\U0001F3FF\"\n",
        "    u\"\\U0001F9DA\"\n",
        "    u\"\\U0001F3FB\"\n",
        "    u\"\\U0001F9DA\"\n",
        "    u\"\\U0001F3FC\"\n",
        "    u\"\\U0001F9DA\"\n",
        "    u\"\\U0001F3FD\"\n",
        "    u\"\\U0001F9DA\"\n",
        "    u\"\\U0001F3FE\"\n",
        "    u\"\\U0001F9DA\"\n",
        "    u\"\\U0001F3FF\"\n",
        "    u\"\\U0001F9DB\"\n",
        "    u\"\\U0001F3FB\"\n",
        "    u\"\\U0001F9DB\"\n",
        "    u\"\\U0001F3FC\"\n",
        "    u\"\\U0001F9DB\"\n",
        "    u\"\\U0001F3FD\"\n",
        "    u\"\\U0001F9DB\"\n",
        "    u\"\\U0001F3FE\"\n",
        "    u\"\\U0001F9DB\"\n",
        "    u\"\\U0001F3FF\"\n",
        "    u\"\\U0001F9DC\"\n",
        "    u\"\\U0001F3FB\"\n",
        "    u\"\\U0001F9DC\"\n",
        "    u\"\\U0001F3FC\"\n",
        "    u\"\\U0001F9DC\"\n",
        "    u\"\\U0001F3FD\"\n",
        "    u\"\\U0001F9DC\"\n",
        "    u\"\\U0001F3FE\"\n",
        "    u\"\\U0001F9DC\"\n",
        "    u\"\\U0001F3FF\"\n",
        "    u\"\\U0001F3FB\"\n",
        "    u\"\\U0001F9DD\"\n",
        "    u\"\\U0001F3FC\"\n",
        "    u\"\\U0001F9DD\"\n",
        "    u\"\\U0001F3FD\"\n",
        "    u\"\\U0001F9DD\"\n",
        "    u\"\\U0001FAC3\"\n",
        "    u\"\\U0001F3FB\"\n",
        "    u\"\\U0001FAC3\"\n",
        "    u\"\\U0001F3FC\"\n",
        "    u\"\\U0001FAC3\"\n",
        "    u\"\\U0001F3FD\"\n",
        "    u\"\\U0001FAC3\"\n",
        "    u\"\\U0001F3FE\"\n",
        "    u\"\\U0001FAC3\"\n",
        "    u\"\\U0001F3FF\"\n",
        "    u\"\\U0001FAC4\"\n",
        "    u\"\\U0001F3FB\"\n",
        "    u\"\\U0001FAC4\"\n",
        "    u\"\\U0001F3FC\"\n",
        "    u\"\\U0001FAC4\"\n",
        "    u\"\\U0001F3FD\"\n",
        "    u\"\\U0001FAC4\"\n",
        "    u\"\\U0001F3FE\"\n",
        "    u\"\\U0001FAC4\"\n",
        "    u\"\\U0001F3FF\"\n",
        "    u\"\\U0001FAC5\"\n",
        "    u\"\\U0001F3FB\"\n",
        "    u\"\\U0001FAC5\"\n",
        "    u\"\\U0001F3FC\"\n",
        "    u\"\\U0001FAC5\"\n",
        "    u\"\\U0001F3FD\"\n",
        "    u\"\\U0001FAC5\"\n",
        "    u\"\\U0001F3FE\"\n",
        "    u\"\\U0001FAC5\"\n",
        "    u\"\\U0001F3FF\"\n",
        "    u\"\\U0001FAF0\"\n",
        "    u\"\\U0001F3FB\"\n",
        "    u\"\\U0001FAF0\"\n",
        "    u\"\\U0001F3FC\"\n",
        "    u\"\\U0001FAF0\"\n",
        "    u\"\\U0001F3FD\"\n",
        "    u\"\\U0001FAF0\"\n",
        "    u\"\\U0001F3FE\"\n",
        "    u\"\\U0001FAF0\"\n",
        "    u\"\\U0001F3FF\"\n",
        "    u\"\\U0001FAF1\"\n",
        "    u\"\\U0001F3FB\"\n",
        "    u\"\\U0001FAF1\"\n",
        "    u\"\\U0001F3FC\"\n",
        "    u\"\\U0001FAF1\"\n",
        "    u\"\\U0001F3FD\"\n",
        "    u\"\\U0001FAF1\"\n",
        "    u\"\\U0001F3FE\"\n",
        "    u\"\\U0001FAF1\"\n",
        "    u\"\\U0001F3FF\"\n",
        "    u\"\\U0001FAF2\"\n",
        "    u\"\\U0001F3FB\"\n",
        "    u\"\\U0001FAF2\"\n",
        "    u\"\\U0001F3FC\"\n",
        "    u\"\\U0001FAF2\"\n",
        "    u\"\\U0001F3FD\"\n",
        "    u\"\\U0001FAF2\"\n",
        "    u\"\\U0001F3FE\"\n",
        "    u\"\\U0001FAF2\"\n",
        "    u\"\\U0001F3FF\"\n",
        "    u\"\\U0001FAF3\"\n",
        "    u\"\\U0001F3FB\"\n",
        "    u\"\\U0001FAF3\"\n",
        "    u\"\\U0001F3FC\"\n",
        "    u\"\\U0001FAF3\"\n",
        "    u\"\\U0001F3FD\"\n",
        "    u\"\\U0001FAF3\"\n",
        "    u\"\\U0001F3FE\"\n",
        "    u\"\\U0001FAF3\"\n",
        "    u\"\\U0001F3FF\"\n",
        "    u\"\\U0001FAF4\"\n",
        "    u\"\\U0001F3FB\"\n",
        "    u\"\\U0001FAF4\"\n",
        "    u\"\\U0001F3FC\"\n",
        "    u\"\\U0001FAF4\"\n",
        "    u\"\\U0001F3FD\"\n",
        "    u\"\\U0001FAF4\"\n",
        "    u\"\\U0001F3FE\"\n",
        "    u\"\\U0001FAF4\"\n",
        "    u\"\\U0001F3FF\"\n",
        "    u\"\\U0001FAF5\"\n",
        "    u\"\\U0001F3FB\"\n",
        "    u\"\\U0001FAF5\"\n",
        "    u\"\\U0001F3FC\"\n",
        "    u\"\\U0001FAF5\"\n",
        "    u\"\\U0001F3FD\"\n",
        "    u\"\\U0001FAF5\"\n",
        "    u\"\\U0001F3FE\"\n",
        "    u\"\\U0001FAF5\"\n",
        "    u\"\\U0001F3FF\"\n",
        "    u\"\\U0001FAF6\"\n",
        "    u\"\\U0001F3FB\"\n",
        "    u\"\\U0001FAF6\"\n",
        "    u\"\\U0001F3FC\"\n",
        "    u\"\\U0001FAF6\"\n",
        "    u\"\\U0001F3FD\"\n",
        "    u\"\\U0001FAF6\"\n",
        "    u\"\\U0001F3FE\"\n",
        "    u\"\\U0001FAF6\"\n",
        "    u\"\\U0001F3FF\"\n",
        "    \"]+\", flags = re.UNICODE)\n",
        "    \n",
        "    return regrex_pattern.sub(r'',text)\n",
        "\n",
        "newTweets=[deEmojify(x) for x in tweets]\n",
        "\n",
        "# newTweets\n"
      ],
      "metadata": {
        "id": "wtQiCxK5YoQ-",
        "cellView": "form"
      },
      "execution_count": 7,
      "outputs": []
    },
    {
      "cell_type": "code",
      "source": [
        "MultinewTweets=[deEmojify(x) for x in Multi_tweets]\n"
      ],
      "metadata": {
        "id": "FqI2680aNLnV"
      },
      "execution_count": 8,
      "outputs": []
    },
    {
      "cell_type": "code",
      "source": [
        "def remove_URL(text):\n",
        "    \"\"\"Remove URLs from a text string\"\"\"\n",
        "    return re.sub(r\"http\\S+\", \"\", text)\n",
        "new_Tweets=[remove_URL(x) for x in newTweets]\n",
        "Multinew_Tweets=[remove_URL(x) for x in MultinewTweets]\n",
        "\n",
        "stop = list(stopwords.words('english'))\n"
      ],
      "metadata": {
        "id": "523ZBOm34Cj4"
      },
      "execution_count": 9,
      "outputs": []
    },
    {
      "cell_type": "markdown",
      "source": [
        "Naive bayes\n"
      ],
      "metadata": {
        "id": "q_fgqu2_tYux"
      }
    },
    {
      "cell_type": "markdown",
      "source": [
        "Bag of Words"
      ],
      "metadata": {
        "id": "lGtFAgcnwm2h"
      }
    },
    {
      "cell_type": "code",
      "source": [
        "X_train, X_test, y_train, y_test = train_test_split(new_Tweets, labels, test_size=0.40, random_state=12)\n",
        "\n",
        "vectorizer = CountVectorizer(analyzer='word',stop_words=stop)\n",
        "\n",
        "X = vectorizer.fit_transform(X_train)\n",
        "\n",
        "clf = MultinomialNB()\n",
        "clf.fit(X,y_train)\n",
        "\n",
        "X_test=vectorizer.transform(X_test)\n",
        "\n",
        "ans=clf.predict(X_test.toarray())\n",
        "\n",
        "accuracy = accuracy_score(y_test, ans, normalize=True)\n",
        "precision = precision_score(y_test, ans, zero_division=1)\n",
        "recall = recall_score(y_test, ans, zero_division=1)\n",
        "f1 = f1_score(y_test, ans, zero_division=1)\n",
        "\n",
        "print(\"Bag of Words Multinomial NB Results\\n\")\n",
        "\n",
        "print(\"Accuracy:\",accuracy,\"\\nPrecision:\",precision, \"\\nRecall Score\",recall,\"\\nF1 Score\",f1)\n"
      ],
      "metadata": {
        "colab": {
          "base_uri": "https://localhost:8080/"
        },
        "id": "xdwZs84BZhQi",
        "outputId": "2d276f48-4849-44b4-e3bc-a812792c090f"
      },
      "execution_count": 11,
      "outputs": [
        {
          "output_type": "stream",
          "name": "stdout",
          "text": [
            "Bag of Words Multinomial NB Results\n",
            "\n",
            "Accuracy: 0.7276657060518732 \n",
            "Precision: 0.37254901960784315 \n",
            "Recall Score 0.10795454545454546 \n",
            "F1 Score 0.16740088105726872\n"
          ]
        }
      ]
    },
    {
      "cell_type": "markdown",
      "source": [
        "TFIDF Based NB\n"
      ],
      "metadata": {
        "id": "gC0btkBEwiqQ"
      }
    },
    {
      "cell_type": "code",
      "source": [
        "X_train, X_test, y_train, y_test = train_test_split(new_Tweets, labels, test_size=0.40, random_state=12)\n",
        "\n",
        "vectorizer = TfidfVectorizer(use_idf=True,lowercase=True,strip_accents='ascii',stop_words=stop)\n",
        "X = vectorizer.fit_transform(X_train)\n",
        "\n",
        "clf = MultinomialNB()\n",
        "clf.fit(X,y_train)\n",
        "X_test=vectorizer.transform(X_test)\n",
        "ans=clf.predict(X_test.toarray())\n",
        "accuracy = accuracy_score(y_test, ans, normalize=True)\n",
        "precision = precision_score(y_test, ans, zero_division=1)\n",
        "recall = recall_score(y_test, ans, zero_division=1)\n",
        "f1 = f1_score(y_test, ans, zero_division=1)\n",
        "\n",
        "print(\"TfIDF Multinomial NB Results\\n\")\n",
        "\n",
        "print(\"Accuracy:\",accuracy,\"\\nPrecision:\",precision, \"\\nRecall Score\",recall,\"\\nF1 Score\",f1)\n"
      ],
      "metadata": {
        "colab": {
          "base_uri": "https://localhost:8080/"
        },
        "id": "EvBnLJONRXP1",
        "outputId": "3e6b52d8-6832-4170-8a33-5761ffb7c0b7"
      },
      "execution_count": 12,
      "outputs": [
        {
          "output_type": "stream",
          "name": "stdout",
          "text": [
            "TfIDF Multinomial NB Results\n",
            "\n",
            "Accuracy: 0.7463976945244957 \n",
            "Precision: 0.5 \n",
            "Recall Score 0.002840909090909091 \n",
            "F1 Score 0.005649717514124295\n"
          ]
        }
      ]
    },
    {
      "cell_type": "markdown",
      "source": [
        "Uni-gram\n"
      ],
      "metadata": {
        "id": "Muc9p_KOyJqi"
      }
    },
    {
      "cell_type": "code",
      "source": [
        "X_train, X_test, y_train, y_test = train_test_split(new_Tweets, labels, test_size=0.40, random_state=12)\n",
        "\n",
        "vectorizer = CountVectorizer(ngram_range=(1,1),token_pattern=r'\\b\\w+\\b',min_df=1,analyzer='word',stop_words=stop)\n",
        "\n",
        "X = vectorizer.fit_transform(X_train)\n",
        "\n",
        "clf = MultinomialNB()\n",
        "clf.fit(X,y_train)\n",
        "X_test=vectorizer.transform(X_test)\n",
        "ans=clf.predict(X_test.toarray())\n",
        "accuracy = accuracy_score(y_test, ans, normalize=True)\n",
        "precision = precision_score(y_test, ans, zero_division=1)\n",
        "recall = recall_score(y_test, ans, zero_division=1)\n",
        "f1 = f1_score(y_test, ans, zero_division=1)\n",
        "\n",
        "print(\"NB Uni-gram\\n\")\n",
        "\n",
        "print(\"Accuracy:\",accuracy,\"\\nPrecision:\",precision, \"\\nRecall Score\",recall,\"\\nF1 Score\",f1)\n"
      ],
      "metadata": {
        "colab": {
          "base_uri": "https://localhost:8080/"
        },
        "id": "Xs1ecVXVyM6W",
        "outputId": "3dcfc16d-9561-481f-e7c6-b156e63f11a8"
      },
      "execution_count": 13,
      "outputs": [
        {
          "output_type": "stream",
          "name": "stdout",
          "text": [
            "NB Uni-gram\n",
            "\n",
            "Accuracy: 0.7240634005763689 \n",
            "Precision: 0.34951456310679613 \n",
            "Recall Score 0.10227272727272728 \n",
            "F1 Score 0.15824175824175826\n"
          ]
        }
      ]
    },
    {
      "cell_type": "markdown",
      "source": [
        "Bgram\n"
      ],
      "metadata": {
        "id": "0EzVu2S6xe5d"
      }
    },
    {
      "cell_type": "code",
      "source": [
        "X_train, X_test, y_train, y_test = train_test_split(new_Tweets, labels, test_size=0.40, random_state=12)\n",
        "\n",
        "vectorizer = CountVectorizer(ngram_range=(2,2),token_pattern=r'\\b\\w+\\b',min_df=1,analyzer='word',stop_words=stop)\n",
        "\n",
        "X = vectorizer.fit_transform(X_train)\n",
        "\n",
        "clf = MultinomialNB()\n",
        "clf.fit(X,y_train)\n",
        "X_test=vectorizer.transform(X_test)\n",
        "ans=clf.predict(X_test.toarray())\n",
        "accuracy = accuracy_score(y_test, ans, normalize=True)\n",
        "precision = precision_score(y_test, ans, zero_division=1)\n",
        "recall = recall_score(y_test, ans, zero_division=1)\n",
        "f1 = f1_score(y_test, ans, zero_division=1)\n",
        "\n",
        "print(\"NB Bi-gram\\n\")\n",
        "\n",
        "print(\"Accuracy:\",accuracy,\"\\nPrecision:\",precision, \"\\nRecall Score\",recall,\"\\nF1 Score\",f1)\n"
      ],
      "metadata": {
        "colab": {
          "base_uri": "https://localhost:8080/"
        },
        "id": "GJWMcPMWxeWB",
        "outputId": "e51f939f-6411-490a-caed-44843798eda8"
      },
      "execution_count": 14,
      "outputs": [
        {
          "output_type": "stream",
          "name": "stdout",
          "text": [
            "NB Bi-gram\n",
            "\n",
            "Accuracy: 0.7377521613832853 \n",
            "Precision: 0.3 \n",
            "Recall Score 0.02556818181818182 \n",
            "F1 Score 0.04712041884816754\n"
          ]
        }
      ]
    },
    {
      "cell_type": "markdown",
      "source": [
        "Ngram"
      ],
      "metadata": {
        "id": "MhyuX7tvxdKv"
      }
    },
    {
      "cell_type": "code",
      "source": [
        "X_train, X_test, y_train, y_test = train_test_split(new_Tweets, labels, test_size=0.40, random_state=12)\n",
        "\n",
        "vectorizer = CountVectorizer(ngram_range=(3,3),token_pattern=r'\\b\\w+\\b',min_df=1,analyzer='word',stop_words=stop)\n",
        "\n",
        "X = vectorizer.fit_transform(X_train)\n",
        "\n",
        "clf = MultinomialNB()\n",
        "clf.fit(X,y_train)\n",
        "X_test=vectorizer.transform(X_test)\n",
        "ans=clf.predict(X_test.toarray())\n",
        "accuracy = accuracy_score(y_test, ans, normalize=True)\n",
        "precision = precision_score(y_test, ans, zero_division=1)\n",
        "recall = recall_score(y_test, ans, zero_division=1)\n",
        "f1 = f1_score(y_test, ans, zero_division=1)\n",
        "\n",
        "print(\"NB Ngram\\n\")\n",
        "\n",
        "print(\"Accuracy:\",accuracy,\"\\nPrecision:\",precision, \"\\nRecall Score\",recall,\"\\nF1 Score\",f1)\n"
      ],
      "metadata": {
        "colab": {
          "base_uri": "https://localhost:8080/"
        },
        "id": "MICd_rOPwhnX",
        "outputId": "c3cde01f-7a2a-420e-c87e-3c806f9c991b"
      },
      "execution_count": 15,
      "outputs": [
        {
          "output_type": "stream",
          "name": "stdout",
          "text": [
            "NB Ngram\n",
            "\n",
            "Accuracy: 0.7456772334293948 \n",
            "Precision: 0.3333333333333333 \n",
            "Recall Score 0.002840909090909091 \n",
            "F1 Score 0.005633802816901409\n"
          ]
        }
      ]
    },
    {
      "cell_type": "markdown",
      "source": [
        "**Random Forest Classifier**\n",
        "\n"
      ],
      "metadata": {
        "id": "3K94JXcm08n7"
      }
    },
    {
      "cell_type": "markdown",
      "source": [
        "Bag of Words"
      ],
      "metadata": {
        "id": "FMX6divO0-kZ"
      }
    },
    {
      "cell_type": "code",
      "source": [
        "X_train, X_test, y_train, y_test = train_test_split(new_Tweets, labels, test_size=0.33, random_state=12)\n",
        "\n",
        "vectorizer = CountVectorizer(analyzer='word',stop_words=stop)\n",
        "\n",
        "X = vectorizer.fit_transform(X_train)\n",
        "\n",
        "clf = RandomForestClassifier(max_depth=2, random_state=0)\n",
        "clf.fit(X,y_train)\n",
        "\n",
        "X_test=vectorizer.transform(X_test)\n",
        "\n",
        "ans=clf.predict(X_test.toarray())\n",
        "\n",
        "accuracy = accuracy_score(y_test, ans, normalize=True)\n",
        "precision = precision_score(y_test, ans, zero_division=1)\n",
        "recall = recall_score(y_test, ans, zero_division=1)\n",
        "f1 = f1_score(y_test, ans, zero_division=1)\n",
        "\n",
        "print(\"Bag of Words RandomForest based\\n\")\n",
        "\n",
        "print(\"Accuracy:\",accuracy,\"\\nPrecision:\",precision, \"\\nRecall Score\",recall,\"\\nF1 Score\",f1)\n"
      ],
      "metadata": {
        "colab": {
          "base_uri": "https://localhost:8080/"
        },
        "id": "LFwggY8e1A4w",
        "outputId": "b7708588-6858-43d5-c501-6a7d070c4715"
      },
      "execution_count": 20,
      "outputs": [
        {
          "output_type": "stream",
          "name": "stdout",
          "text": [
            "Bag of Words RandomForest based\n",
            "\n",
            "Accuracy: 0.748471615720524 \n",
            "Precision: 1.0 \n",
            "Recall Score 0.0 \n",
            "F1 Score 0.0\n"
          ]
        }
      ]
    },
    {
      "cell_type": "markdown",
      "source": [
        " \n",
        "**TFIDF**"
      ],
      "metadata": {
        "id": "cunJpU-W1W29"
      }
    },
    {
      "cell_type": "code",
      "source": [
        "X_train, X_test, y_train, y_test = train_test_split(new_Tweets, labels, test_size=0.33, random_state=42)\n",
        "\n",
        "vectorizer = TfidfVectorizer(use_idf=True,lowercase=True,strip_accents='ascii',stop_words=stop)\n",
        "X = vectorizer.fit_transform(X_train)\n",
        "\n",
        "clf = RandomForestClassifier(max_depth=2, random_state=2)\n",
        "clf.fit(X,y_train)\n",
        "X_test=vectorizer.transform(X_test)\n",
        "ans=clf.predict(X_test.toarray())\n",
        "accuracy = accuracy_score(y_test, ans, normalize=True)\n",
        "precision = precision_score(y_test, ans, zero_division=1)\n",
        "recall = recall_score(y_test, ans, zero_division=1)\n",
        "f1 = f1_score(y_test, ans, zero_division=1)\n",
        "\n",
        "print(\"TfIDF RandomForest Results\\n\")\n",
        "\n",
        "print(\"Accuracy:\",accuracy,\"\\nPrecision:\",precision, \"\\nRecall Score\",recall,\"\\nF1 Score\",f1)\n"
      ],
      "metadata": {
        "colab": {
          "base_uri": "https://localhost:8080/"
        },
        "id": "Dm69Cqis1Y4x",
        "outputId": "b73e7590-32d5-4609-ab8b-0ddc416afcf1"
      },
      "execution_count": 22,
      "outputs": [
        {
          "output_type": "stream",
          "name": "stdout",
          "text": [
            "TfIDF RandomForest Results\n",
            "\n",
            "Accuracy: 0.7336244541484717 \n",
            "Precision: 1.0 \n",
            "Recall Score 0.0 \n",
            "F1 Score 0.0\n"
          ]
        }
      ]
    },
    {
      "cell_type": "markdown",
      "source": [
        "UniGram\n"
      ],
      "metadata": {
        "id": "QPZpynag1Az9"
      }
    },
    {
      "cell_type": "code",
      "source": [
        "X_train, X_test, y_train, y_test = train_test_split(new_Tweets, labels, test_size=0.40, random_state=12)\n",
        "\n",
        "vectorizer = CountVectorizer(ngram_range=(1,1),token_pattern=r'\\b\\w+\\b',min_df=1,analyzer='word',stop_words=stop)\n",
        "\n",
        "X = vectorizer.fit_transform(X_train)\n",
        "\n",
        "clf = RandomForestClassifier(max_depth=2, random_state=2)\n",
        "clf.fit(X,y_train)\n",
        "X_test=vectorizer.transform(X_test)\n",
        "ans=clf.predict(X_test.toarray())\n",
        "accuracy = accuracy_score(y_test, ans, normalize=True)\n",
        "precision = precision_score(y_test, ans, zero_division=1)\n",
        "recall = recall_score(y_test, ans, zero_division=1)\n",
        "f1 = f1_score(y_test, ans, zero_division=1)\n",
        "\n",
        "print(\"Random Forest Uni-gram\\n\")\n",
        "\n",
        "print(\"Accuracy:\",accuracy,\"\\nPrecision:\",precision, \"\\nRecall Score\",recall,\"\\nF1 Score\",f1)\n"
      ],
      "metadata": {
        "colab": {
          "base_uri": "https://localhost:8080/"
        },
        "id": "RxiubAmA1B-w",
        "outputId": "e0b3a4af-cddc-45dc-fb4e-fa6a1af1d7b0"
      },
      "execution_count": 23,
      "outputs": [
        {
          "output_type": "stream",
          "name": "stdout",
          "text": [
            "Random Forest Uni-gram\n",
            "\n",
            "Accuracy: 0.7463976945244957 \n",
            "Precision: 1.0 \n",
            "Recall Score 0.0 \n",
            "F1 Score 0.0\n"
          ]
        }
      ]
    },
    {
      "cell_type": "markdown",
      "source": [
        "**BiGram**"
      ],
      "metadata": {
        "id": "fxKv6NKx18YS"
      }
    },
    {
      "cell_type": "code",
      "source": [
        "X_train, X_test, y_train, y_test = train_test_split(new_Tweets, labels, test_size=0.40, random_state=42)\n",
        "\n",
        "vectorizer = CountVectorizer(ngram_range=(2,2),token_pattern=r'\\b\\w+\\b',min_df=1,analyzer='word',stop_words=stop)\n",
        "\n",
        "X = vectorizer.fit_transform(X_train)\n",
        "\n",
        "clf = RandomForestClassifier(max_depth=2, random_state=0)\n",
        "clf.fit(X,y_train)\n",
        "X_test=vectorizer.transform(X_test)\n",
        "ans=clf.predict(X_test.toarray())\n",
        "accuracy = accuracy_score(y_test, ans, normalize=True)\n",
        "precision = precision_score(y_test, ans, zero_division=1)\n",
        "recall = recall_score(y_test, ans, zero_division=1)\n",
        "f1 = f1_score(y_test, ans, zero_division=1)\n",
        "\n",
        "print(\"Random Forest Bi-gram\\n\")\n",
        "\n",
        "print(\"Accuracy:\",accuracy,\"\\nPrecision:\",precision, \"\\nRecall Score\",recall,\"\\nF1 Score\",f1)\n"
      ],
      "metadata": {
        "colab": {
          "base_uri": "https://localhost:8080/"
        },
        "id": "hbQjdObt1_Wa",
        "outputId": "29b46c52-daaa-4ba7-dc08-0db98ba4e63b"
      },
      "execution_count": 26,
      "outputs": [
        {
          "output_type": "stream",
          "name": "stdout",
          "text": [
            "Random Forest Bi-gram\n",
            "\n",
            "Accuracy: 0.7406340057636888 \n",
            "Precision: 1.0 \n",
            "Recall Score 0.0 \n",
            "F1 Score 0.0\n"
          ]
        }
      ]
    },
    {
      "cell_type": "markdown",
      "source": [
        "**N-Gram**"
      ],
      "metadata": {
        "id": "Btgab7Aw2BnI"
      }
    },
    {
      "cell_type": "code",
      "source": [
        "X_train, X_test, y_train, y_test = train_test_split(new_Tweets, labels, test_size=0.30, random_state=10)\n",
        "\n",
        "vectorizer = CountVectorizer(ngram_range=(3,3),token_pattern=r'\\b\\w+\\b',min_df=1,analyzer='word',stop_words=stop)\n",
        "\n",
        "X = vectorizer.fit_transform(X_train)\n",
        "\n",
        "clf = RandomForestClassifier(max_depth=20, random_state=2)\n",
        "clf.fit(X,y_train)\n",
        "X_test=vectorizer.transform(X_test)\n",
        "ans=clf.predict(X_test.toarray())\n",
        "accuracy = accuracy_score(y_test, ans, normalize=True)\n",
        "precision = precision_score(y_test, ans, zero_division=1)\n",
        "recall = recall_score(y_test, ans, zero_division=1)\n",
        "f1 = f1_score(y_test, ans, zero_division=1)\n",
        "\n",
        "print(\"Random Forest N-gram\\n\")\n",
        "\n",
        "print(\"Accuracy:\",accuracy,\"\\nPrecision:\",precision, \"\\nRecall Score\",recall,\"\\nF1 Score\",f1)\n"
      ],
      "metadata": {
        "colab": {
          "base_uri": "https://localhost:8080/"
        },
        "id": "lvf3bpnG2FBX",
        "outputId": "36e754e3-da78-4b52-9485-af7706122154"
      },
      "execution_count": 27,
      "outputs": [
        {
          "output_type": "stream",
          "name": "stdout",
          "text": [
            "Random Forest N-gram\n",
            "\n",
            "Accuracy: 0.7483189241114313 \n",
            "Precision: 1.0 \n",
            "Recall Score 0.0 \n",
            "F1 Score 0.0\n"
          ]
        }
      ]
    },
    {
      "cell_type": "markdown",
      "source": [
        "**Logistic Regression**"
      ],
      "metadata": {
        "id": "whmCQ9A_2Szj"
      }
    },
    {
      "cell_type": "markdown",
      "source": [
        "Bag of Words"
      ],
      "metadata": {
        "id": "qm_PniOR2ghj"
      }
    },
    {
      "cell_type": "code",
      "source": [
        "X_train, X_test, y_train, y_test = train_test_split(new_Tweets, labels, test_size=0.40, random_state=10)\n",
        "\n",
        "vectorizer = CountVectorizer(analyzer='word',stop_words=stop)\n",
        "\n",
        "X = vectorizer.fit_transform(X_train)\n",
        "\n",
        "clf = LogisticRegression(random_state=0)\n",
        "clf.fit(X,y_train)\n",
        "\n",
        "X_test=vectorizer.transform(X_test)\n",
        "\n",
        "ans=clf.predict(X_test.toarray())\n",
        "\n",
        "accuracy = accuracy_score(y_test, ans, normalize=True)\n",
        "precision = precision_score(y_test, ans, zero_division=1)\n",
        "recall = recall_score(y_test, ans, zero_division=1)\n",
        "f1 = f1_score(y_test, ans, zero_division=1)\n",
        "\n",
        "print(\"Bag of Words Logistic Regression Results\\n\")\n",
        "\n",
        "print(\"Accuracy:\",accuracy,\"\\nPrecision:\",precision, \"\\nRecall Score\",recall,\"\\nF1 Score\",f1)\n"
      ],
      "metadata": {
        "colab": {
          "base_uri": "https://localhost:8080/"
        },
        "id": "armLfQVN2XAj",
        "outputId": "2602116b-b28c-4e70-a501-c8ac01d64d4d"
      },
      "execution_count": 28,
      "outputs": [
        {
          "output_type": "stream",
          "name": "stdout",
          "text": [
            "Bag of Words Logistic Regression Results\n",
            "\n",
            "Accuracy: 0.728386167146974 \n",
            "Precision: 0.3617021276595745 \n",
            "Recall Score 0.09686609686609686 \n",
            "F1 Score 0.15280898876404492\n"
          ]
        }
      ]
    },
    {
      "cell_type": "markdown",
      "source": [
        "TFIDF"
      ],
      "metadata": {
        "id": "9yZJ7wYw2q_s"
      }
    },
    {
      "cell_type": "code",
      "source": [
        "X_train, X_test, y_train, y_test = train_test_split(new_Tweets, labels, test_size=0.40, random_state=10)\n",
        "\n",
        "vectorizer = TfidfVectorizer(use_idf=True,lowercase=True,strip_accents='ascii',stop_words=stop)\n",
        "X = vectorizer.fit_transform(X_train)\n",
        "\n",
        "clf = LogisticRegression(random_state=0)\n",
        "clf.fit(X,y_train)\n",
        "X_test=vectorizer.transform(X_test)\n",
        "ans=clf.predict(X_test.toarray())\n",
        "accuracy = accuracy_score(y_test, ans, normalize=True)\n",
        "precision = precision_score(y_test, ans, zero_division=1)\n",
        "recall = recall_score(y_test, ans, zero_division=1)\n",
        "f1 = f1_score(y_test, ans, zero_division=1)\n",
        "\n",
        "print(\"TfIDF Logistic Regression Results\\n\")\n",
        "\n",
        "print(\"Accuracy:\",accuracy,\"\\nPrecision:\",precision, \"\\nRecall Score\",recall,\"\\nF1 Score\",f1)\n"
      ],
      "metadata": {
        "colab": {
          "base_uri": "https://localhost:8080/"
        },
        "id": "ocKUAVW32s9A",
        "outputId": "a9c50d68-e6a8-4a4c-d77a-c8d67d40dc45"
      },
      "execution_count": 29,
      "outputs": [
        {
          "output_type": "stream",
          "name": "stdout",
          "text": [
            "TfIDF Logistic Regression Results\n",
            "\n",
            "Accuracy: 0.7463976945244957 \n",
            "Precision: 0.3333333333333333 \n",
            "Recall Score 0.002849002849002849 \n",
            "F1 Score 0.005649717514124295\n"
          ]
        }
      ]
    },
    {
      "cell_type": "markdown",
      "source": [
        "Uni-Gram"
      ],
      "metadata": {
        "id": "yHJfbCDP3Crh"
      }
    },
    {
      "cell_type": "code",
      "source": [
        "X_train, X_test, y_train, y_test = train_test_split(new_Tweets, labels, test_size=0.40, random_state=12)\n",
        "\n",
        "vectorizer = CountVectorizer(ngram_range=(1,1),token_pattern=r'\\b\\w+\\b',min_df=1,analyzer='word',stop_words=stop)\n",
        "\n",
        "X = vectorizer.fit_transform(X_train)\n",
        "\n",
        "clf = LogisticRegression(random_state=0)\n",
        "\n",
        "clf.fit(X,y_train)\n",
        "X_test=vectorizer.transform(X_test)\n",
        "ans=clf.predict(X_test.toarray())\n",
        "accuracy = accuracy_score(y_test, ans, normalize=True)\n",
        "precision = precision_score(y_test, ans, zero_division=1)\n",
        "recall = recall_score(y_test, ans, zero_division=1)\n",
        "f1 = f1_score(y_test, ans, zero_division=1)\n",
        "\n",
        "print(\"Logistic Regression Uni-gram\\n\")\n",
        "\n",
        "print(\"Accuracy:\",accuracy,\"\\nPrecision:\",precision, \"\\nRecall Score\",recall,\"\\nF1 Score\",f1)\n"
      ],
      "metadata": {
        "colab": {
          "base_uri": "https://localhost:8080/"
        },
        "id": "HCiklpCD3DxR",
        "outputId": "6a144eb4-fa97-471b-9f48-c23d1c0777be"
      },
      "execution_count": 30,
      "outputs": [
        {
          "output_type": "stream",
          "name": "stdout",
          "text": [
            "Logistic Regression Uni-gram\n",
            "\n",
            "Accuracy: 0.7348703170028819 \n",
            "Precision: 0.4148936170212766 \n",
            "Recall Score 0.11079545454545454 \n",
            "F1 Score 0.1748878923766816\n"
          ]
        }
      ]
    },
    {
      "cell_type": "markdown",
      "source": [
        "Bi-Gram\n"
      ],
      "metadata": {
        "id": "9AWuXy5M3LIt"
      }
    },
    {
      "cell_type": "code",
      "source": [
        "X_train, X_test, y_train, y_test = train_test_split(new_Tweets, labels, test_size=0.40, random_state=12)\n",
        "\n",
        "vectorizer = CountVectorizer(ngram_range=(2,2),token_pattern=r'\\b\\w+\\b',min_df=1,analyzer='word',stop_words=stop)\n",
        "\n",
        "X = vectorizer.fit_transform(X_train)\n",
        "\n",
        "clf = LogisticRegression(random_state=0)\n",
        "\n",
        "clf.fit(X,y_train)\n",
        "X_test=vectorizer.transform(X_test)\n",
        "ans=clf.predict(X_test.toarray())\n",
        "accuracy = accuracy_score(y_test, ans, normalize=True)\n",
        "precision = precision_score(y_test, ans, zero_division=1)\n",
        "recall = recall_score(y_test, ans, zero_division=1)\n",
        "f1 = f1_score(y_test, ans, zero_division=1)\n",
        "\n",
        "print(\"Logistic Regression Bi-gram\\n\")\n",
        "\n",
        "print(\"Accuracy:\",accuracy,\"\\nPrecision:\",precision, \"\\nRecall Score\",recall,\"\\nF1 Score\",f1)\n"
      ],
      "metadata": {
        "colab": {
          "base_uri": "https://localhost:8080/"
        },
        "id": "hOdZx7V63MLx",
        "outputId": "96b3d152-499a-454c-82f5-c5fcc2590b8b"
      },
      "execution_count": 31,
      "outputs": [
        {
          "output_type": "stream",
          "name": "stdout",
          "text": [
            "Logistic Regression Bi-gram\n",
            "\n",
            "Accuracy: 0.7456772334293948 \n",
            "Precision: 0.3333333333333333 \n",
            "Recall Score 0.002840909090909091 \n",
            "F1 Score 0.005633802816901409\n"
          ]
        }
      ]
    },
    {
      "cell_type": "markdown",
      "source": [
        "N-gram"
      ],
      "metadata": {
        "id": "HbqbY17V3QvM"
      }
    },
    {
      "cell_type": "code",
      "source": [
        "X_train, X_test, y_train, y_test = train_test_split(new_Tweets, labels, test_size=0.30, random_state=2)\n",
        "\n",
        "vectorizer = CountVectorizer(ngram_range=(3,3),token_pattern=r'\\b\\w+\\b',min_df=1,analyzer='word',stop_words=stop)\n",
        "\n",
        "X = vectorizer.fit_transform(X_train)\n",
        "\n",
        "clf = LogisticRegression(random_state=0)\n",
        "\n",
        "clf.fit(X,y_train)\n",
        "X_test=vectorizer.transform(X_test)\n",
        "ans=clf.predict(X_test.toarray())\n",
        "accuracy = accuracy_score(y_test, ans, normalize=True)\n",
        "precision = precision_score(y_test, ans, zero_division=1)\n",
        "recall = recall_score(y_test, ans, zero_division=1)\n",
        "f1 = f1_score(y_test, ans, zero_division=1)\n",
        "\n",
        "print(\"Logistic Regression N-gram\\n\")\n",
        "\n",
        "print(\"Accuracy:\",accuracy,\"\\nPrecision:\",precision, \"\\nRecall Score\",recall,\"\\nF1 Score\",f1)\n"
      ],
      "metadata": {
        "colab": {
          "base_uri": "https://localhost:8080/"
        },
        "id": "5QM8Pc403R6V",
        "outputId": "759c1c7b-6093-4808-8497-61b40e1631a4"
      },
      "execution_count": 32,
      "outputs": [
        {
          "output_type": "stream",
          "name": "stdout",
          "text": [
            "Logistic Regression N-gram\n",
            "\n",
            "Accuracy: 0.74447646493756 \n",
            "Precision: 1.0 \n",
            "Recall Score 0.0 \n",
            "F1 Score 0.0\n"
          ]
        }
      ]
    },
    {
      "cell_type": "markdown",
      "source": [
        "**SVC**"
      ],
      "metadata": {
        "id": "8LC7IpEt3wqR"
      }
    },
    {
      "cell_type": "markdown",
      "source": [
        "Bag of Words"
      ],
      "metadata": {
        "id": "0OL27DwP3y05"
      }
    },
    {
      "cell_type": "code",
      "source": [
        "X_train, X_test, y_train, y_test = train_test_split(new_Tweets, labels, test_size=0.33, random_state=51)\n",
        "\n",
        "vectorizer = CountVectorizer(analyzer='word',stop_words=stop)\n",
        "\n",
        "X = vectorizer.fit_transform(X_train)\n",
        "\n",
        "clf = make_pipeline(StandardScaler(with_mean=False), SVC(gamma='auto'))\n",
        "clf.fit(X,y_train)\n",
        "\n",
        "X_test=vectorizer.transform(X_test)\n",
        "\n",
        "ans=clf.predict(X_test.toarray())\n",
        "\n",
        "accuracy = accuracy_score(y_test, ans, normalize=True)\n",
        "precision = precision_score(y_test, ans, zero_division=1)\n",
        "recall = recall_score(y_test, ans, zero_division=1)\n",
        "f1 = f1_score(y_test, ans, zero_division=1)\n",
        "\n",
        "print(\"Bag of Words SVC Results\\n\")\n",
        "\n",
        "print(\"Accuracy:\",accuracy,\"\\nPrecision:\",precision, \"\\nRecall Score\",recall,\"\\nF1 Score\",f1)\n"
      ],
      "metadata": {
        "colab": {
          "base_uri": "https://localhost:8080/"
        },
        "id": "IsVP9zuY30Po",
        "outputId": "c14849ee-2096-4df6-e399-3091273e3be2"
      },
      "execution_count": 42,
      "outputs": [
        {
          "output_type": "stream",
          "name": "stdout",
          "text": [
            "Bag of Words SVC Results\n",
            "\n",
            "Accuracy: 0.7458515283842795 \n",
            "Precision: 1.0 \n",
            "Recall Score 0.0 \n",
            "F1 Score 0.0\n"
          ]
        }
      ]
    },
    {
      "cell_type": "markdown",
      "source": [
        "TFIDF"
      ],
      "metadata": {
        "id": "SZizOlFn30gR"
      }
    },
    {
      "cell_type": "code",
      "source": [
        "X_train, X_test, y_train, y_test = train_test_split(new_Tweets, labels, test_size=0.33, random_state=12)\n",
        "\n",
        "vectorizer = TfidfVectorizer(use_idf=True,lowercase=True,strip_accents='ascii',stop_words=stop)\n",
        "X = vectorizer.fit_transform(X_train)\n",
        "\n",
        "clf = make_pipeline(StandardScaler(with_mean=False), SVC(gamma='auto'))\n",
        "clf.fit(X,y_train)\n",
        "X_test=vectorizer.transform(X_test)\n",
        "ans=clf.predict(X_test.toarray())\n",
        "accuracy = accuracy_score(y_test, ans, normalize=True)\n",
        "precision = precision_score(y_test, ans, zero_division=1)\n",
        "recall = recall_score(y_test, ans, zero_division=1)\n",
        "f1 = f1_score(y_test, ans, zero_division=1)\n",
        "\n",
        "print(\"TfIDF SVC Results\\n\")\n",
        "\n",
        "print(\"Accuracy:\",accuracy,\"\\nPrecision:\",precision, \"\\nRecall Score\",recall,\"\\nF1 Score\",f1)\n"
      ],
      "metadata": {
        "colab": {
          "base_uri": "https://localhost:8080/"
        },
        "id": "DqFCZPYZ31pY",
        "outputId": "139ff142-d9e1-4b9b-aebb-badcc1d81db1"
      },
      "execution_count": 64,
      "outputs": [
        {
          "output_type": "stream",
          "name": "stdout",
          "text": [
            "TfIDF SVC Results\n",
            "\n",
            "Accuracy: 0.7475982532751092 \n",
            "Precision: 0.0 \n",
            "Recall Score 0.0 \n",
            "F1 Score 0.0\n"
          ]
        }
      ]
    },
    {
      "cell_type": "markdown",
      "source": [
        "Uni-Gram"
      ],
      "metadata": {
        "id": "sF3bepeq32F0"
      }
    },
    {
      "cell_type": "code",
      "source": [
        "X_train, X_test, y_train, y_test = train_test_split(new_Tweets, labels, test_size=0.30, random_state=2)\n",
        "\n",
        "vectorizer = CountVectorizer(ngram_range=(1,1),token_pattern=r'\\b\\w+\\b',min_df=10,analyzer='word',stop_words=stop)\n",
        "\n",
        "X = vectorizer.fit_transform(X_train)\n",
        "\n",
        "clf = make_pipeline(StandardScaler(with_mean=False), SVC(gamma='auto'))\n",
        "\n",
        "clf.fit(X,y_train)\n",
        "X_test=vectorizer.transform(X_test)\n",
        "ans=clf.predict(X_test.toarray())\n",
        "accuracy = accuracy_score(y_test, ans, normalize=True)\n",
        "precision = precision_score(y_test, ans, zero_division=1)\n",
        "recall = recall_score(y_test, ans, zero_division=1)\n",
        "f1 = f1_score(y_test, ans, zero_division=1)\n",
        "\n",
        "print(\"SVC Uni-gram\\n\")\n",
        "\n",
        "print(\"Accuracy:\",accuracy,\"\\nPrecision:\",precision, \"\\nRecall Score\",recall,\"\\nF1 Score\",f1)\n"
      ],
      "metadata": {
        "colab": {
          "base_uri": "https://localhost:8080/"
        },
        "id": "MqX0PFrv33pD",
        "outputId": "5bd8f1d6-a5e4-41ef-b333-41dd3c425892"
      },
      "execution_count": 54,
      "outputs": [
        {
          "output_type": "stream",
          "name": "stdout",
          "text": [
            "SVC Uni-gram\n",
            "\n",
            "Accuracy: 0.7387127761767531 \n",
            "Precision: 0.25 \n",
            "Recall Score 0.011278195488721804 \n",
            "F1 Score 0.02158273381294964\n"
          ]
        }
      ]
    },
    {
      "cell_type": "markdown",
      "source": [
        "Bi-Gram"
      ],
      "metadata": {
        "id": "FS0u_JBh34FO"
      }
    },
    {
      "cell_type": "code",
      "source": [
        "X_train, X_test, y_train, y_test = train_test_split(new_Tweets, labels, test_size=0.40, random_state=2)\n",
        "\n",
        "vectorizer = CountVectorizer(ngram_range=(2,2),token_pattern=r'\\b\\w+\\b',min_df=2,analyzer='word',stop_words=stop)\n",
        "\n",
        "X = vectorizer.fit_transform(X_train)\n",
        "\n",
        "clf = make_pipeline(StandardScaler(with_mean=False), SVC(gamma='auto'))\n",
        "\n",
        "clf.fit(X,y_train)\n",
        "X_test=vectorizer.transform(X_test)\n",
        "ans=clf.predict(X_test.toarray())\n",
        "accuracy = accuracy_score(y_test, ans, normalize=True)\n",
        "precision = precision_score(y_test, ans, zero_division=1)\n",
        "recall = recall_score(y_test, ans, zero_division=1)\n",
        "f1 = f1_score(y_test, ans, zero_division=1)\n",
        "\n",
        "print(\"SVC Bi-gram\\n\")\n",
        "\n",
        "print(\"Accuracy:\",accuracy,\"\\nPrecision:\",precision, \"\\nRecall Score\",recall,\"\\nF1 Score\",f1)\n"
      ],
      "metadata": {
        "colab": {
          "base_uri": "https://localhost:8080/"
        },
        "id": "ceDmmEla35EZ",
        "outputId": "7bd4143d-9b7c-4f13-a18d-d95d3858af00"
      },
      "execution_count": 55,
      "outputs": [
        {
          "output_type": "stream",
          "name": "stdout",
          "text": [
            "SVC Bi-gram\n",
            "\n",
            "Accuracy: 0.7399135446685879 \n",
            "Precision: 0.4230769230769231 \n",
            "Recall Score 0.03081232492997199 \n",
            "F1 Score 0.057441253263707574\n"
          ]
        }
      ]
    },
    {
      "cell_type": "markdown",
      "source": [
        "N-Gram"
      ],
      "metadata": {
        "id": "B2jMCvO935Vf"
      }
    },
    {
      "cell_type": "code",
      "source": [
        "X_train, X_test, y_train, y_test = train_test_split(new_Tweets, labels, test_size=0.40, random_state=2)\n",
        "\n",
        "vectorizer = CountVectorizer(ngram_range=(2,2),token_pattern=r'\\b\\w+\\b',min_df=3,analyzer='word',stop_words=stop)\n",
        "\n",
        "X = vectorizer.fit_transform(X_train)\n",
        "\n",
        "clf = make_pipeline(StandardScaler(with_mean=False), SVC(gamma='auto'))\n",
        "\n",
        "clf.fit(X,y_train)\n",
        "X_test=vectorizer.transform(X_test)\n",
        "ans=clf.predict(X_test.toarray())\n",
        "accuracy = accuracy_score(y_test, ans, normalize=True)\n",
        "precision = precision_score(y_test, ans, zero_division=1)\n",
        "recall = recall_score(y_test, ans, zero_division=1)\n",
        "f1 = f1_score(y_test, ans, zero_division=1)\n",
        "\n",
        "print(\"Bag of Words Uni-gram\\n\")\n",
        "\n",
        "print(\"Accuracy:\",accuracy,\"\\nPrecision:\",precision, \"\\nRecall Score\",recall,\"\\nF1 Score\",f1)\n"
      ],
      "metadata": {
        "colab": {
          "base_uri": "https://localhost:8080/"
        },
        "id": "n3w5ucE137CJ",
        "outputId": "70b268f4-4f6a-4575-bf9b-d0efb6086d30"
      },
      "execution_count": 56,
      "outputs": [
        {
          "output_type": "stream",
          "name": "stdout",
          "text": [
            "Bag of Words Uni-gram\n",
            "\n",
            "Accuracy: 0.7413544668587896 \n",
            "Precision: 0.4 \n",
            "Recall Score 0.011204481792717087 \n",
            "F1 Score 0.021798365122615803\n"
          ]
        }
      ]
    },
    {
      "cell_type": "markdown",
      "source": [
        "**Perceptron**"
      ],
      "metadata": {
        "id": "hXjxgmKD8JPp"
      }
    },
    {
      "cell_type": "markdown",
      "source": [
        "Bag of Words"
      ],
      "metadata": {
        "id": "vwA96XW68MOe"
      }
    },
    {
      "cell_type": "code",
      "source": [
        "X_train, X_test, y_train, y_test = train_test_split(new_Tweets, labels, test_size=0.40, random_state=12)\n",
        "\n",
        "vectorizer = CountVectorizer(analyzer='word',stop_words=stop)\n",
        "\n",
        "X = vectorizer.fit_transform(X_train)\n",
        "\n",
        "clf = Perceptron(tol=1e-3, random_state=0)\n",
        "clf.fit(X,y_train)\n",
        "\n",
        "X_test=vectorizer.transform(X_test)\n",
        "\n",
        "ans=clf.predict(X_test.toarray())\n",
        "\n",
        "accuracy = accuracy_score(y_test, ans, normalize=True)\n",
        "precision = precision_score(y_test, ans, zero_division=1)\n",
        "recall = recall_score(y_test, ans, zero_division=1)\n",
        "f1 = f1_score(y_test, ans, zero_division=1)\n",
        "\n",
        "print(\"Bag of Words Perceptron Results\\n\")\n",
        "\n",
        "print(\"Accuracy:\",accuracy,\"\\nPrecision:\",precision, \"\\nRecall Score\",recall,\"\\nF1 Score\",f1)\n",
        "\n",
        "\n"
      ],
      "metadata": {
        "colab": {
          "base_uri": "https://localhost:8080/"
        },
        "id": "yqiudYq78N2H",
        "outputId": "cb2f8c2a-b536-4f89-ac81-e88581ca89de"
      },
      "execution_count": 58,
      "outputs": [
        {
          "output_type": "stream",
          "name": "stdout",
          "text": [
            "Bag of Words Perceptron Results\n",
            "\n",
            "Accuracy: 0.680835734870317 \n",
            "Precision: 0.35275080906148865 \n",
            "Recall Score 0.3096590909090909 \n",
            "F1 Score 0.32980332829046893\n"
          ]
        }
      ]
    },
    {
      "cell_type": "markdown",
      "source": [
        "TFIDF"
      ],
      "metadata": {
        "id": "_XeCBQZ_Bwv8"
      }
    },
    {
      "cell_type": "code",
      "source": [
        "X_train, X_test, y_train, y_test = train_test_split(new_Tweets, labels, test_size=0.33, random_state=12)\n",
        "\n",
        "vectorizer = TfidfVectorizer(use_idf=True,lowercase=True,strip_accents='ascii',stop_words=stop)\n",
        "X = vectorizer.fit_transform(X_train)\n",
        "\n",
        "clf = Perceptron(tol=1e-3, random_state=0)\n",
        "clf.fit(X,y_train)\n",
        "X_test=vectorizer.transform(X_test)\n",
        "ans=clf.predict(X_test.toarray())\n",
        "accuracy = accuracy_score(y_test, ans, normalize=True)\n",
        "precision = precision_score(y_test, ans, zero_division=1)\n",
        "recall = recall_score(y_test, ans, zero_division=1)\n",
        "f1 = f1_score(y_test, ans, zero_division=1)\n",
        "\n",
        "print(\"TfIDF Perceptron Results\\n\")\n",
        "\n",
        "print(\"Accuracy:\",accuracy,\"\\nPrecision:\",precision, \"\\nRecall Score\",recall,\"\\nF1 Score\",f1)\n"
      ],
      "metadata": {
        "colab": {
          "base_uri": "https://localhost:8080/"
        },
        "id": "p-BRf7OxBxn3",
        "outputId": "32bca807-8ac5-4f17-e05e-54abd9b03e43"
      },
      "execution_count": 59,
      "outputs": [
        {
          "output_type": "stream",
          "name": "stdout",
          "text": [
            "TfIDF Perceptron Results\n",
            "\n",
            "Accuracy: 0.6681222707423581 \n",
            "Precision: 0.3244274809160305 \n",
            "Recall Score 0.2951388888888889 \n",
            "F1 Score 0.3090909090909091\n"
          ]
        }
      ]
    },
    {
      "cell_type": "markdown",
      "source": [
        "Uni-Gram"
      ],
      "metadata": {
        "id": "Li30wZJeBx6y"
      }
    },
    {
      "cell_type": "code",
      "source": [
        "X_train, X_test, y_train, y_test = train_test_split(new_Tweets, labels, test_size=0.30, random_state=2)\n",
        "\n",
        "vectorizer = CountVectorizer(ngram_range=(1,1),token_pattern=r'\\b\\w+\\b',min_df=1,analyzer='word',stop_words=stop)\n",
        "\n",
        "X = vectorizer.fit_transform(X_train)\n",
        "\n",
        "clf = Perceptron(tol=1e-3, random_state=0)\n",
        "\n",
        "clf.fit(X,y_train)\n",
        "X_test=vectorizer.transform(X_test)\n",
        "ans=clf.predict(X_test.toarray())\n",
        "accuracy = accuracy_score(y_test, ans, normalize=True)\n",
        "precision = precision_score(y_test, ans, zero_division=1)\n",
        "recall = recall_score(y_test, ans, zero_division=1)\n",
        "f1 = f1_score(y_test, ans, zero_division=1)\n",
        "\n",
        "print(\"Perceptron Uni-gram\\n\")\n",
        "\n",
        "print(\"Accuracy:\",accuracy,\"\\nPrecision:\",precision, \"\\nRecall Score\",recall,\"\\nF1 Score\",f1)\n"
      ],
      "metadata": {
        "colab": {
          "base_uri": "https://localhost:8080/"
        },
        "id": "4R5RD37EBy8H",
        "outputId": "3b9e6555-1ee0-47e5-c69e-d485bcb314ec"
      },
      "execution_count": 60,
      "outputs": [
        {
          "output_type": "stream",
          "name": "stdout",
          "text": [
            "Perceptron Uni-gram\n",
            "\n",
            "Accuracy: 0.6657060518731989 \n",
            "Precision: 0.3247863247863248 \n",
            "Recall Score 0.2857142857142857 \n",
            "F1 Score 0.304\n"
          ]
        }
      ]
    },
    {
      "cell_type": "markdown",
      "source": [
        "BiGram"
      ],
      "metadata": {
        "id": "9yjPCpmkBzTj"
      }
    },
    {
      "cell_type": "code",
      "source": [
        "X_train, X_test, y_train, y_test = train_test_split(new_Tweets, labels, test_size=0.30, random_state=2)\n",
        "\n",
        "vectorizer = CountVectorizer(ngram_range=(2,2),token_pattern=r'\\b\\w+\\b',min_df=1,analyzer='word',stop_words=stop)\n",
        "\n",
        "X = vectorizer.fit_transform(X_train)\n",
        "\n",
        "clf = Perceptron(tol=1e-3, random_state=0)\n",
        "\n",
        "clf.fit(X,y_train)\n",
        "X_test=vectorizer.transform(X_test)\n",
        "ans=clf.predict(X_test.toarray())\n",
        "accuracy = accuracy_score(y_test, ans, normalize=True)\n",
        "precision = precision_score(y_test, ans, zero_division=1)\n",
        "recall = recall_score(y_test, ans, zero_division=1)\n",
        "f1 = f1_score(y_test, ans, zero_division=1)\n",
        "\n",
        "print(\"Perceptron Bi-gram\\n\")\n",
        "\n",
        "print(\"Accuracy:\",accuracy,\"\\nPrecision:\",precision, \"\\nRecall Score\",recall,\"\\nF1 Score\",f1)\n"
      ],
      "metadata": {
        "colab": {
          "base_uri": "https://localhost:8080/"
        },
        "id": "MxMqpQugB0Mi",
        "outputId": "41e06222-8165-4bde-83c6-7886c750b984"
      },
      "execution_count": 61,
      "outputs": [
        {
          "output_type": "stream",
          "name": "stdout",
          "text": [
            "Perceptron Bi-gram\n",
            "\n",
            "Accuracy: 0.7118155619596542 \n",
            "Precision: 0.3333333333333333 \n",
            "Recall Score 0.12781954887218044 \n",
            "F1 Score 0.18478260869565216\n"
          ]
        }
      ]
    },
    {
      "cell_type": "markdown",
      "source": [
        "N-Gram"
      ],
      "metadata": {
        "id": "iPs7Gw1WB0iK"
      }
    },
    {
      "cell_type": "code",
      "source": [
        "X_train, X_test, y_train, y_test = train_test_split(new_Tweets, labels, test_size=0.30, random_state=2)\n",
        "\n",
        "vectorizer = CountVectorizer(ngram_range=(3,3),token_pattern=r'\\b\\w+\\b',min_df=1,analyzer='word',stop_words=stop)\n",
        "\n",
        "X = vectorizer.fit_transform(X_train)\n",
        "\n",
        "clf = Perceptron(tol=1e-3, random_state=0)\n",
        "\n",
        "clf.fit(X,y_train)\n",
        "X_test=vectorizer.transform(X_test)\n",
        "ans=clf.predict(X_test.toarray())\n",
        "accuracy = accuracy_score(y_test, ans, normalize=True)\n",
        "precision = precision_score(y_test, ans, zero_division=1)\n",
        "recall = recall_score(y_test, ans, zero_division=1)\n",
        "f1 = f1_score(y_test, ans, zero_division=1)\n",
        "\n",
        "print(\"Perceptron N-gram\\n\")\n",
        "\n",
        "print(\"Accuracy:\",accuracy,\"\\nPrecision:\",precision, \"\\nRecall Score\",recall,\"\\nF1 Score\",f1)\n"
      ],
      "metadata": {
        "colab": {
          "base_uri": "https://localhost:8080/"
        },
        "id": "qoZhp92DB153",
        "outputId": "5fcb7476-78b3-4557-9aa8-a553c271f55f"
      },
      "execution_count": 62,
      "outputs": [
        {
          "output_type": "stream",
          "name": "stdout",
          "text": [
            "Perceptron N-gram\n",
            "\n",
            "Accuracy: 0.74447646493756 \n",
            "Precision: 0.5 \n",
            "Recall Score 0.011278195488721804 \n",
            "F1 Score 0.022058823529411766\n"
          ]
        }
      ]
    },
    {
      "cell_type": "markdown",
      "source": [
        "Multilabel \n"
      ],
      "metadata": {
        "id": "rQAmw35ZbChr"
      }
    },
    {
      "cell_type": "markdown",
      "source": [
        "Naive bayes"
      ],
      "metadata": {
        "id": "xs02df09CSwG"
      }
    },
    {
      "cell_type": "markdown",
      "source": [
        "bag of Words\n"
      ],
      "metadata": {
        "id": "k604LZiNCRfm"
      }
    },
    {
      "cell_type": "code",
      "source": [
        "X_train, X_test, y_train, y_test = train_test_split(Multinew_Tweets, Multi_labels, test_size=0.40, random_state=12)\n",
        "\n",
        "vectorizer = CountVectorizer(analyzer='word',stop_words=stop)\n",
        "\n",
        "X = vectorizer.fit_transform(X_train)\n",
        "\n",
        "clf = OneVsRestClassifier(MultinomialNB()).fit(X,y_train)\n",
        "\n",
        "X_test=vectorizer.transform(X_test)\n",
        "\n",
        "ans=clf.predict(X_test.toarray())\n",
        "\n",
        "# accuracy = accuracy_score(y_test, ans, normalize=True)\n",
        "# precision = precision_score(y_test, ans, zero_division=1,average='micro')\n",
        "# recall = recall_score(y_test, ans, zero_division=1,average='micro')\n",
        "# f1 = f1_score(y_test, ans, zero_division=1,average='micro')\n",
        "\n",
        "accuracy = accuracy_score(y_test, ans, normalize=True)\n",
        "precision = precision_score(y_test, ans, zero_division=1,average='macro')\n",
        "recall = recall_score(y_test, ans, zero_division=1,average='macro')\n",
        "f1 = f1_score(y_test, ans, zero_division=1,average='macro')\n",
        "\n",
        "print(\"Bag of Words Multinomial NB Results\\n\")\n",
        "\n",
        "print(\"Accuracy:\",accuracy,\"\\nPrecision:\",precision, \"\\nRecall Score\",recall,\"\\nF1 Score\",f1)\n"
      ],
      "metadata": {
        "colab": {
          "base_uri": "https://localhost:8080/"
        },
        "id": "SsLXkNzibFki",
        "outputId": "dc4cf6bc-bd1a-4a78-a2e6-a13031ede2b3"
      },
      "execution_count": 92,
      "outputs": [
        {
          "output_type": "stream",
          "name": "stdout",
          "text": [
            "Bag of Words Multinomial NB Results\n",
            "\n",
            "Accuracy: 0.6195965417867435 \n",
            "Precision: 0.6631638970348648 \n",
            "Recall Score 0.1662368364496024 \n",
            "F1 Score 0.15283722727542953\n"
          ]
        }
      ]
    },
    {
      "cell_type": "markdown",
      "source": [
        "TFIDF"
      ],
      "metadata": {
        "id": "Rn65NQvHCWyR"
      }
    },
    {
      "cell_type": "code",
      "source": [
        "X_train, X_test, y_train, y_test = train_test_split(Multinew_Tweets, Multi_labels, test_size=0.40, random_state=12)\n",
        "\n",
        "vectorizer = TfidfVectorizer(use_idf=True,lowercase=True,strip_accents='ascii',stop_words=stop)\n",
        "X = vectorizer.fit_transform(X_train)\n",
        "\n",
        "clf = OneVsRestClassifier(MultinomialNB()).fit(X,y_train)\n",
        "\n",
        "X_test=vectorizer.transform(X_test)\n",
        "ans=clf.predict(X_test.toarray())\n",
        "# accuracy = accuracy_score(y_test, ans, normalize=True)\n",
        "# precision = precision_score(y_test, ans, zero_division=1,average='micro')\n",
        "# recall = recall_score(y_test, ans, zero_division=1,average='micro')\n",
        "# f1 = f1_score(y_test, ans, zero_division=1,average='micro')\n",
        "\n",
        "accuracy = accuracy_score(y_test, ans, normalize=True)\n",
        "precision = precision_score(y_test, ans, zero_division=1,average='macro')\n",
        "recall = recall_score(y_test, ans, zero_division=1,average='macro')\n",
        "f1 = f1_score(y_test, ans, zero_division=1,average='macro')\n",
        "\n",
        "print(\"TfIDF Multinomial NB Results\\n\")\n",
        "\n",
        "print(\"Accuracy:\",accuracy,\"\\nPrecision:\",precision, \"\\nRecall Score\",recall,\"\\nF1 Score\",f1)\n"
      ],
      "metadata": {
        "colab": {
          "base_uri": "https://localhost:8080/"
        },
        "id": "uL3-bpkkCX22",
        "outputId": "ad4ac7b0-b984-4f97-901d-edea2c854ea9"
      },
      "execution_count": 93,
      "outputs": [
        {
          "output_type": "stream",
          "name": "stdout",
          "text": [
            "TfIDF Multinomial NB Results\n",
            "\n",
            "Accuracy: 0.6311239193083573 \n",
            "Precision: 0.9687800192122958 \n",
            "Recall Score 0.16666666666666666 \n",
            "F1 Score 0.1494435612082671\n"
          ]
        }
      ]
    },
    {
      "cell_type": "markdown",
      "source": [
        "Uni-Gram"
      ],
      "metadata": {
        "id": "MVWDh7wbCogP"
      }
    },
    {
      "cell_type": "code",
      "source": [
        "X_train, X_test, y_train, y_test = train_test_split(Multinew_Tweets, Multi_labels, test_size=0.40, random_state=12)\n",
        "\n",
        "vectorizer = CountVectorizer(ngram_range=(1,1),token_pattern=r'\\b\\w+\\b',min_df=1,analyzer='word',stop_words=stop)\n",
        "\n",
        "X = vectorizer.fit_transform(X_train)\n",
        "\n",
        "clf = OneVsRestClassifier(MultinomialNB()).fit(X,y_train)\n",
        "\n",
        "\n",
        "X_test=vectorizer.transform(X_test)\n",
        "\n",
        "ans=clf.predict(X_test.toarray())\n",
        "\n",
        "# accuracy = accuracy_score(y_test, ans, normalize=True)\n",
        "# precision = precision_score(y_test, ans, zero_division=1,average='micro')\n",
        "# recall = recall_score(y_test, ans, zero_division=1,average='micro')\n",
        "# f1 = f1_score(y_test, ans, zero_division=1,average='micro')\n",
        "\n",
        "accuracy = accuracy_score(y_test, ans, normalize=True)\n",
        "precision = precision_score(y_test, ans, zero_division=1,average='macro')\n",
        "recall = recall_score(y_test, ans, zero_division=1,average='macro')\n",
        "f1 = f1_score(y_test, ans, zero_division=1,average='macro')\n",
        "\n",
        "print(\"Uni-Gram Multinomial NB Results\\n\")\n",
        "\n",
        "print(\"Accuracy:\",accuracy,\"\\nPrecision:\",precision, \"\\nRecall Score\",recall,\"\\nF1 Score\",f1)\n"
      ],
      "metadata": {
        "colab": {
          "base_uri": "https://localhost:8080/"
        },
        "id": "fRb_vWxMCpYm",
        "outputId": "18a5edb8-a59f-4a99-f5c0-0d40db9178a0"
      },
      "execution_count": 94,
      "outputs": [
        {
          "output_type": "stream",
          "name": "stdout",
          "text": [
            "Uni-Gram Multinomial NB Results\n",
            "\n",
            "Accuracy: 0.6167146974063401 \n",
            "Precision: 0.6773598820058998 \n",
            "Recall Score 0.1681710724263916 \n",
            "F1 Score 0.15715715715715714\n"
          ]
        }
      ]
    },
    {
      "cell_type": "markdown",
      "source": [
        "Bi-Gram"
      ],
      "metadata": {
        "id": "oz450wdECpz5"
      }
    },
    {
      "cell_type": "code",
      "source": [
        "X_train, X_test, y_train, y_test = train_test_split(Multinew_Tweets, Multi_labels, test_size=0.40, random_state=12)\n",
        "\n",
        "vectorizer = CountVectorizer(ngram_range=(2,2),token_pattern=r'\\b\\w+\\b',min_df=1,analyzer='word',stop_words=stop)\n",
        "\n",
        "X = vectorizer.fit_transform(X_train)\n",
        "\n",
        "clf = OneVsRestClassifier(MultinomialNB()).fit(X,y_train)\n",
        "\n",
        "\n",
        "X_test=vectorizer.transform(X_test)\n",
        "\n",
        "ans=clf.predict(X_test.toarray())\n",
        "\n",
        "# accuracy = accuracy_score(y_test, ans, normalize=True)\n",
        "# precision = precision_score(y_test, ans, zero_division=1,average='micro')\n",
        "# recall = recall_score(y_test, ans, zero_division=1,average='micro')\n",
        "# f1 = f1_score(y_test, ans, zero_division=1,average='micro')\n",
        "\n",
        "accuracy = accuracy_score(y_test, ans, normalize=True)\n",
        "precision = precision_score(y_test, ans, zero_division=1,average='macro')\n",
        "recall = recall_score(y_test, ans, zero_division=1,average='macro')\n",
        "f1 = f1_score(y_test, ans, zero_division=1,average='macro')\n",
        "\n",
        "print(\"Bi-gram Multinomial NB Results\\n\")\n",
        "\n",
        "print(\"Accuracy:\",accuracy,\"\\nPrecision:\",precision, \"\\nRecall Score\",recall,\"\\nF1 Score\",f1)\n"
      ],
      "metadata": {
        "colab": {
          "base_uri": "https://localhost:8080/"
        },
        "id": "PIAT1crzCqiz",
        "outputId": "21f90d2a-338b-4b65-c321-b2c132d924c0"
      },
      "execution_count": 95,
      "outputs": [
        {
          "output_type": "stream",
          "name": "stdout",
          "text": [
            "Bi-gram Multinomial NB Results\n",
            "\n",
            "Accuracy: 0.6282420749279539 \n",
            "Precision: 0.8020231213872832 \n",
            "Recall Score 0.16607565011820333 \n",
            "F1 Score 0.14915074309978768\n"
          ]
        }
      ]
    },
    {
      "cell_type": "markdown",
      "source": [
        "N-gram"
      ],
      "metadata": {
        "id": "jfLnlGs3Cq_W"
      }
    },
    {
      "cell_type": "code",
      "source": [
        "X_train, X_test, y_train, y_test = train_test_split(Multinew_Tweets, Multi_labels, test_size=0.40, random_state=12)\n",
        "\n",
        "vectorizer = CountVectorizer(ngram_range=(3,3),token_pattern=r'\\b\\w+\\b',min_df=1,analyzer='word',stop_words=stop)\n",
        "\n",
        "X = vectorizer.fit_transform(X_train)\n",
        "\n",
        "clf = OneVsRestClassifier(MultinomialNB()).fit(X,y_train)\n",
        "\n",
        "\n",
        "X_test=vectorizer.transform(X_test)\n",
        "\n",
        "ans=clf.predict(X_test.toarray())\n",
        "\n",
        "# accuracy = accuracy_score(y_test, ans, normalize=True)\n",
        "# precision = precision_score(y_test, ans, zero_division=1,average='micro')\n",
        "# recall = recall_score(y_test, ans, zero_division=1,average='micro')\n",
        "# f1 = f1_score(y_test, ans, zero_division=1,average='micro')\n",
        "accuracy = accuracy_score(y_test, ans, normalize=True)\n",
        "precision = precision_score(y_test, ans, zero_division=1,average='macro')\n",
        "recall = recall_score(y_test, ans, zero_division=1,average='macro')\n",
        "f1 = f1_score(y_test, ans, zero_division=1,average='macro')\n",
        "\n",
        "print(\"N-gram Multinomial NB Results\\n\")\n",
        "\n",
        "print(\"Accuracy:\",accuracy,\"\\nPrecision:\",precision, \"\\nRecall Score\",recall,\"\\nF1 Score\",f1)\n"
      ],
      "metadata": {
        "colab": {
          "base_uri": "https://localhost:8080/"
        },
        "id": "a6shvev6Cr3t",
        "outputId": "fffdbfc2-d416-44e7-85c7-02af2616897c"
      },
      "execution_count": 96,
      "outputs": [
        {
          "output_type": "stream",
          "name": "stdout",
          "text": [
            "N-gram Multinomial NB Results\n",
            "\n",
            "Accuracy: 0.6311239193083573 \n",
            "Precision: 0.9687800192122958 \n",
            "Recall Score 0.16666666666666666 \n",
            "F1 Score 0.1494435612082671\n"
          ]
        }
      ]
    },
    {
      "cell_type": "markdown",
      "source": [
        "**Random Forest**"
      ],
      "metadata": {
        "id": "bGshk1-1DAQm"
      }
    },
    {
      "cell_type": "markdown",
      "source": [
        "Bag of words"
      ],
      "metadata": {
        "id": "v730HQFiDGlE"
      }
    },
    {
      "cell_type": "code",
      "source": [
        "X_train, X_test, y_train, y_test = train_test_split(Multinew_Tweets, Multi_labels, test_size=0.40, random_state=32)\n",
        "\n",
        "vectorizer = CountVectorizer(analyzer='word',stop_words=stop)\n",
        "\n",
        "X = vectorizer.fit_transform(X_train)\n",
        "\n",
        "clf = OneVsRestClassifier(RandomForestClassifier(max_depth=2, random_state=2)).fit(X,y_train)\n",
        "\n",
        "X_test=vectorizer.transform(X_test)\n",
        "\n",
        "ans=clf.predict(X_test.toarray())\n",
        "\n",
        "# accuracy = accuracy_score(y_test, ans, normalize=True)\n",
        "# precision = precision_score(y_test, ans, zero_division=1,average='micro')\n",
        "# recall = recall_score(y_test, ans, zero_division=1,average='micro')\n",
        "# f1 = f1_score(y_test, ans, zero_division=1,average='micro')\n",
        "\n",
        "accuracy = accuracy_score(y_test, ans, normalize=True)\n",
        "precision = precision_score(y_test, ans, zero_division=1,average='macro')\n",
        "recall = recall_score(y_test, ans, zero_division=1,average='macro')\n",
        "f1 = f1_score(y_test, ans, zero_division=1,average='macro')\n",
        "\n",
        "print(\"Bag of Words Random Forest Results\\n\")\n",
        "\n",
        "print(\"Accuracy:\",accuracy,\"\\nPrecision:\",precision, \"\\nRecall Score\",recall,\"\\nF1 Score\",f1)\n"
      ],
      "metadata": {
        "colab": {
          "base_uri": "https://localhost:8080/"
        },
        "id": "1dH5GsRbDDWZ",
        "outputId": "f7046ee6-82a0-45f6-e2d2-2c12ea9073a0"
      },
      "execution_count": 97,
      "outputs": [
        {
          "output_type": "stream",
          "name": "stdout",
          "text": [
            "Bag of Words Random Forest Results\n",
            "\n",
            "Accuracy: 0.6023054755043228 \n",
            "Precision: 0.9668587896253603 \n",
            "Recall Score 0.16666666666666666 \n",
            "F1 Score 0.14826666666666669\n"
          ]
        }
      ]
    },
    {
      "cell_type": "markdown",
      "source": [
        "TFIDF"
      ],
      "metadata": {
        "id": "GhN4f7dfDejE"
      }
    },
    {
      "cell_type": "code",
      "source": [
        "X_train, X_test, y_train, y_test = train_test_split(Multinew_Tweets, Multi_labels, test_size=0.40, random_state=19)\n",
        "\n",
        "vectorizer = TfidfVectorizer(use_idf=True,lowercase=True,strip_accents='ascii',stop_words=stop)\n",
        "X = vectorizer.fit_transform(X_train)\n",
        "\n",
        "clf = OneVsRestClassifier(RandomForestClassifier(max_depth=2, random_state=2)).fit(X,y_train)\n",
        "\n",
        "X_test=vectorizer.transform(X_test)\n",
        "ans=clf.predict(X_test.toarray())\n",
        "\n",
        "# accuracy = accuracy_score(y_test, ans, normalize=True)\n",
        "# precision = precision_score(y_test, ans, zero_division=1,average='micro')\n",
        "# recall = recall_score(y_test, ans, zero_division=1,average='micro')\n",
        "# f1 = f1_score(y_test, ans, zero_division=1,average='micro')\n",
        "\n",
        "accuracy = accuracy_score(y_test, ans, normalize=True)\n",
        "precision = precision_score(y_test, ans, zero_division=1,average='macro')\n",
        "recall = recall_score(y_test, ans, zero_division=1,average='macro')\n",
        "f1 = f1_score(y_test, ans, zero_division=1,average='macro')\n",
        "\n",
        "print(\"TfIDF RandomForest Results\\n\")\n",
        "\n",
        "print(\"Accuracy:\",accuracy,\"\\nPrecision:\",precision, \"\\nRecall Score\",recall,\"\\nF1 Score\",f1)\n"
      ],
      "metadata": {
        "colab": {
          "base_uri": "https://localhost:8080/"
        },
        "id": "hrkTGlbaDfQ7",
        "outputId": "7917f374-022c-493b-8900-500ebb4c6687"
      },
      "execution_count": 98,
      "outputs": [
        {
          "output_type": "stream",
          "name": "stdout",
          "text": [
            "TfIDF RandomForest Results\n",
            "\n",
            "Accuracy: 0.6570605187319885 \n",
            "Precision: 0.9726224783861671 \n",
            "Recall Score 0.16666666666666666 \n",
            "F1 Score 0.15175300889586604\n"
          ]
        }
      ]
    },
    {
      "cell_type": "markdown",
      "source": [
        "Uni-gram"
      ],
      "metadata": {
        "id": "YO_asUDGD4f7"
      }
    },
    {
      "cell_type": "code",
      "source": [
        "X_train, X_test, y_train, y_test = train_test_split(Multinew_Tweets, Multi_labels, test_size=0.30, random_state=22)\n",
        "\n",
        "vectorizer = CountVectorizer(ngram_range=(1,1),token_pattern=r'\\b\\w+\\b',min_df=1,analyzer='word',stop_words=stop)\n",
        "\n",
        "X = vectorizer.fit_transform(X_train)\n",
        "\n",
        "clf = OneVsRestClassifier(RandomForestClassifier(max_depth=1, random_state=20)).fit(X,y_train)\n",
        "\n",
        "# clf = MultinomialNB()\n",
        "\n",
        "# clf.fit(X,y_train)\n",
        "\n",
        "X_test=vectorizer.transform(X_test)\n",
        "\n",
        "ans=clf.predict(X_test.toarray())\n",
        "\n",
        "# accuracy = accuracy_score(y_test, ans, normalize=True)\n",
        "# precision = precision_score(y_test, ans, zero_division=1,average='micro')\n",
        "# recall = recall_score(y_test, ans, zero_division=1,average='micro')\n",
        "# f1 = f1_score(y_test, ans, zero_division=1,average='micro')\n",
        "\n",
        "accuracy = accuracy_score(y_test, ans, normalize=True)\n",
        "precision = precision_score(y_test, ans, zero_division=1,average='macro')\n",
        "recall = recall_score(y_test, ans, zero_division=1,average='macro')\n",
        "f1 = f1_score(y_test, ans, zero_division=1,average='macro')\n",
        "\n",
        "print(\"RandomForest Uni-gram Results\\n\")\n",
        "\n",
        "print(\"Accuracy:\",accuracy,\"\\nPrecision:\",precision, \"\\nRecall Score\",recall,\"\\nF1 Score\",f1)\n"
      ],
      "metadata": {
        "colab": {
          "base_uri": "https://localhost:8080/"
        },
        "id": "eaL8qM1FD5nH",
        "outputId": "0710291e-4838-4afd-d888-7e08811bc16d"
      },
      "execution_count": 99,
      "outputs": [
        {
          "output_type": "stream",
          "name": "stdout",
          "text": [
            "RandomForest Uni-gram Results\n",
            "\n",
            "Accuracy: 0.6819923371647509 \n",
            "Precision: 0.9699872286079182 \n",
            "Recall Score 0.16666666666666666 \n",
            "F1 Score 0.15017543859649124\n"
          ]
        }
      ]
    },
    {
      "cell_type": "markdown",
      "source": [
        "BiGram"
      ],
      "metadata": {
        "id": "NzmfP3T9ET4L"
      }
    },
    {
      "cell_type": "code",
      "source": [
        "X_train, X_test, y_train, y_test = train_test_split(Multinew_Tweets, Multi_labels, test_size=0.30, random_state=20)\n",
        "\n",
        "vectorizer = CountVectorizer(ngram_range=(2,2),token_pattern=r'\\b\\w+\\b',min_df=1,analyzer='word',stop_words=stop)\n",
        "\n",
        "X = vectorizer.fit_transform(X_train)\n",
        "\n",
        "clf = OneVsRestClassifier(RandomForestClassifier(max_depth=1, random_state=20)).fit(X,y_train)\n",
        "\n",
        "# clf = MultinomialNB()\n",
        "\n",
        "# clf.fit(X,y_train)\n",
        "\n",
        "X_test=vectorizer.transform(X_test)\n",
        "\n",
        "ans=clf.predict(X_test.toarray())\n",
        "\n",
        "# accuracy = accuracy_score(y_test, ans, normalize=True)\n",
        "# precision = precision_score(y_test, ans, zero_division=1,average='micro')\n",
        "# recall = recall_score(y_test, ans, zero_division=1,average='micro')\n",
        "# f1 = f1_score(y_test, ans, zero_division=1,average='micro')\n",
        "\n",
        "accuracy = accuracy_score(y_test, ans, normalize=True)\n",
        "precision = precision_score(y_test, ans, zero_division=1,average='macro')\n",
        "recall = recall_score(y_test, ans, zero_division=1,average='macro')\n",
        "f1 = f1_score(y_test, ans, zero_division=1,average='macro')\n",
        "\n",
        "print(\"RandomForest Bi-gram Results\\n\")\n",
        "\n",
        "print(\"Accuracy:\",accuracy,\"\\nPrecision:\",precision, \"\\nRecall Score\",recall,\"\\nF1 Score\",f1)\n"
      ],
      "metadata": {
        "colab": {
          "base_uri": "https://localhost:8080/"
        },
        "id": "JQyQXvyEEUtK",
        "outputId": "15f2a824-6760-4f84-ce03-cc67da66bd14"
      },
      "execution_count": 100,
      "outputs": [
        {
          "output_type": "stream",
          "name": "stdout",
          "text": [
            "RandomForest Bi-gram Results\n",
            "\n",
            "Accuracy: 0.6360153256704981 \n",
            "Precision: 0.9712643678160919 \n",
            "Recall Score 0.16666666666666666 \n",
            "F1 Score 0.1509433962264151\n"
          ]
        }
      ]
    },
    {
      "cell_type": "markdown",
      "source": [
        "N-Gram"
      ],
      "metadata": {
        "id": "e6iG4cCyFxMn"
      }
    },
    {
      "cell_type": "code",
      "source": [
        "X_train, X_test, y_train, y_test = train_test_split(Multinew_Tweets, Multi_labels, test_size=0.30, random_state=10)\n",
        "\n",
        "vectorizer = CountVectorizer(ngram_range=(3,3),token_pattern=r'\\b\\w+\\b',min_df=1,analyzer='word',stop_words=stop)\n",
        "\n",
        "X = vectorizer.fit_transform(X_train)\n",
        "\n",
        "clf = OneVsRestClassifier(RandomForestClassifier(max_depth=1, random_state=20)).fit(X,y_train)\n",
        "\n",
        "# clf = MultinomialNB()\n",
        "\n",
        "# clf.fit(X,y_train)\n",
        "\n",
        "X_test=vectorizer.transform(X_test)\n",
        "\n",
        "ans=clf.predict(X_test.toarray())\n",
        "\n",
        "# accuracy = accuracy_score(y_test, ans, normalize=True)\n",
        "# precision = precision_score(y_test, ans, zero_division=1,average='micro')\n",
        "# recall = recall_score(y_test, ans, zero_division=1,average='micro')\n",
        "# f1 = f1_score(y_test, ans, zero_division=1,average='micro')\n",
        "\n",
        "accuracy = accuracy_score(y_test, ans, normalize=True)\n",
        "precision = precision_score(y_test, ans, zero_division=1,average='macro')\n",
        "recall = recall_score(y_test, ans, zero_division=1,average='macro')\n",
        "f1 = f1_score(y_test, ans, zero_division=1,average='macro')\n",
        "\n",
        "print(\"RandomForest n-gram Results\\n\")\n",
        "\n",
        "print(\"Accuracy:\",accuracy,\"\\nPrecision:\",precision, \"\\nRecall Score\",recall,\"\\nF1 Score\",f1)\n"
      ],
      "metadata": {
        "colab": {
          "base_uri": "https://localhost:8080/"
        },
        "id": "zOw_F7u6Fyu2",
        "outputId": "340d9990-0402-4df6-f166-6cf8aa995ba3"
      },
      "execution_count": 101,
      "outputs": [
        {
          "output_type": "stream",
          "name": "stdout",
          "text": [
            "RandomForest n-gram Results\n",
            "\n",
            "Accuracy: 0.685823754789272 \n",
            "Precision: 0.9731800766283524 \n",
            "Recall Score 0.16666666666666666 \n",
            "F1 Score 0.15208333333333332\n"
          ]
        }
      ]
    },
    {
      "cell_type": "markdown",
      "source": [
        "**Logistitc Regression**"
      ],
      "metadata": {
        "id": "Xw2yxymmGhh-"
      }
    },
    {
      "cell_type": "markdown",
      "source": [
        "Bag of Words"
      ],
      "metadata": {
        "id": "sU0RQOkRGknZ"
      }
    },
    {
      "cell_type": "code",
      "source": [
        "X_train, X_test, y_train, y_test = train_test_split(Multinew_Tweets, Multi_labels, test_size=0.40, random_state=32)\n",
        "\n",
        "vectorizer = CountVectorizer(analyzer='word',stop_words=stop)\n",
        "\n",
        "X = vectorizer.fit_transform(X_train)\n",
        "\n",
        "clf = OneVsRestClassifier(LogisticRegression(random_state=0)).fit(X,y_train)\n",
        "\n",
        "# clf = MultinomialNB()\n",
        "\n",
        "# clf.fit(X,y_train)\n",
        "\n",
        "X_test=vectorizer.transform(X_test)\n",
        "\n",
        "ans=clf.predict(X_test.toarray())\n",
        "\n",
        "# accuracy = accuracy_score(y_test, ans, normalize=True)\n",
        "# precision = precision_score(y_test, ans, zero_division=1,average='micro')\n",
        "# recall = recall_score(y_test, ans, zero_division=1,average='micro')\n",
        "# f1 = f1_score(y_test, ans, zero_division=1,average='micro')\n",
        "\n",
        "accuracy = accuracy_score(y_test, ans, normalize=True)\n",
        "precision = precision_score(y_test, ans, zero_division=1,average='macro')\n",
        "recall = recall_score(y_test, ans, zero_division=1,average='macro')\n",
        "f1 = f1_score(y_test, ans, zero_division=1,average='macro')\n",
        "\n",
        "print(\"Bag of Words Logistic Regression Results\\n\")\n",
        "\n",
        "print(\"Accuracy:\",accuracy,\"\\nPrecision:\",precision, \"\\nRecall Score\",recall,\"\\nF1 Score\",f1)\n"
      ],
      "metadata": {
        "colab": {
          "base_uri": "https://localhost:8080/"
        },
        "id": "heAIBI4HGlmb",
        "outputId": "e4093b30-8ed0-4729-8909-27333a2288bf"
      },
      "execution_count": 103,
      "outputs": [
        {
          "output_type": "stream",
          "name": "stdout",
          "text": [
            "Bag of Words Logistic Regression Results\n",
            "\n",
            "Accuracy: 0.5965417867435159 \n",
            "Precision: 0.7999999999999999 \n",
            "Recall Score 0.16546762589928057 \n",
            "F1 Score 0.1476725521669342\n"
          ]
        }
      ]
    },
    {
      "cell_type": "markdown",
      "source": [
        "TFIDF"
      ],
      "metadata": {
        "id": "3diZJRxIGl_E"
      }
    },
    {
      "cell_type": "code",
      "source": [
        "X_train, X_test, y_train, y_test = train_test_split(Multinew_Tweets, Multi_labels, test_size=0.40, random_state=19)\n",
        "\n",
        "vectorizer = TfidfVectorizer(use_idf=True,lowercase=True,strip_accents='ascii',stop_words=stop)\n",
        "X = vectorizer.fit_transform(X_train)\n",
        "\n",
        "clf = OneVsRestClassifier(LogisticRegression(random_state=0)).fit(X,y_train)\n",
        "\n",
        "X_test=vectorizer.transform(X_test)\n",
        "ans=clf.predict(X_test.toarray())\n",
        "\n",
        "# accuracy = accuracy_score(y_test, ans, normalize=True)\n",
        "# precision = precision_score(y_test, ans, zero_division=1,average='micro')\n",
        "# recall = recall_score(y_test, ans, zero_division=1,average='micro')\n",
        "# f1 = f1_score(y_test, ans, zero_division=1,average='micro')\n",
        "\n",
        "accuracy = accuracy_score(y_test, ans, normalize=True)\n",
        "precision = precision_score(y_test, ans, zero_division=1,average='macro')\n",
        "recall = recall_score(y_test, ans, zero_division=1,average='macro')\n",
        "f1 = f1_score(y_test, ans, zero_division=1,average='macro')\n",
        "\n",
        "print(\"TfIDF Logistic Regression Results\\n\")\n",
        "\n",
        "print(\"Accuracy:\",accuracy,\"\\nPrecision:\",precision, \"\\nRecall Score\",recall,\"\\nF1 Score\",f1)\n"
      ],
      "metadata": {
        "colab": {
          "base_uri": "https://localhost:8080/"
        },
        "id": "oDitKaEQGnOv",
        "outputId": "17333e9c-f8dd-4efa-da71-b2344620d672"
      },
      "execution_count": 104,
      "outputs": [
        {
          "output_type": "stream",
          "name": "stdout",
          "text": [
            "TfIDF Logistic Regression Results\n",
            "\n",
            "Accuracy: 0.6570605187319885 \n",
            "Precision: 0.9726224783861671 \n",
            "Recall Score 0.16666666666666666 \n",
            "F1 Score 0.15175300889586604\n"
          ]
        }
      ]
    },
    {
      "cell_type": "markdown",
      "source": [
        "Uni-gram"
      ],
      "metadata": {
        "id": "H736l37jGnat"
      }
    },
    {
      "cell_type": "code",
      "source": [
        "X_train, X_test, y_train, y_test = train_test_split(Multinew_Tweets, Multi_labels, test_size=0.30, random_state=22)\n",
        "\n",
        "vectorizer = CountVectorizer(ngram_range=(1,1),token_pattern=r'\\b\\w+\\b',min_df=1,analyzer='word',stop_words=stop)\n",
        "\n",
        "X = vectorizer.fit_transform(X_train)\n",
        "\n",
        "clf = OneVsRestClassifier(LogisticRegression(random_state=0)).fit(X,y_train)\n",
        "\n",
        "# clf = MultinomialNB()\n",
        "\n",
        "# clf.fit(X,y_train)\n",
        "\n",
        "X_test=vectorizer.transform(X_test)\n",
        "\n",
        "ans=clf.predict(X_test.toarray())\n",
        "\n",
        "# accuracy = accuracy_score(y_test, ans, normalize=True)\n",
        "# precision = precision_score(y_test, ans, zero_division=1,average='micro')\n",
        "# recall = recall_score(y_test, ans, zero_division=1,average='micro')\n",
        "# f1 = f1_score(y_test, ans, zero_division=1,average='micro')\n",
        "\n",
        "accuracy = accuracy_score(y_test, ans, normalize=True)\n",
        "precision = precision_score(y_test, ans, zero_division=1,average='macro')\n",
        "recall = recall_score(y_test, ans, zero_division=1,average='macro')\n",
        "f1 = f1_score(y_test, ans, zero_division=1,average='macro')\n",
        "\n",
        "print(\"Uni-gram Logistic Regression Results\\n\")\n",
        "\n",
        "print(\"Accuracy:\",accuracy,\"\\nPrecision:\",precision, \"\\nRecall Score\",recall,\"\\nF1 Score\",f1)\n"
      ],
      "metadata": {
        "colab": {
          "base_uri": "https://localhost:8080/"
        },
        "id": "IrGB3HxZGoes",
        "outputId": "0ecb4d71-8be9-442f-d84e-f09317248277"
      },
      "execution_count": 105,
      "outputs": [
        {
          "output_type": "stream",
          "name": "stdout",
          "text": [
            "Uni-gram Logistic Regression Results\n",
            "\n",
            "Accuracy: 0.6666666666666666 \n",
            "Precision: 0.802734375 \n",
            "Recall Score 0.16832814122533749 \n",
            "F1 Score 0.15897963852665298\n"
          ]
        }
      ]
    },
    {
      "cell_type": "markdown",
      "source": [
        "Bi-gram"
      ],
      "metadata": {
        "id": "5VCDHxARGoxy"
      }
    },
    {
      "cell_type": "code",
      "source": [
        "X_train, X_test, y_train, y_test = train_test_split(Multinew_Tweets, Multi_labels, test_size=0.30, random_state=22)\n",
        "\n",
        "vectorizer = CountVectorizer(ngram_range=(2,2),token_pattern=r'\\b\\w+\\b',min_df=1,analyzer='word',stop_words=stop)\n",
        "\n",
        "X = vectorizer.fit_transform(X_train)\n",
        "\n",
        "clf = OneVsRestClassifier(LogisticRegression(random_state=0)).fit(X,y_train)\n",
        "\n",
        "# clf = MultinomialNB()\n",
        "\n",
        "# clf.fit(X,y_train)\n",
        "\n",
        "X_test=vectorizer.transform(X_test)\n",
        "\n",
        "ans=clf.predict(X_test.toarray())\n",
        "\n",
        "# accuracy = accuracy_score(y_test, ans, normalize=True)\n",
        "# precision = precision_score(y_test, ans, zero_division=1,average='micro')\n",
        "# recall = recall_score(y_test, ans, zero_division=1,average='micro')\n",
        "# f1 = f1_score(y_test, ans, zero_division=1,average='micro')\n",
        "\n",
        "accuracy = accuracy_score(y_test, ans, normalize=True)\n",
        "precision = precision_score(y_test, ans, zero_division=1,average='macro')\n",
        "recall = recall_score(y_test, ans, zero_division=1,average='macro')\n",
        "f1 = f1_score(y_test, ans, zero_division=1,average='macro')\n",
        "\n",
        "print(\"Bi-gram Logistic Regression Results\\n\")\n",
        "\n",
        "print(\"Accuracy:\",accuracy,\"\\nPrecision:\",precision, \"\\nRecall Score\",recall,\"\\nF1 Score\",f1)\n"
      ],
      "metadata": {
        "colab": {
          "base_uri": "https://localhost:8080/"
        },
        "id": "FLzuLac1Gp1h",
        "outputId": "b0e08890-a610-4c07-ebfc-d6303c32aa31"
      },
      "execution_count": 106,
      "outputs": [
        {
          "output_type": "stream",
          "name": "stdout",
          "text": [
            "Bi-gram Logistic Regression Results\n",
            "\n",
            "Accuracy: 0.6781609195402298 \n",
            "Precision: 0.8032051282051281 \n",
            "Recall Score 0.16588785046728974 \n",
            "F1 Score 0.149789029535865\n"
          ]
        }
      ]
    },
    {
      "cell_type": "markdown",
      "source": [
        "N-Gram"
      ],
      "metadata": {
        "id": "H8wEbr_4GqJV"
      }
    },
    {
      "cell_type": "code",
      "source": [
        "X_train, X_test, y_train, y_test = train_test_split(Multinew_Tweets, Multi_labels, test_size=0.30, random_state=22)\n",
        "\n",
        "vectorizer = CountVectorizer(ngram_range=(3,3),token_pattern=r'\\b\\w+\\b',min_df=1,analyzer='word',stop_words=stop)\n",
        "\n",
        "X = vectorizer.fit_transform(X_train)\n",
        "\n",
        "clf = OneVsRestClassifier(LogisticRegression(random_state=0)).fit(X,y_train)\n",
        "\n",
        "# clf = MultinomialNB()\n",
        "\n",
        "# clf.fit(X,y_train)\n",
        "\n",
        "X_test=vectorizer.transform(X_test)\n",
        "\n",
        "ans=clf.predict(X_test.toarray())\n",
        "\n",
        "# accuracy = accuracy_score(y_test, ans, normalize=True)\n",
        "# precision = precision_score(y_test, ans, zero_division=1,average='micro')\n",
        "# recall = recall_score(y_test, ans, zero_division=1,average='micro')\n",
        "# f1 = f1_score(y_test, ans, zero_division=1,average='micro')\n",
        "\n",
        "accuracy = accuracy_score(y_test, ans, normalize=True)\n",
        "precision = precision_score(y_test, ans, zero_division=1,average='macro')\n",
        "recall = recall_score(y_test, ans, zero_division=1,average='macro')\n",
        "f1 = f1_score(y_test, ans, zero_division=1,average='macro')\n",
        "\n",
        "print(\"n-gram Logistic Regression Results\\n\")\n",
        "\n",
        "print(\"Accuracy:\",accuracy,\"\\nPrecision:\",precision, \"\\nRecall Score\",recall,\"\\nF1 Score\",f1)\n"
      ],
      "metadata": {
        "colab": {
          "base_uri": "https://localhost:8080/"
        },
        "id": "RLRS0ZClGrMn",
        "outputId": "940a29a7-2643-4dd5-a417-7354730fb001"
      },
      "execution_count": 107,
      "outputs": [
        {
          "output_type": "stream",
          "name": "stdout",
          "text": [
            "n-gram Logistic Regression Results\n",
            "\n",
            "Accuracy: 0.6819923371647509 \n",
            "Precision: 0.9699872286079182 \n",
            "Recall Score 0.16666666666666666 \n",
            "F1 Score 0.15017543859649124\n"
          ]
        }
      ]
    },
    {
      "cell_type": "markdown",
      "source": [
        "**SVC**"
      ],
      "metadata": {
        "id": "xyG_slAnHJIS"
      }
    },
    {
      "cell_type": "markdown",
      "source": [
        "Bag of Words"
      ],
      "metadata": {
        "id": "1bX_y0xqHMgr"
      }
    },
    {
      "cell_type": "code",
      "source": [
        "X_train, X_test, y_train, y_test = train_test_split(Multinew_Tweets, Multi_labels, test_size=0.40, random_state=32)\n",
        "\n",
        "vectorizer = CountVectorizer(analyzer='word',stop_words=stop)\n",
        "\n",
        "X = vectorizer.fit_transform(X_train)\n",
        "\n",
        "clf = OneVsRestClassifier(make_pipeline(StandardScaler(with_mean=False), SVC(gamma='auto'))).fit(X,y_train)\n",
        "\n",
        "# clf = MultinomialNB()\n",
        "\n",
        "# clf.fit(X,y_train)\n",
        "\n",
        "X_test=vectorizer.transform(X_test)\n",
        "\n",
        "ans=clf.predict(X_test.toarray())\n",
        "\n",
        "# accuracy = accuracy_score(y_test, ans, normalize=True)\n",
        "# precision = precision_score(y_test, ans, zero_division=1,average='micro')\n",
        "# recall = recall_score(y_test, ans, zero_division=1,average='micro')\n",
        "# f1 = f1_score(y_test, ans, zero_division=1,average='micro')\n",
        "\n",
        "accuracy = accuracy_score(y_test, ans, normalize=True)\n",
        "precision = precision_score(y_test, ans, zero_division=1,average='macro')\n",
        "recall = recall_score(y_test, ans, zero_division=1,average='macro')\n",
        "f1 = f1_score(y_test, ans, zero_division=1,average='macro')\n",
        "\n",
        "print(\"Bag of Words SVC Results\\n\")\n",
        "\n",
        "print(\"Accuracy:\",accuracy,\"\\nPrecision:\",precision, \"\\nRecall Score\",recall,\"\\nF1 Score\",f1)\n"
      ],
      "metadata": {
        "colab": {
          "base_uri": "https://localhost:8080/"
        },
        "id": "ND5fqYYvHRm0",
        "outputId": "b28004fd-4ba0-4a23-91b6-0e0fafb753aa"
      },
      "execution_count": 108,
      "outputs": [
        {
          "output_type": "stream",
          "name": "stdout",
          "text": [
            "Bag of Words SVC Results\n",
            "\n",
            "Accuracy: 0.6023054755043228 \n",
            "Precision: 0.9668587896253603 \n",
            "Recall Score 0.16666666666666666 \n",
            "F1 Score 0.14826666666666669\n"
          ]
        }
      ]
    },
    {
      "cell_type": "markdown",
      "source": [
        "TFIDF"
      ],
      "metadata": {
        "id": "9Z4PkRgjHR8U"
      }
    },
    {
      "cell_type": "code",
      "source": [
        "X_train, X_test, y_train, y_test = train_test_split(Multinew_Tweets, Multi_labels, test_size=0.40, random_state=19)\n",
        "\n",
        "vectorizer = TfidfVectorizer(use_idf=True,lowercase=True,strip_accents='ascii',stop_words=stop)\n",
        "X = vectorizer.fit_transform(X_train)\n",
        "\n",
        "clf = OneVsRestClassifier(make_pipeline(StandardScaler(with_mean=False), SVC(gamma='auto'))).fit(X,y_train)\n",
        "\n",
        "X_test=vectorizer.transform(X_test)\n",
        "ans=clf.predict(X_test.toarray())\n",
        "\n",
        "# accuracy = accuracy_score(y_test, ans, normalize=True)\n",
        "# precision = precision_score(y_test, ans, zero_division=1,average='micro')\n",
        "# recall = recall_score(y_test, ans, zero_division=1,average='micro')\n",
        "# f1 = f1_score(y_test, ans, zero_division=1,average='micro')\n",
        "\n",
        "accuracy = accuracy_score(y_test, ans, normalize=True)\n",
        "precision = precision_score(y_test, ans, zero_division=1,average='macro')\n",
        "recall = recall_score(y_test, ans, zero_division=1,average='macro')\n",
        "f1 = f1_score(y_test, ans, zero_division=1,average='macro')\n",
        "\n",
        "print(\"TfIDF SVC Results\\n\")\n",
        "\n",
        "print(\"Accuracy:\",accuracy,\"\\nPrecision:\",precision, \"\\nRecall Score\",recall,\"\\nF1 Score\",f1)\n"
      ],
      "metadata": {
        "colab": {
          "base_uri": "https://localhost:8080/"
        },
        "id": "g5DVBiYrHSw3",
        "outputId": "fe174d42-fff8-467a-b1d3-9a2daabcf941"
      },
      "execution_count": 109,
      "outputs": [
        {
          "output_type": "stream",
          "name": "stdout",
          "text": [
            "TfIDF SVC Results\n",
            "\n",
            "Accuracy: 0.6570605187319885 \n",
            "Precision: 0.9726224783861671 \n",
            "Recall Score 0.16666666666666666 \n",
            "F1 Score 0.15175300889586604\n"
          ]
        }
      ]
    },
    {
      "cell_type": "markdown",
      "source": [
        "Uni-gram"
      ],
      "metadata": {
        "id": "osjwgIn4HTIN"
      }
    },
    {
      "cell_type": "code",
      "source": [
        "X_train, X_test, y_train, y_test = train_test_split(Multinew_Tweets, Multi_labels, test_size=0.30, random_state=22)\n",
        "\n",
        "vectorizer = CountVectorizer(ngram_range=(1,1),token_pattern=r'\\b\\w+\\b',min_df=1,analyzer='word',stop_words=stop)\n",
        "\n",
        "X = vectorizer.fit_transform(X_train)\n",
        "\n",
        "clf = OneVsRestClassifier(make_pipeline(StandardScaler(with_mean=False), SVC(gamma='auto'))).fit(X,y_train)\n",
        "\n",
        "# clf = MultinomialNB()\n",
        "\n",
        "# clf.fit(X,y_train)\n",
        "\n",
        "X_test=vectorizer.transform(X_test)\n",
        "\n",
        "ans=clf.predict(X_test.toarray())\n",
        "\n",
        "# accuracy = accuracy_score(y_test, ans, normalize=True)\n",
        "# precision = precision_score(y_test, ans, zero_division=1,average='micro')\n",
        "# recall = recall_score(y_test, ans, zero_division=1,average='micro')\n",
        "# f1 = f1_score(y_test, ans, zero_division=1,average='micro')\n",
        "\n",
        "accuracy = accuracy_score(y_test, ans, normalize=True)\n",
        "precision = precision_score(y_test, ans, zero_division=1,average='macro')\n",
        "recall = recall_score(y_test, ans, zero_division=1,average='macro')\n",
        "f1 = f1_score(y_test, ans, zero_division=1,average='macro')\n",
        "\n",
        "print(\"Uni-gram SVC Results\\n\")\n",
        "\n",
        "print(\"Accuracy:\",accuracy,\"\\nPrecision:\",precision, \"\\nRecall Score\",recall,\"\\nF1 Score\",f1)\n"
      ],
      "metadata": {
        "colab": {
          "base_uri": "https://localhost:8080/"
        },
        "id": "IUjrWaGHHUq_",
        "outputId": "a8752d32-8816-47aa-a292-a35a7e0bf6f1"
      },
      "execution_count": 110,
      "outputs": [
        {
          "output_type": "stream",
          "name": "stdout",
          "text": [
            "Uni-gram SVC Results\n",
            "\n",
            "Accuracy: 0.6819923371647509 \n",
            "Precision: 0.9699872286079182 \n",
            "Recall Score 0.16666666666666666 \n",
            "F1 Score 0.15017543859649124\n"
          ]
        }
      ]
    },
    {
      "cell_type": "markdown",
      "source": [
        "Bi-gram"
      ],
      "metadata": {
        "id": "-CVmqz7sHVNN"
      }
    },
    {
      "cell_type": "code",
      "source": [
        "X_train, X_test, y_train, y_test = train_test_split(Multinew_Tweets, Multi_labels, test_size=0.30, random_state=22)\n",
        "\n",
        "vectorizer = CountVectorizer(ngram_range=(2,2),token_pattern=r'\\b\\w+\\b',min_df=1,analyzer='word',stop_words=stop)\n",
        "\n",
        "X = vectorizer.fit_transform(X_train)\n",
        "\n",
        "clf = OneVsRestClassifier(make_pipeline(StandardScaler(with_mean=False), SVC(gamma='auto'))).fit(X,y_train)\n",
        "\n",
        "# clf = MultinomialNB()\n",
        "\n",
        "# clf.fit(X,y_train)\n",
        "\n",
        "X_test=vectorizer.transform(X_test)\n",
        "\n",
        "ans=clf.predict(X_test.toarray())\n",
        "\n",
        "# accuracy = accuracy_score(y_test, ans, normalize=True)\n",
        "# precision = precision_score(y_test, ans, zero_division=1,average='micro')\n",
        "# recall = recall_score(y_test, ans, zero_division=1,average='micro')\n",
        "# f1 = f1_score(y_test, ans, zero_division=1,average='micro')\n",
        "\n",
        "accuracy = accuracy_score(y_test, ans, normalize=True)\n",
        "precision = precision_score(y_test, ans, zero_division=1,average='macro')\n",
        "recall = recall_score(y_test, ans, zero_division=1,average='macro')\n",
        "f1 = f1_score(y_test, ans, zero_division=1,average='macro')\n",
        "\n",
        "print(\"Bi-gram SVC Results\\n\")\n",
        "\n",
        "print(\"Accuracy:\",accuracy,\"\\nPrecision:\",precision, \"\\nRecall Score\",recall,\"\\nF1 Score\",f1)\n"
      ],
      "metadata": {
        "colab": {
          "base_uri": "https://localhost:8080/"
        },
        "id": "_pCLd5dnHWi1",
        "outputId": "13a6d118-82ef-4a02-a5bf-32f591bd4b32"
      },
      "execution_count": 111,
      "outputs": [
        {
          "output_type": "stream",
          "name": "stdout",
          "text": [
            "Bi-gram SVC Results\n",
            "\n",
            "Accuracy: 0.6819923371647509 \n",
            "Precision: 0.9699872286079182 \n",
            "Recall Score 0.16666666666666666 \n",
            "F1 Score 0.15017543859649124\n"
          ]
        }
      ]
    },
    {
      "cell_type": "markdown",
      "source": [
        "Tri-gram"
      ],
      "metadata": {
        "id": "PIVyh-qdHW6K"
      }
    },
    {
      "cell_type": "code",
      "source": [
        "X_train, X_test, y_train, y_test = train_test_split(Multinew_Tweets, Multi_labels, test_size=0.30, random_state=22)\n",
        "\n",
        "vectorizer = CountVectorizer(ngram_range=(3,3),token_pattern=r'\\b\\w+\\b',min_df=1,analyzer='word',stop_words=stop)\n",
        "\n",
        "X = vectorizer.fit_transform(X_train)\n",
        "\n",
        "clf = OneVsRestClassifier(make_pipeline(StandardScaler(with_mean=False), SVC(gamma='auto'))).fit(X,y_train)\n",
        "\n",
        "# clf = MultinomialNB()\n",
        "\n",
        "# clf.fit(X,y_train)\n",
        "\n",
        "X_test=vectorizer.transform(X_test)\n",
        "\n",
        "ans=clf.predict(X_test.toarray())\n",
        "\n",
        "# accuracy = accuracy_score(y_test, ans, normalize=True)\n",
        "# precision = precision_score(y_test, ans, zero_division=1,average='micro')\n",
        "# recall = recall_score(y_test, ans, zero_division=1,average='micro')\n",
        "# f1 = f1_score(y_test, ans, zero_division=1,average='micro')\n",
        "\n",
        "accuracy = accuracy_score(y_test, ans, normalize=True)\n",
        "precision = precision_score(y_test, ans, zero_division=1,average='macro')\n",
        "recall = recall_score(y_test, ans, zero_division=1,average='macro')\n",
        "f1 = f1_score(y_test, ans, zero_division=1,average='macro')\n",
        "\n",
        "print(\"n-gram SVC Results\\n\")\n",
        "\n",
        "print(\"Accuracy:\",accuracy,\"\\nPrecision:\",precision, \"\\nRecall Score\",recall,\"\\nF1 Score\",f1)\n"
      ],
      "metadata": {
        "colab": {
          "base_uri": "https://localhost:8080/"
        },
        "id": "ELF0xNtWHX_E",
        "outputId": "1bb2112a-1081-461c-b21f-cd98277499f9"
      },
      "execution_count": 112,
      "outputs": [
        {
          "output_type": "stream",
          "name": "stdout",
          "text": [
            "n-gram SVC Results\n",
            "\n",
            "Accuracy: 0.6819923371647509 \n",
            "Precision: 0.9699872286079182 \n",
            "Recall Score 0.16666666666666666 \n",
            "F1 Score 0.15017543859649124\n"
          ]
        }
      ]
    },
    {
      "cell_type": "markdown",
      "source": [
        "**Perceptron**"
      ],
      "metadata": {
        "id": "NqYLMQ9yH1NV"
      }
    },
    {
      "cell_type": "markdown",
      "source": [
        "Bag of words"
      ],
      "metadata": {
        "id": "GbjZYWFVH3_v"
      }
    },
    {
      "cell_type": "code",
      "source": [
        "X_train, X_test, y_train, y_test = train_test_split(Multinew_Tweets, Multi_labels, test_size=0.40, random_state=32)\n",
        "\n",
        "vectorizer = CountVectorizer(analyzer='word',stop_words=stop)\n",
        "\n",
        "X = vectorizer.fit_transform(X_train)\n",
        "\n",
        "clf = OneVsRestClassifier(Perceptron(tol=1e-3, random_state=0)).fit(X,y_train)\n",
        "\n",
        "# clf = MultinomialNB()\n",
        "\n",
        "# clf.fit(X,y_train)\n",
        "\n",
        "X_test=vectorizer.transform(X_test)\n",
        "\n",
        "ans=clf.predict(X_test.toarray())\n",
        "\n",
        "# accuracy = accuracy_score(y_test, ans, normalize=True)\n",
        "# precision = precision_score(y_test, ans, zero_division=1,average='micro')\n",
        "# recall = recall_score(y_test, ans, zero_division=1,average='micro')\n",
        "# f1 = f1_score(y_test, ans, zero_division=1,average='micro')\n",
        "\n",
        "accuracy = accuracy_score(y_test, ans, normalize=True)\n",
        "precision = precision_score(y_test, ans, zero_division=1,average='macro')\n",
        "recall = recall_score(y_test, ans, zero_division=1,average='macro')\n",
        "f1 = f1_score(y_test, ans, zero_division=1,average='macro')\n",
        "\n",
        "print(\"Bag of Words Perceptron Results\\n\")\n",
        "\n",
        "print(\"Accuracy:\",accuracy,\"\\nPrecision:\",precision, \"\\nRecall Score\",recall,\"\\nF1 Score\",f1)\n"
      ],
      "metadata": {
        "colab": {
          "base_uri": "https://localhost:8080/"
        },
        "id": "N9nipUw0H40u",
        "outputId": "9f759410-1c6f-4c27-e256-ca9b13971ada"
      },
      "execution_count": 113,
      "outputs": [
        {
          "output_type": "stream",
          "name": "stdout",
          "text": [
            "Bag of Words Perceptron Results\n",
            "\n",
            "Accuracy: 0.5273775216138329 \n",
            "Precision: 0.2402844543051618 \n",
            "Recall Score 0.1998407996292042 \n",
            "F1 Score 0.20962897165727357\n"
          ]
        }
      ]
    },
    {
      "cell_type": "markdown",
      "source": [
        "TFIDF"
      ],
      "metadata": {
        "id": "wMYdvyl5H5LL"
      }
    },
    {
      "cell_type": "code",
      "source": [
        "X_train, X_test, y_train, y_test = train_test_split(Multinew_Tweets, Multi_labels, test_size=0.40, random_state=22)\n",
        "\n",
        "vectorizer = TfidfVectorizer(use_idf=True,lowercase=True,strip_accents='ascii',stop_words=stop)\n",
        "X = vectorizer.fit_transform(X_train)\n",
        "\n",
        "clf = OneVsRestClassifier(Perceptron(tol=1e-3, random_state=0)).fit(X,y_train)\n",
        "\n",
        "X_test=vectorizer.transform(X_test)\n",
        "ans=clf.predict(X_test.toarray())\n",
        "\n",
        "# accuracy = accuracy_score(y_test, ans, normalize=True)\n",
        "# precision = precision_score(y_test, ans, zero_division=1,average='micro')\n",
        "# recall = recall_score(y_test, ans, zero_division=1,average='micro')\n",
        "# f1 = f1_score(y_test, ans, zero_division=1,average='micro')\n",
        "\n",
        "accuracy = accuracy_score(y_test, ans, normalize=True)\n",
        "precision = precision_score(y_test, ans, zero_division=1,average='macro')\n",
        "recall = recall_score(y_test, ans, zero_division=1,average='macro')\n",
        "f1 = f1_score(y_test, ans, zero_division=1,average='macro')\n",
        "\n",
        "print(\"TfIDF Perceptron Results\\n\")\n",
        "\n",
        "print(\"Accuracy:\",accuracy,\"\\nPrecision:\",precision, \"\\nRecall Score\",recall,\"\\nF1 Score\",f1)\n"
      ],
      "metadata": {
        "colab": {
          "base_uri": "https://localhost:8080/"
        },
        "id": "EhjaJVGlH6FF",
        "outputId": "1fe63295-450a-4f2c-c607-b5493f1af1f3"
      },
      "execution_count": 114,
      "outputs": [
        {
          "output_type": "stream",
          "name": "stdout",
          "text": [
            "TfIDF Perceptron Results\n",
            "\n",
            "Accuracy: 0.521613832853026 \n",
            "Precision: 0.22982283226550426 \n",
            "Recall Score 0.2282526732896585 \n",
            "F1 Score 0.22854941690814332\n"
          ]
        }
      ]
    },
    {
      "cell_type": "markdown",
      "source": [
        "Uni-gram\n"
      ],
      "metadata": {
        "id": "kkx-phzgH5vF"
      }
    },
    {
      "cell_type": "code",
      "source": [
        "X_train, X_test, y_train, y_test = train_test_split(Multinew_Tweets, Multi_labels, test_size=0.30, random_state=22)\n",
        "\n",
        "vectorizer = CountVectorizer(ngram_range=(1,1),token_pattern=r'\\b\\w+\\b',min_df=1,analyzer='word',stop_words=stop)\n",
        "\n",
        "X = vectorizer.fit_transform(X_train)\n",
        "\n",
        "clf = OneVsRestClassifier(Perceptron(tol=1e-3, random_state=0)).fit(X,y_train)\n",
        "\n",
        "X_test=vectorizer.transform(X_test)\n",
        "\n",
        "ans=clf.predict(X_test.toarray())\n",
        "\n",
        "# accuracy = accuracy_score(y_test, ans, normalize=True)\n",
        "# precision = precision_score(y_test, ans, zero_division=1,average='micro')\n",
        "# recall = recall_score(y_test, ans, zero_division=1,average='micro')\n",
        "# f1 = f1_score(y_test, ans, zero_division=1,average='micro')\n",
        "\n",
        "accuracy = accuracy_score(y_test, ans, normalize=True)\n",
        "precision = precision_score(y_test, ans, zero_division=1,average='macro')\n",
        "recall = recall_score(y_test, ans, zero_division=1,average='macro')\n",
        "f1 = f1_score(y_test, ans, zero_division=1,average='macro')\n",
        "\n",
        "print(\"Uni-gram Perceptron Results\\n\")\n",
        "\n",
        "print(\"Accuracy:\",accuracy,\"\\nPrecision:\",precision, \"\\nRecall Score\",recall,\"\\nF1 Score\",f1)\n"
      ],
      "metadata": {
        "colab": {
          "base_uri": "https://localhost:8080/"
        },
        "id": "4-8iFVLdH8B3",
        "outputId": "9e7bc062-57d4-4064-8069-ce1b606f0a9f"
      },
      "execution_count": 118,
      "outputs": [
        {
          "output_type": "stream",
          "name": "stdout",
          "text": [
            "Uni-gram Perceptron Results\n",
            "\n",
            "Accuracy: 0.5172413793103449 \n",
            "Precision: 0.3764705882352941 \n",
            "Recall Score 0.2139667705088266 \n",
            "F1 Score 0.211433298502264\n"
          ]
        }
      ]
    },
    {
      "cell_type": "markdown",
      "source": [
        "Bi-gram"
      ],
      "metadata": {
        "id": "FEB58XAYH8Zi"
      }
    },
    {
      "cell_type": "code",
      "source": [
        "X_train, X_test, y_train, y_test = train_test_split(Multinew_Tweets, Multi_labels, test_size=0.30, random_state=22)\n",
        "\n",
        "vectorizer = CountVectorizer(ngram_range=(2,2),token_pattern=r'\\b\\w+\\b',min_df=1,analyzer='word',stop_words=stop)\n",
        "\n",
        "X = vectorizer.fit_transform(X_train)\n",
        "\n",
        "clf = OneVsRestClassifier(Perceptron(tol=1e-3, random_state=0)).fit(X,y_train)\n",
        "\n",
        "# clf = MultinomialNB()\n",
        "\n",
        "# clf.fit(X,y_train)\n",
        "\n",
        "X_test=vectorizer.transform(X_test)\n",
        "\n",
        "ans=clf.predict(X_test.toarray())\n",
        "\n",
        "# accuracy = accuracy_score(y_test, ans, normalize=True)\n",
        "# precision = precision_score(y_test, ans, zero_division=1,average='micro')\n",
        "# recall = recall_score(y_test, ans, zero_division=1,average='micro')\n",
        "# f1 = f1_score(y_test, ans, zero_division=1,average='micro')\n",
        "\n",
        "accuracy = accuracy_score(y_test, ans, normalize=True)\n",
        "precision = precision_score(y_test, ans, zero_division=1,average='macro')\n",
        "recall = recall_score(y_test, ans, zero_division=1,average='macro')\n",
        "f1 = f1_score(y_test, ans, zero_division=1,average='macro')\n",
        "\n",
        "print(\"Bi-gram Perceptron Results\\n\")\n",
        "\n",
        "print(\"Accuracy:\",accuracy,\"\\nPrecision:\",precision, \"\\nRecall Score\",recall,\"\\nF1 Score\",f1)\n"
      ],
      "metadata": {
        "colab": {
          "base_uri": "https://localhost:8080/"
        },
        "id": "zMMkKWdVH9UI",
        "outputId": "7363c1f1-9aa2-4800-80cc-822e6553dc65"
      },
      "execution_count": 116,
      "outputs": [
        {
          "output_type": "stream",
          "name": "stdout",
          "text": [
            "Bi-gram Perceptron Results\n",
            "\n",
            "Accuracy: 0.6590038314176245 \n",
            "Precision: 0.4517195767195767 \n",
            "Recall Score 0.1792705088265836 \n",
            "F1 Score 0.17996659616266575\n"
          ]
        }
      ]
    },
    {
      "cell_type": "markdown",
      "source": [
        "Tri-gram"
      ],
      "metadata": {
        "id": "DsnurDyHH91j"
      }
    },
    {
      "cell_type": "code",
      "source": [
        "X_train, X_test, y_train, y_test = train_test_split(Multinew_Tweets, Multi_labels, test_size=0.30, random_state=22)\n",
        "\n",
        "vectorizer = CountVectorizer(ngram_range=(3,3),token_pattern=r'\\b\\w+\\b',min_df=1,analyzer='word',stop_words=stop)\n",
        "\n",
        "X = vectorizer.fit_transform(X_train)\n",
        "\n",
        "clf = OneVsRestClassifier(Perceptron(tol=1e-3, random_state=0)).fit(X,y_train)\n",
        "\n",
        "# clf = MultinomialNB()\n",
        "\n",
        "# clf.fit(X,y_train)\n",
        "\n",
        "X_test=vectorizer.transform(X_test)\n",
        "\n",
        "ans=clf.predict(X_test.toarray())\n",
        "\n",
        "# accuracy = accuracy_score(y_test, ans, normalize=True)\n",
        "# precision = precision_score(y_test, ans, zero_division=1,average='micro')\n",
        "# recall = recall_score(y_test, ans, zero_division=1,average='micro')\n",
        "# f1 = f1_score(y_test, ans, zero_division=1,average='micro')\n",
        "\n",
        "accuracy = accuracy_score(y_test, ans, normalize=True)\n",
        "precision = precision_score(y_test, ans, zero_division=1,average='macro')\n",
        "recall = recall_score(y_test, ans, zero_division=1,average='macro')\n",
        "f1 = f1_score(y_test, ans, zero_division=1,average='macro')\n",
        "\n",
        "print(\"n-gram Perceptron Results\\n\")\n",
        "\n",
        "print(\"Accuracy:\",accuracy,\"\\nPrecision:\",precision, \"\\nRecall Score\",recall,\"\\nF1 Score\",f1)\n"
      ],
      "metadata": {
        "colab": {
          "base_uri": "https://localhost:8080/"
        },
        "id": "4YCRL2RpH-1a",
        "outputId": "5a8aab90-8b8a-4627-c0dc-43f16caa2550"
      },
      "execution_count": 119,
      "outputs": [
        {
          "output_type": "stream",
          "name": "stdout",
          "text": [
            "n-gram Perceptron Results\n",
            "\n",
            "Accuracy: 0.6781609195402298 \n",
            "Precision: 0.8032051282051281 \n",
            "Recall Score 0.16588785046728974 \n",
            "F1 Score 0.149789029535865\n"
          ]
        }
      ]
    },
    {
      "cell_type": "code",
      "source": [
        "# It was the function which can also be used for the multilabel classification, but data was already classified so no need ot use it.\n",
        "\n",
        "def detectSarcastic():\n",
        "  arr=df[\"sarcastic\"]\n",
        "  labels=[]\n",
        "  temp=[]\n",
        "  for x in range(0,len(arr)-1):\n",
        "    if arr[x]==1:\n",
        "      if df[\"sarcasm\"][x]==1:\n",
        "        temp.append(\"sarcasm\")\n",
        "      if df[\"irony\"][x]==1:\n",
        "        temp.append(\"irony\")\n",
        "      if df[\"satire\"][x]==1:\n",
        "        temp.append(\"satire\")\n",
        "      if df[\"understatement\"][x]==1:\n",
        "        temp.append(\"understatement\")\n",
        "      if df[\"overstatement\"][x]==1:\n",
        "        temp.append(\"overstatement\")\n",
        "      if df[\"rhetorical_question\"][x]==1:\n",
        "        temp.append(\"rhetorical_question\")\n",
        "\n",
        "      labels.append(temp)\n",
        "      temp=[]\n",
        "\n",
        "  print(labels)\n"
      ],
      "metadata": {
        "id": "O3alzFQl4Myv"
      },
      "execution_count": 117,
      "outputs": []
    }
  ]
}